{
  "nbformat": 4,
  "nbformat_minor": 0,
  "metadata": {
    "colab": {
      "provenance": [],
      "collapsed_sections": [
        "S5EmRPca9cqZ"
      ]
    },
    "kernelspec": {
      "name": "python3",
      "display_name": "Python 3"
    },
    "language_info": {
      "name": "python"
    }
  },
  "cells": [
    {
      "cell_type": "markdown",
      "source": [
        "# Assignment 02\n",
        "\n",
        "Name: Riyanshi Goyal\n",
        "\n",
        "Roll Number: 12041240\n",
        "\n",
        "References Used to Complete the Assignment\n",
        "\n",
        "1. https://towardsdatascience.com/ \n",
        "2. https://www.geeksforgeeks.org/\n",
        "3. https://machinelearningmastery.com/\n",
        "4. https://medium.com/\n",
        "5. https://scikit-learn.org/stable/\n",
        "6. https://www.analyticsvidhya.com/blog/2020/09/precision-recall-machine-learning/\n",
        "7. https://www.ritchieng.com/\n",
        "8. class notes\n",
        "\n"
      ],
      "metadata": {
        "id": "rgugb71cgFEQ"
      }
    },
    {
      "cell_type": "markdown",
      "source": [
        "## Part A: Multi-Class Classification\n",
        "\n",
        "Captchas were invented to prevent bots from attacking websites. But the ML models are breaking captchas. Thus, stronger captchas are being invented. In this part, we will train a ML model to break hcaptcha (https://www.hcaptcha.com/ )!!\n",
        "\n",
        "Please download the following dataset: https://github.com/sarang-iitb/H-captcha-dataset"
      ],
      "metadata": {
        "id": "2uCmvBktgMT-"
      }
    },
    {
      "cell_type": "markdown",
      "source": [
        "### 0. Load the dataset"
      ],
      "metadata": {
        "id": "S5EmRPca9cqZ"
      }
    },
    {
      "cell_type": "code",
      "source": [
        "# cloning\n",
        "!git clone https://github.com/sarang-iitb/H-captcha-dataset"
      ],
      "metadata": {
        "colab": {
          "base_uri": "https://localhost:8080/"
        },
        "id": "QCSuSnvCAXyd",
        "outputId": "f81fdb0e-9d23-4e75-ec23-6ddd8cba6b78"
      },
      "execution_count": null,
      "outputs": [
        {
          "output_type": "stream",
          "name": "stdout",
          "text": [
            "Cloning into 'H-captcha-dataset'...\n",
            "remote: Enumerating objects: 3, done.\u001b[K\n",
            "remote: Counting objects: 100% (3/3), done.\u001b[K\n",
            "remote: Compressing objects: 100% (2/2), done.\u001b[K\n",
            "remote: Total 3 (delta 0), reused 0 (delta 0), pack-reused 0\u001b[K\n",
            "Unpacking objects: 100% (3/3), done.\n"
          ]
        }
      ]
    },
    {
      "cell_type": "code",
      "source": [
        "import zipfile\n",
        "def unzip_data(filename):\n",
        "  \"\"\"\n",
        "  Unzips filename into the current working directory.\n",
        "\n",
        "  Args:\n",
        "    filename (str): a filepath to a target zip folder to be unzipped.\n",
        "  \"\"\"\n",
        "  zip_ref = zipfile.ZipFile(filename, \"r\")\n",
        "  zip_ref.extractall()\n",
        "  zip_ref.close()"
      ],
      "metadata": {
        "id": "iznH0goi-Ccw"
      },
      "execution_count": null,
      "outputs": []
    },
    {
      "cell_type": "code",
      "source": [
        "unzip_data('/content/H-captcha-dataset/hcaptcha_dataset.zip')"
      ],
      "metadata": {
        "id": "EIjlbj27-ylp"
      },
      "execution_count": null,
      "outputs": []
    },
    {
      "cell_type": "markdown",
      "source": [
        "### 1. Data Cleaning and Visualization"
      ],
      "metadata": {
        "id": "x70cI2sgmhB-"
      }
    },
    {
      "cell_type": "markdown",
      "source": [
        "a) Check out the labels in the dataset. How many images belong to each class?"
      ],
      "metadata": {
        "id": "QYeAFy1BnCkt"
      }
    },
    {
      "cell_type": "code",
      "source": [
        "import os\n",
        "li_train = os.listdir(\"/content/hcaptcha_dataset/train\")\n",
        "li_test = os.listdir(\"/content/hcaptcha_dataset/test\")\n",
        "print(\"labels in the given dataset are: \", li_train )"
      ],
      "metadata": {
        "colab": {
          "base_uri": "https://localhost:8080/"
        },
        "id": "EEWv8GJc8OZs",
        "outputId": "5cdc6a09-2f61-4cd1-cc67-c9c2aa4943a1"
      },
      "execution_count": null,
      "outputs": [
        {
          "output_type": "stream",
          "name": "stdout",
          "text": [
            "labels in the given dataset are:  ['bicycle', 'boat', 'motorbus', 'airplane', 'motorcycle', 'truck', 'seaplane']\n"
          ]
        }
      ]
    },
    {
      "cell_type": "code",
      "source": [
        "#for train dataset\n",
        "for label in li_train:\n",
        "  count=0\n",
        "  x= os.listdir(\"/content/hcaptcha_dataset/train/\"+label)\n",
        "  for i in x:\n",
        "    count+=1\n",
        "  print(\"Number of images in class\",label,\": \",count)"
      ],
      "metadata": {
        "colab": {
          "base_uri": "https://localhost:8080/"
        },
        "id": "EZcgITlE6KHC",
        "outputId": "32c933ce-c819-4359-847a-12f88624cc52"
      },
      "execution_count": null,
      "outputs": [
        {
          "output_type": "stream",
          "name": "stdout",
          "text": [
            "Number of images in class bicycle :  304\n",
            "Number of images in class boat :  528\n",
            "Number of images in class motorbus :  256\n",
            "Number of images in class airplane :  402\n",
            "Number of images in class motorcycle :  592\n",
            "Number of images in class truck :  656\n",
            "Number of images in class seaplane :  280\n"
          ]
        }
      ]
    },
    {
      "cell_type": "code",
      "source": [
        "#for test dataset\n",
        "for label in li_test:\n",
        "  count_test=0\n",
        "  x= os.listdir(\"/content/hcaptcha_dataset/test/\"+label)\n",
        "  for i in x:\n",
        "    count_test+=1\n",
        "  print(\"Number of images in class\",label,\": \",count_test)"
      ],
      "metadata": {
        "colab": {
          "base_uri": "https://localhost:8080/"
        },
        "id": "99z8-18y_q1w",
        "outputId": "338e1fd2-4047-415f-805f-528d663b5a21"
      },
      "execution_count": null,
      "outputs": [
        {
          "output_type": "stream",
          "name": "stdout",
          "text": [
            "Number of images in class bicycle :  71\n",
            "Number of images in class boat :  134\n",
            "Number of images in class motorbus :  61\n",
            "Number of images in class airplane :  101\n",
            "Number of images in class motorcycle :  141\n",
            "Number of images in class truck :  163\n",
            "Number of images in class seaplane :  75\n"
          ]
        }
      ]
    },
    {
      "cell_type": "markdown",
      "source": [
        "b) How many train and test images are present in your dataset? "
      ],
      "metadata": {
        "id": "x4gcuHWqnULF"
      }
    },
    {
      "cell_type": "code",
      "source": [
        "#for train data\n",
        "cnt_train=0\n",
        "for label in li_train:\n",
        "  x= os.listdir(\"/content/hcaptcha_dataset/train/\"+label)\n",
        "  for i in x:\n",
        "    cnt_train+=1\n",
        "print(\"Number of images in train dataset: \",cnt_train)"
      ],
      "metadata": {
        "id": "FQMa2ZRu8edp",
        "colab": {
          "base_uri": "https://localhost:8080/"
        },
        "outputId": "54d4d333-bfd2-4043-fc4a-110a568ddfdf"
      },
      "execution_count": null,
      "outputs": [
        {
          "output_type": "stream",
          "name": "stdout",
          "text": [
            "Number of images in train dataset:  3018\n"
          ]
        }
      ]
    },
    {
      "cell_type": "code",
      "source": [
        "#for test data\n",
        "cnt_test=0\n",
        "for label in li_train:\n",
        "  x= os.listdir(\"/content/hcaptcha_dataset/test/\"+label)\n",
        "  for i in x:\n",
        "    cnt_test+=1\n",
        "print(\"Number of images in test dataset: \",cnt_test)"
      ],
      "metadata": {
        "colab": {
          "base_uri": "https://localhost:8080/"
        },
        "id": "H0HoJ3E0_NJq",
        "outputId": "1772d454-af9a-4591-9f45-0b516d296e07"
      },
      "execution_count": null,
      "outputs": [
        {
          "output_type": "stream",
          "name": "stdout",
          "text": [
            "Number of images in test dataset:  746\n"
          ]
        }
      ]
    },
    {
      "cell_type": "markdown",
      "source": [
        "c) Write a function to display a random image and its shape. Find out whether\n",
        "the shape of each image is the same or not. If not then make all images of the\n",
        "same shape."
      ],
      "metadata": {
        "id": "cEBrdgZ_nYxV"
      }
    },
    {
      "cell_type": "code",
      "source": [
        "import matplotlib.pyplot as plt\n",
        "from PIL import Image, ImageOps\n",
        "import random"
      ],
      "metadata": {
        "id": "flpf56cItGdX"
      },
      "execution_count": null,
      "outputs": []
    },
    {
      "cell_type": "code",
      "source": [
        "# display a random image\n",
        "type_ls=random.choice(['train','test'])\n",
        "tls= os.listdir(\"/content/hcaptcha_dataset/\"+type_ls) \n",
        "rand_label=random.choice(tls)\n",
        "print(rand_label)\n",
        "a= os.listdir(\"/content/hcaptcha_dataset/\"+type_ls+\"/\"+rand_label) \n",
        "b=random.choice(a) \n",
        "rand_image = plt.imread('/content/hcaptcha_dataset/train/'+rand_label+'/'+b)\n",
        "plt.imshow(rand_image)\n",
        "plt.show()\n",
        "print(rand_image.shape) "
      ],
      "metadata": {
        "id": "qBnVzQl48d8h",
        "colab": {
          "base_uri": "https://localhost:8080/",
          "height": 303
        },
        "outputId": "6c4eb0bc-fba9-4513-ee2f-b052545668da"
      },
      "execution_count": null,
      "outputs": [
        {
          "output_type": "stream",
          "name": "stdout",
          "text": [
            "truck\n"
          ]
        },
        {
          "output_type": "display_data",
          "data": {
            "text/plain": [
              "<Figure size 432x288 with 1 Axes>"
            ],
            "image/png": "[encoded data removed]"
          },
          "metadata": {
            "needs_background": "light"
          }
        },
        {
          "output_type": "stream",
          "name": "stdout",
          "text": [
            "(128, 128, 3)\n"
          ]
        }
      ]
    },
    {
      "cell_type": "code",
      "source": [
        "#the shape of most of the images is same ie (128,128,3) but there are a few images whose shape is different. So we need to make the shape of all the images same ie (128,128,3)\n",
        "\n",
        "#for train data\n",
        "for label in li_train:\n",
        "  x= os.listdir(\"/content/hcaptcha_dataset/train/\"+label)\n",
        "  for i in x:\n",
        "    pil_im = Image.open('/content/hcaptcha_dataset/train/'+label+'/'+i)\n",
        "    out = pil_im.resize((128,128))\n",
        "    out.save('/content/hcaptcha_dataset/train/'+label+'/'+i)\n",
        "\n",
        "#for test data\n",
        "for label in li_test:\n",
        "  x= os.listdir(\"/content/hcaptcha_dataset/test/\"+label)\n",
        "  for i in x:\n",
        "    pil_im = Image.open('/content/hcaptcha_dataset/test/'+label+'/'+i)\n",
        "    out = pil_im.resize((128,128))\n",
        "    out.save('/content/hcaptcha_dataset/test/'+label+'/'+i)\n"
      ],
      "metadata": {
        "id": "hjsfqce1IXR_"
      },
      "execution_count": null,
      "outputs": []
    },
    {
      "cell_type": "markdown",
      "source": [
        "d) Do you think removing color channels (R, G, B) from images would lead to\n",
        "poor modeling? How can you justify converting each image to greyscale? What\n",
        "will be the effect of using a colored 3-channel image over a grayscale one on the\n",
        "classification model’s performance?"
      ],
      "metadata": {
        "id": "NCVg0MfYnaDu"
      }
    },
    {
      "cell_type": "code",
      "source": [
        "# It depends on your object of classification. \n",
        "# Since, in our model, color has not much signinficance as all the vehicles can have any color. Colors can't signify any particular label. \n",
        "# the shape of the vehicles is more significant\n",
        "# So, since color has no significance in your images to classify then its better to go for grey scale images to avoid false classification and complexities.\n",
        "# Also since a RGB image has 3 dimensions and grayscale has just one, so, everything tend to be more costly when using colored 3-channel image.\n"
      ],
      "metadata": {
        "id": "A6T-xXEq8f9h"
      },
      "execution_count": null,
      "outputs": []
    },
    {
      "cell_type": "code",
      "source": [
        "lst= os.listdir(\"/content/hcaptcha_dataset\")\n",
        "\n",
        "for it in lst:\n",
        "  li_t= os.listdir(\"/content/hcaptcha_dataset/\"+it)\n",
        "  for label in li_t:\n",
        "    x= os.listdir(\"/content/hcaptcha_dataset/\"+it+\"/\"+label)\n",
        "    for i in x:\n",
        "      img = Image.open('/content/hcaptcha_dataset/'+it+'/'+label+'/'+i)\n",
        "      ImageOps.grayscale(img).save('/content/hcaptcha_dataset/'+it+'/'+label+'/'+i)\n"
      ],
      "metadata": {
        "id": "qILstEPLbrhh"
      },
      "execution_count": null,
      "outputs": []
    },
    {
      "cell_type": "markdown",
      "source": [
        "e) Should you normalize your color channel values? Based on your answers do\n",
        "the steps you think will be best for your model."
      ],
      "metadata": {
        "id": "utXKbsdZnaqt"
      }
    },
    {
      "cell_type": "code",
      "source": [
        "import cv2\n",
        "from google.colab.patches import cv2_imshow"
      ],
      "metadata": {
        "id": "Yt05WqjShWzJ"
      },
      "execution_count": null,
      "outputs": []
    },
    {
      "cell_type": "code",
      "source": [
        "#yes, the channel values should be normalized\n",
        "import torch\n",
        "import torchvision\n",
        "transform = torchvision.transforms.Compose([\n",
        "    torchvision.transforms.ToTensor(),\n",
        "    torchvision.transforms.Normalize(\n",
        "        mean=[0.5],\n",
        "        std=[0.5],\n",
        "    ),\n",
        "])\n",
        "for it in lst:\n",
        "  li_t= os.listdir(\"/content/hcaptcha_dataset/\"+it)\n",
        "  for label in li_t:\n",
        "    x= os.listdir(\"/content/hcaptcha_dataset/\"+it+\"/\"+label)\n",
        "    for i in x:\n",
        "      img = cv2.imread('/content/hcaptcha_dataset/'+it+'/'+label+'/'+i)\n",
        "      img_norm = cv2.normalize(img, None, alpha=0,beta=200, norm_type=cv2.NORM_MINMAX)\n",
        "      cv2.imwrite('/content/hcaptcha_dataset/'+it+'/'+label+'/'+i,img_norm)"
      ],
      "metadata": {
        "id": "u1NVnNhM8gvZ"
      },
      "execution_count": null,
      "outputs": []
    },
    {
      "cell_type": "markdown",
      "source": [
        "f) Visualize 3 random training images along with the labels for each class. The\n",
        "dataset was manually labeled, do you spot any errors in the labels?"
      ],
      "metadata": {
        "id": "216f5gvSnblN"
      }
    },
    {
      "cell_type": "code",
      "source": [
        "for label in li_train:\n",
        "  x= os.listdir(\"/content/hcaptcha_dataset/train/\"+label)\n",
        "  fig, axs = plt.subplots(1,3, sharex=True, sharey=True)\n",
        "  for ax, interp in zip(axs, [label,label,label]):\n",
        "    r_choose=random.choice(x)\n",
        "    r_img = cv2.imread('/content/hcaptcha_dataset/train/'+label+'/'+r_choose)\n",
        "    ax.set_title(interp)\n",
        "    ax.imshow(r_img)\n",
        "  plt.show()"
      ],
      "metadata": {
        "id": "UNz3HLbD8hep",
        "colab": {
          "base_uri": "https://localhost:8080/",
          "height": 1000
        },
        "outputId": "b79be88d-3aa7-4638-f3d9-c5112eab7501"
      },
      "execution_count": null,
      "outputs": [
        {
          "output_type": "display_data",
          "data": {
            "text/plain": [
              "<Figure size 432x288 with 3 Axes>"
            ],
            "image/png": "[encoded data removed]"
          },
          "metadata": {
            "needs_background": "light"
          }
        },
        {
          "output_type": "display_data",
          "data": {
            "text/plain": [
              "<Figure size 432x288 with 3 Axes>"
            ],
            "image/png": "[encoded data removed]"
          },
          "metadata": {
            "needs_background": "light"
          }
        },
        {
          "output_type": "display_data",
          "data": {
            "text/plain": [
              "<Figure size 432x288 with 3 Axes>"
            ],
            "image/png": "[encoded data removed]"
          },
          "metadata": {
            "needs_background": "light"
          }
        },
        {
          "output_type": "display_data",
          "data": {
            "text/plain": [
              "<Figure size 432x288 with 3 Axes>"
            ],
            "image/png": "[encoded data removed]"
          },
          "metadata": {
            "needs_background": "light"
          }
        },
        {
          "output_type": "display_data",
          "data": {
            "text/plain": [
              "<Figure size 432x288 with 3 Axes>"
            ],
            "image/png": "[encoded data removed]"
          },
          "metadata": {
            "needs_background": "light"
          }
        },
        {
          "output_type": "display_data",
          "data": {
            "text/plain": [
              "<Figure size 432x288 with 3 Axes>"
            ],
            "image/png": "[encoded data removed]"
          },
          "metadata": {
            "needs_background": "light"
          }
        },
        {
          "output_type": "display_data",
          "data": {
            "text/plain": [
              "<Figure size 432x288 with 3 Axes>"
            ],
            "image/png": "[encoded data removed]"
          },
          "metadata": {
            "needs_background": "light"
          }
        }
      ]
    },
    {
      "cell_type": "code",
      "source": [
        "#yes, we saw some errors in the labelling of the data as it was manually labelled. For eg. there were some images which were supposed to be labelled \n",
        "#as seaplanes but were labelled as airplanes"
      ],
      "metadata": {
        "id": "sDhB3PBSEtmo"
      },
      "execution_count": null,
      "outputs": []
    },
    {
      "cell_type": "markdown",
      "source": [
        "### 2. Preparing Balanced Samples for Training using only the Training set provided to you."
      ],
      "metadata": {
        "id": "uSgTvRWundIt"
      }
    },
    {
      "cell_type": "markdown",
      "source": [
        "a) Do you think if you apply cross-validation to the dataset then all the crossvalidation folds will be similar? Why or why not?"
      ],
      "metadata": {
        "id": "nx0SHb-2oSMu"
      }
    },
    {
      "cell_type": "code",
      "source": [
        "#No, all the cross-validation folds will not be similar as all the labels have different number of images in them.\n",
        "#So when each label is divided into k number of folds, then each fold of a label will have diffrent sizes and won't be similar."
      ],
      "metadata": {
        "id": "osaz2xH_8iU5"
      },
      "execution_count": null,
      "outputs": []
    },
    {
      "cell_type": "markdown",
      "source": [
        "b) What can you do to ensure that every fold contains images from each class and no duplicates? Do the needful on your dataset that will ensure similar crossvalidation folds."
      ],
      "metadata": {
        "id": "79JXBoyjoZnd"
      }
    },
    {
      "cell_type": "code",
      "source": [
        "# In order to  accomplish this:\n",
        "# For training data ->  we will put all the training images from all the classes in a list and their corresponding labels in another list. Then shuffle both the list while \n",
        "# zipping them so that images and their corresponding labels will remain together. In this way, we will have all the training images in random order that can be used to make fold \n",
        "# of uniform distribution.\n",
        "# Do the same for test images as well."
      ],
      "metadata": {
        "id": "I6hQNPA0YKk2"
      },
      "execution_count": null,
      "outputs": []
    },
    {
      "cell_type": "markdown",
      "source": [
        "##train data"
      ],
      "metadata": {
        "id": "HAcxKcAd3MDT"
      }
    },
    {
      "cell_type": "code",
      "execution_count": null,
      "metadata": {
        "id": "RhaNFRDk-Ls7"
      },
      "outputs": [],
      "source": [
        "PATH = \"hcaptcha_dataset/train/\"\n",
        "\n",
        "training_data = []\n",
        "training_labels = []\n",
        "for filename in os.listdir(PATH):\n",
        "  for file in os.listdir(PATH+filename): \n",
        "    image = cv2.imread(PATH+filename+\"/\"+file, cv2.IMREAD_GRAYSCALE)\n",
        "    training_data.append(image)\n",
        "    training_labels.append(filename)"
      ]
    },
    {
      "cell_type": "code",
      "execution_count": null,
      "metadata": {
        "id": "mZJrynWTJe1p"
      },
      "outputs": [],
      "source": [
        "#encoding training labels\n",
        "from sklearn import preprocessing\n",
        "label_encoder = preprocessing.LabelEncoder()\n",
        "train_labels= label_encoder.fit_transform(training_labels)"
      ]
    },
    {
      "cell_type": "code",
      "execution_count": null,
      "metadata": {
        "id": "uNtyqUo7VGtD"
      },
      "outputs": [],
      "source": [
        "# label label no. according to their label names\n",
        "#  0->airplane   1->bicycle    2->boat   3->motorbus   4->motorcycle   5->seaplane   6->truck  "
      ]
    },
    {
      "cell_type": "code",
      "execution_count": null,
      "metadata": {
        "colab": {
          "base_uri": "https://localhost:8080/",
          "height": 162
        },
        "id": "wm39MNyHKUiJ",
        "outputId": "fb0986ab-98d1-48e3-fe84-9d012546284a"
      },
      "outputs": [
        {
          "output_type": "stream",
          "name": "stdout",
          "text": [
            "1\n"
          ]
        },
        {
          "output_type": "execute_result",
          "data": {
            "text/plain": [
              "<PIL.Image.Image image mode=L size=128x128 at 0x7F1E652C6090>"
            ],
            "image/png": "[encoded data removed]"
          },
          "metadata": {},
          "execution_count": 37
        }
      ],
      "source": [
        "my_img = Image.fromarray(training_data[20])\n",
        "print(train_labels[20])\n",
        "my_img"
      ]
    },
    {
      "cell_type": "code",
      "execution_count": null,
      "metadata": {
        "id": "__-hAiM9LENe"
      },
      "outputs": [],
      "source": [
        "import random\n",
        "temp = list(zip(training_data, train_labels))\n",
        "random.shuffle(temp)\n",
        "t1, t2 = zip(*temp)\n",
        "\n",
        "training_data, train_labels = list(t1), list(t2)"
      ]
    },
    {
      "cell_type": "code",
      "execution_count": null,
      "metadata": {
        "colab": {
          "base_uri": "https://localhost:8080/",
          "height": 162
        },
        "id": "pvpeND98MmRy",
        "outputId": "c5764c91-a61e-4d47-a810-c6b9aed33b48"
      },
      "outputs": [
        {
          "output_type": "stream",
          "name": "stdout",
          "text": [
            "2\n"
          ]
        },
        {
          "output_type": "execute_result",
          "data": {
            "text/plain": [
              "<PIL.Image.Image image mode=L size=128x128 at 0x7F1E652D9750>"
            ],
            "image/png": "[encoded data removed]"
          },
          "metadata": {},
          "execution_count": 43
        }
      ],
      "source": [
        "data = Image.fromarray(training_data[20])\n",
        "print(train_labels[20])\n",
        "data"
      ]
    },
    {
      "cell_type": "code",
      "execution_count": null,
      "metadata": {
        "id": "HWgcHq5IiCyQ"
      },
      "outputs": [],
      "source": [
        "train_data_flat = []\n",
        "for x in range(len(training_data)):\n",
        "  train_data_flat.append(training_data[x].flatten())"
      ]
    },
    {
      "cell_type": "code",
      "execution_count": null,
      "metadata": {
        "colab": {
          "base_uri": "https://localhost:8080/"
        },
        "id": "0eOURDIAQsQj",
        "outputId": "725a5ac5-ea5e-4d27-e462-db4e72295187"
      },
      "outputs": [
        {
          "output_type": "stream",
          "name": "stdout",
          "text": [
            "X_train length: 2263\n",
            "y_train length: 2263\n",
            "X_test length: 755\n",
            "y_test length: 755\n"
          ]
        }
      ],
      "source": [
        "# create training and testing vars\n",
        "from sklearn.model_selection import train_test_split\n",
        "X_train, X_test, y_train, y_test = train_test_split(train_data_flat, train_labels, test_size=0.25)\n",
        "print ('X_train length:',len(X_train))\n",
        "print ('y_train length:',len(y_train))\n",
        "print ('X_test length:',len(X_test))\n",
        "print ('y_test length:',len(y_test))"
      ]
    },
    {
      "cell_type": "markdown",
      "source": [
        "##test data"
      ],
      "metadata": {
        "id": "xj1dw5PT4QuU"
      }
    },
    {
      "cell_type": "code",
      "execution_count": null,
      "metadata": {
        "id": "4_S8-dmc9b8S"
      },
      "outputs": [],
      "source": [
        "PATH = \"hcaptcha_dataset/test/\" \n",
        "\n",
        "testing_data = []\n",
        "testing_labels = []\n",
        "for filename in os.listdir(PATH):\n",
        "  for file in os.listdir(PATH+filename):\n",
        "    image = cv2.imread(PATH+filename+\"/\"+file, cv2.IMREAD_GRAYSCALE)\n",
        "    testing_data.append(image)\n",
        "    testing_labels.append(filename)"
      ]
    },
    {
      "cell_type": "code",
      "execution_count": null,
      "metadata": {
        "id": "j_yTAohc91yU"
      },
      "outputs": [],
      "source": [
        "#encoding testing labels\n",
        "from sklearn import preprocessing\n",
        "label_encoder = preprocessing.LabelEncoder()\n",
        "test_labels= label_encoder.fit_transform(testing_labels)"
      ]
    },
    {
      "cell_type": "code",
      "execution_count": null,
      "metadata": {
        "id": "QwaSw4wU-2vb"
      },
      "outputs": [],
      "source": [
        "test_data = []\n",
        "for x in range(len(testing_data)):\n",
        "  test_data.append(testing_data[x].flatten())"
      ]
    },
    {
      "cell_type": "markdown",
      "source": [
        "### 3. Is Logistic regression a good algorithm for your dataset? Why or why not Based on the classification algorithms taught in class, which algorithms can be used to solve this problem?"
      ],
      "metadata": {
        "id": "Sld8UoDJohpt"
      }
    },
    {
      "cell_type": "code",
      "source": [
        "# No,logistic regression is not a good algorithm for our dataset as our dataset contains 7 labels.\n",
        "# Logistic regression is by default suitable for datasets that have only two class labels. It requires modification to support multi-class classification problems\n",
        "\n",
        "# For multiclass classification, one can use algorithms like KNN,decision trees,SVM."
      ],
      "metadata": {
        "id": "e7fnJ31r8jhp"
      },
      "execution_count": null,
      "outputs": []
    },
    {
      "cell_type": "markdown",
      "source": [
        "### 4. Train the KNN classifier algorithm on the training dataset. Don’t use the test set at this time. "
      ],
      "metadata": {
        "id": "43nz5h7Bo0jc"
      }
    },
    {
      "cell_type": "markdown",
      "source": [
        "a) What distance/similarity function should we use for comparing images?\n",
        "Compare at least 3 different metrics on a few random samples to get some\n",
        "understanding of how they work."
      ],
      "metadata": {
        "id": "NB7mCSEgpUYV"
      }
    },
    {
      "cell_type": "code",
      "source": [
        "#there are many distance metrics available. Some of them that we can use are: Euclidean, Manhattan, Correlation, Cosine etc."
      ],
      "metadata": {
        "id": "VqWxuEI98oHJ"
      },
      "execution_count": null,
      "outputs": []
    },
    {
      "cell_type": "code",
      "source": [
        "l1=random.choice(li_train) \n",
        "l2=random.choice(li_train) \n",
        "print(l1,l2) \n",
        "a1= os.listdir(\"/content/hcaptcha_dataset/train/\"+l1) \n",
        "a2= os.listdir(\"/content/hcaptcha_dataset/train/\"+l2) \n",
        "b1=random.choice(a1) \n",
        "b2=random.choice(a2) \n",
        "p1='/content/hcaptcha_dataset/train/'+l1+'/'+b1\n",
        "p2='/content/hcaptcha_dataset/train/'+l2+'/'+b2\n",
        "r1 = cv2.imread(p1)\n",
        "r2 = cv2.imread(p2)\n",
        "cv2_imshow(r1)\n",
        "cv2_imshow(r2)"
      ],
      "metadata": {
        "colab": {
          "base_uri": "https://localhost:8080/",
          "height": 290
        },
        "id": "JYAPwihE_NaQ",
        "outputId": "b65d8603-119e-443b-d2f8-e1c6942199bd"
      },
      "execution_count": null,
      "outputs": [
        {
          "output_type": "stream",
          "name": "stdout",
          "text": [
            "seaplane truck\n"
          ]
        },
        {
          "output_type": "display_data",
          "data": {
            "text/plain": [
              "<PIL.Image.Image image mode=RGB size=128x128 at 0x7F1E6550F4D0>"
            ],
            "image/png": "[encoded data removed]"
          },
          "metadata": {}
        },
        {
          "output_type": "display_data",
          "data": {
            "text/plain": [
              "<PIL.Image.Image image mode=RGB size=128x128 at 0x7F1E652D92D0>"
            ],
            "image/png": "[encoded data removed]"
          },
          "metadata": {}
        }
      ]
    },
    {
      "cell_type": "code",
      "source": [
        "import numpy as np\n",
        "from collections import Counter\n",
        "from scipy import spatial\n",
        "\n",
        "flat_array_1 = r1.flatten()\n",
        "flat_array_2 = r2.flatten()\n",
        "\n",
        "RH1 = Counter(flat_array_1)\n",
        "RH2 = Counter(flat_array_2)\n",
        "H1 = []\n",
        "H2 = []\n",
        "for i in range(256):\n",
        "    if i in RH1.keys():\n",
        "        H1.append(RH1[i])\n",
        "    else:\n",
        "        H1.append(0)\n",
        "    if i in RH2.keys():\n",
        "        H2.append(RH2[i])\n",
        "    else:\n",
        "        H2.append(0)\n",
        "\n",
        "euclidean_sim = spatial.distance.euclidean(H1, H2)\n",
        "manhattan_sim = spatial.distance.cityblock(H1, H2)\n",
        "minkowski_sim = spatial.distance.correlation(H1, H2)\n",
        "# display distance matrix\n",
        "print(\"Euclidean Similarity:\\n \", euclidean_sim)\n",
        "print(\"\\nManhattan Similarity:\\n \", manhattan_sim)\n",
        "print(\"\\nCorrelation Similarity:\\n \", minkowski_sim)"
      ],
      "metadata": {
        "colab": {
          "base_uri": "https://localhost:8080/"
        },
        "id": "nayU8HKsNKcj",
        "outputId": "29dc9095-d225-46a3-efce-55659aba2ab8"
      },
      "execution_count": null,
      "outputs": [
        {
          "output_type": "stream",
          "name": "stdout",
          "text": [
            "Euclidean Similarity:\n",
            "  11517.7669710756\n",
            "\n",
            "Manhattan Similarity:\n",
            "  49098\n",
            "\n",
            "Correlation Similarity:\n",
            "  0.9335785860010894\n"
          ]
        }
      ]
    },
    {
      "cell_type": "code",
      "source": [
        "from sklearn.neighbors import KNeighborsClassifier\n",
        "from sklearn.model_selection import cross_val_score\n",
        "from sklearn.metrics import accuracy_score"
      ],
      "metadata": {
        "id": "UGv42US098bg"
      },
      "execution_count": null,
      "outputs": []
    },
    {
      "cell_type": "code",
      "source": [
        "metrics = ['euclidean','manhattan','correlation']\n",
        "m_scores = []\n",
        "\n",
        "for m in metrics:\n",
        "    knn = KNeighborsClassifier(n_neighbors=3,metric=m)\n",
        "    cv_scores = cross_val_score(knn, X_train, y_train, cv=5)\n",
        "    ans=cv_scores.mean()\n",
        "    print('Mean Cross Val Score for metric=',m,': ',ans)"
      ],
      "metadata": {
        "colab": {
          "base_uri": "https://localhost:8080/"
        },
        "id": "FxtTCgcG_8ed",
        "outputId": "4524257e-6510-4fab-b167-be81174f335f"
      },
      "execution_count": null,
      "outputs": [
        {
          "output_type": "stream",
          "name": "stdout",
          "text": [
            "Mean Cross Val Score for metric= euclidean :  0.7052472210826545\n",
            "Mean Cross Val Score for metric= manhattan :  0.756055988591299\n",
            "Mean Cross Val Score for metric= correlation :  0.7931870128347887\n"
          ]
        }
      ]
    },
    {
      "cell_type": "markdown",
      "source": [
        "b) What is the impact of increasing K on the speed and accuracy of the\n",
        "algorithm? "
      ],
      "metadata": {
        "id": "HWr5cASXpTFl"
      }
    },
    {
      "cell_type": "code",
      "source": [
        "k=[3,4,5,7,9,14]\n",
        "\n",
        "for i in k:\n",
        "  knn_cv = KNeighborsClassifier(n_neighbors = i,metric='correlation')\n",
        "  cv_scores = cross_val_score(knn_cv, X_train, y_train, cv=5)\n",
        "  knn_cv.fit(X_train,y_train)\n",
        "  y_pred=knn_cv.predict(X_test)\n",
        "  print('Accuracy for k=',i,': ',accuracy_score(y_test, y_pred)*100,'%')\n"
      ],
      "metadata": {
        "id": "gowQ3i13CDBW",
        "colab": {
          "base_uri": "https://localhost:8080/"
        },
        "outputId": "494c34e7-f38b-496c-a4de-2062ad42615f"
      },
      "execution_count": null,
      "outputs": [
        {
          "output_type": "stream",
          "name": "stdout",
          "text": [
            "Accuracy for k= 3 :  81.8543046357616 %\n",
            "Accuracy for k= 4 :  81.58940397350993 %\n",
            "Accuracy for k= 5 :  81.05960264900662 %\n",
            "Accuracy for k= 7 :  80.0 %\n",
            "Accuracy for k= 9 :  80.13245033112582 %\n",
            "Accuracy for k= 14 :  78.67549668874172 %\n"
          ]
        }
      ]
    },
    {
      "cell_type": "markdown",
      "source": [
        "The accuracy of the model :\n",
        "decreases from 3 to 4\n",
        "increases from 4 to 5 \n",
        "and then decreases "
      ],
      "metadata": {
        "id": "5Iaj486RBt_M"
      }
    },
    {
      "cell_type": "markdown",
      "source": [
        "c) Choose a good value of K and the distance metric based on cross-validation."
      ],
      "metadata": {
        "id": "3ZvqV2PJpbZt"
      }
    },
    {
      "cell_type": "markdown",
      "source": [
        "###for K"
      ],
      "metadata": {
        "id": "iNNoegX0NUDX"
      }
    },
    {
      "cell_type": "code",
      "source": [
        "k_range = range(3, 25)\n",
        "k_scores = []\n",
        "\n",
        "for k in k_range:\n",
        "    knn = KNeighborsClassifier(n_neighbors=k)\n",
        "    scores = cross_val_score(knn, X_train, y_train, cv=5, scoring='accuracy')\n",
        "    k_scores.append(scores.mean())\n",
        "print(k_scores)\n",
        "print(\"best value of k is \",k_range[k_scores.index(max(k_scores))],\" with score: \",max(k_scores))"
      ],
      "metadata": {
        "id": "PUeyICb68pOJ",
        "colab": {
          "base_uri": "https://localhost:8080/"
        },
        "outputId": "48293a27-ee04-44c4-8ae8-93a1fd629c9f"
      },
      "execution_count": null,
      "outputs": [
        {
          "output_type": "stream",
          "name": "stdout",
          "text": [
            "[0.7052472210826545, 0.6862538826701049, 0.6933276680536834, 0.6844839711656802, 0.6875754556643029, 0.6791820508312332, 0.6796284357967531, 0.6747670397937057, 0.6778585242923284, 0.670345191349704, 0.6694592588251382, 0.6663648440094552, 0.6584139170524917, 0.6562064115337278, 0.6495760807986091, 0.6531090664009847, 0.6433833440778293, 0.6420578639942176, 0.6380736095645549, 0.6389614956338276, 0.6385160874406611, 0.6345425775068863]\n",
            "best value of k is  3  with score:  0.7052472210826545\n"
          ]
        }
      ]
    },
    {
      "cell_type": "code",
      "source": [
        "plt.plot(k_range, k_scores)\n",
        "plt.xlabel('Value of K for KNN')\n",
        "plt.ylabel('Cross-Validated Accuracy')"
      ],
      "metadata": {
        "id": "UzTmYkA0KeEi",
        "colab": {
          "base_uri": "https://localhost:8080/",
          "height": 296
        },
        "outputId": "a671ae02-859c-49f9-f6d5-766b74431859"
      },
      "execution_count": null,
      "outputs": [
        {
          "output_type": "execute_result",
          "data": {
            "text/plain": [
              "Text(0, 0.5, 'Cross-Validated Accuracy')"
            ]
          },
          "metadata": {},
          "execution_count": 60
        },
        {
          "output_type": "display_data",
          "data": {
            "text/plain": [
              "<Figure size 432x288 with 1 Axes>"
            ],
            "image/png": "[encoded data removed]"
          },
          "metadata": {
            "needs_background": "light"
          }
        }
      ]
    },
    {
      "cell_type": "markdown",
      "source": [
        "###for Distance metric"
      ],
      "metadata": {
        "id": "u_E73TjcQSFE"
      }
    },
    {
      "cell_type": "code",
      "source": [
        "metrics = ['euclidean','manhattan','correlation','cosine','canberra','braycurtis','sqeuclidean']\n",
        "m_scores = []\n",
        "\n",
        "for m in metrics:\n",
        "    knn = KNeighborsClassifier(n_neighbors=3,metric=m)\n",
        "    scores = cross_val_score(knn, X_train, y_train, cv=5, scoring='accuracy')\n",
        "    m_scores.append(scores.mean())\n",
        "print(m_scores)\n",
        "print(\"best metric is \",metrics[m_scores.index(max(m_scores))],\" with score: \",max(m_scores))"
      ],
      "metadata": {
        "id": "8HJPtIdjLkXP",
        "colab": {
          "base_uri": "https://localhost:8080/"
        },
        "outputId": "3e94d03b-1114-4dcc-c524-e3273104df6f"
      },
      "execution_count": null,
      "outputs": [
        {
          "output_type": "stream",
          "name": "stdout",
          "text": [
            "[0.7052472210826545, 0.756055988591299, 0.7931870128347887, 0.6531110199456914, 0.7092304987399636, 0.7282296977866338, 0.7052472210826545]\n",
            "best metric is  correlation  with score:  0.7931870128347887\n"
          ]
        }
      ]
    },
    {
      "cell_type": "code",
      "source": [
        "plt.figure(figsize=(10,5))\n",
        "plt.plot(metrics, m_scores)\n",
        "plt.xlabel('metric used for KNN')\n",
        "plt.ylabel('Cross-Validated Accuracy')"
      ],
      "metadata": {
        "id": "JCHn5YYOPaqG",
        "colab": {
          "base_uri": "https://localhost:8080/",
          "height": 354
        },
        "outputId": "6e30b801-1fe6-41c2-ffde-e0837390ac63"
      },
      "execution_count": null,
      "outputs": [
        {
          "output_type": "execute_result",
          "data": {
            "text/plain": [
              "Text(0, 0.5, 'Cross-Validated Accuracy')"
            ]
          },
          "metadata": {},
          "execution_count": 62
        },
        {
          "output_type": "display_data",
          "data": {
            "text/plain": [
              "<Figure size 720x360 with 1 Axes>"
            ],
            "image/png": "[encoded data removed]"
          },
          "metadata": {
            "needs_background": "light"
          }
        }
      ]
    },
    {
      "cell_type": "markdown",
      "source": [
        "### 5. Train SVM classifiers on the dataset. Don’t use the test set at this time."
      ],
      "metadata": {
        "id": "i_oc8vhkpvgU"
      }
    },
    {
      "cell_type": "markdown",
      "source": [
        "a) Which kernel functions can be used for this dataset? Why?"
      ],
      "metadata": {
        "id": "_1GXNxOhpxZz"
      }
    },
    {
      "cell_type": "code",
      "source": [
        "from sklearn.svm import SVC"
      ],
      "metadata": {
        "id": "IB--cB_SS3uF"
      },
      "execution_count": null,
      "outputs": []
    },
    {
      "cell_type": "code",
      "source": [
        "kernels = ['linear','rbf']\n",
        "kernel_scores = []\n",
        "\n",
        "for i in kernels:\n",
        "    svc= SVC(kernel = i)\n",
        "    scores = cross_val_score(svc, X_train, y_train, cv=5, scoring='accuracy')\n",
        "    kernel_scores.append(scores.mean())\n",
        "print(kernel_scores)\n",
        "print(\"best kernel is \",kernels[kernel_scores.index(max(kernel_scores))],\" with score: \",max(kernel_scores))"
      ],
      "metadata": {
        "id": "FRsT787z8qHJ",
        "colab": {
          "base_uri": "https://localhost:8080/"
        },
        "outputId": "7e88b8f6-85ac-4ac2-ae03-4caeb12e637d"
      },
      "execution_count": null,
      "outputs": [
        {
          "output_type": "stream",
          "name": "stdout",
          "text": [
            "[0.7512072906288461, 0.8378098810291273]\n",
            "best kernel is  rbf  with score:  0.8378098810291273\n"
          ]
        }
      ]
    },
    {
      "cell_type": "code",
      "source": [
        "# model with RBF kernel is giving better accuracy as compared to that of  linear kernel.\n",
        "# Moreover, rbf is used when the data is not linearly separable. So when we don't have much prior knowledge of data, it can be used."
      ],
      "metadata": {
        "id": "30M29TisHc_5"
      },
      "execution_count": null,
      "outputs": []
    },
    {
      "cell_type": "markdown",
      "source": [
        "b) Which of the SVM implementations (SVC, SGDClassifier, NuSVC and LinearSVC)\n",
        "is the best for this dataset? Why?\n"
      ],
      "metadata": {
        "id": "c4jL57v7p2JN"
      }
    },
    {
      "cell_type": "code",
      "source": [
        "#for SVC\n",
        "svc= SVC(kernel = 'rbf')\n",
        "scores = cross_val_score(svc, X_train, y_train, cv=5, scoring='accuracy')\n",
        "print('for SVC, mean cross val score: ',scores.mean())"
      ],
      "metadata": {
        "id": "OeIcmWz68qqR",
        "colab": {
          "base_uri": "https://localhost:8080/"
        },
        "outputId": "cbc7d52b-4110-4d35-ae2e-deabe8e4c0af"
      },
      "execution_count": null,
      "outputs": [
        {
          "output_type": "stream",
          "name": "stdout",
          "text": [
            "for SVC, mean cross val score:  0.8378098810291273\n"
          ]
        }
      ]
    },
    {
      "cell_type": "code",
      "source": [
        "# #for SGD Classifier\n",
        "from sklearn.linear_model import SGDClassifier\n",
        "\n",
        "sgd= SGDClassifier()\n",
        "scores = cross_val_score(sgd, X_train, y_train, cv=5, scoring='accuracy')\n",
        "print('for SGD Classifier, mean cross val score: ',scores.mean())"
      ],
      "metadata": {
        "id": "PEO-16rEZAVk",
        "colab": {
          "base_uri": "https://localhost:8080/"
        },
        "outputId": "d362d98b-a4bd-4c21-cc86-b02602be204e"
      },
      "execution_count": null,
      "outputs": [
        {
          "output_type": "stream",
          "name": "stdout",
          "text": [
            "for SGD Classifier, mean cross val score:  0.7096866514290179\n"
          ]
        }
      ]
    },
    {
      "cell_type": "code",
      "source": [
        "#for NuSVC\n",
        "from sklearn.svm import NuSVC\n",
        "\n",
        "nusvc= NuSVC()\n",
        "scores = cross_val_score(nusvc, X_train, y_train, cv=5, scoring='accuracy')\n",
        "print('for SVC, mean cross val score: ',scores.mean())"
      ],
      "metadata": {
        "id": "r89Def5ebsDz",
        "colab": {
          "base_uri": "https://localhost:8080/"
        },
        "outputId": "4fc7366e-ea38-4455-a0b3-9a2519cc5780"
      },
      "execution_count": null,
      "outputs": [
        {
          "output_type": "stream",
          "name": "stdout",
          "text": [
            "for SVC, mean cross val score:  0.7675428314676982\n"
          ]
        }
      ]
    },
    {
      "cell_type": "code",
      "source": [
        "#for LinearSVC\n",
        "from sklearn.svm import LinearSVC\n",
        "\n",
        "lisvc= LinearSVC(max_iter=2000) \n",
        "scores = cross_val_score(lisvc, X_train, y_train, cv=5, scoring='accuracy')\n",
        "print('for Linear SVC, mean cross val score: ',scores.mean())"
      ],
      "metadata": {
        "id": "VRVtmDEaeV7V",
        "colab": {
          "base_uri": "https://localhost:8080/",
          "height": 449
        },
        "outputId": "735918c3-affb-4ecf-d97a-698d836841d8"
      },
      "execution_count": null,
      "outputs": [
        {
          "output_type": "stream",
          "name": "stderr",
          "text": [
            "/usr/local/lib/python3.7/dist-packages/sklearn/svm/_base.py:1208: ConvergenceWarning: Liblinear failed to converge, increase the number of iterations.\n",
            "  ConvergenceWarning,\n",
            "/usr/local/lib/python3.7/dist-packages/sklearn/svm/_base.py:1208: ConvergenceWarning: Liblinear failed to converge, increase the number of iterations.\n",
            "  ConvergenceWarning,\n"
          ]
        },
        {
          "output_type": "error",
          "ename": "KeyboardInterrupt",
          "evalue": "ignored",
          "traceback": [
            "\u001b[0;31m---------------------------------------------------------------------------\u001b[0m",
            "\u001b[0;31mKeyboardInterrupt\u001b[0m                         Traceback (most recent call last)",
            "\u001b[0;32m<ipython-input-70-541225a950d6>\u001b[0m in \u001b[0;36m<module>\u001b[0;34m\u001b[0m\n\u001b[1;32m      3\u001b[0m \u001b[0;34m\u001b[0m\u001b[0m\n\u001b[1;32m      4\u001b[0m \u001b[0mlisvc\u001b[0m\u001b[0;34m=\u001b[0m \u001b[0mLinearSVC\u001b[0m\u001b[0;34m(\u001b[0m\u001b[0mmax_iter\u001b[0m\u001b[0;34m=\u001b[0m\u001b[0;36m2000\u001b[0m\u001b[0;34m)\u001b[0m\u001b[0;34m\u001b[0m\u001b[0;34m\u001b[0m\u001b[0m\n\u001b[0;32m----> 5\u001b[0;31m \u001b[0mscores\u001b[0m \u001b[0;34m=\u001b[0m \u001b[0mcross_val_score\u001b[0m\u001b[0;34m(\u001b[0m\u001b[0mlisvc\u001b[0m\u001b[0;34m,\u001b[0m \u001b[0mX_train\u001b[0m\u001b[0;34m,\u001b[0m \u001b[0my_train\u001b[0m\u001b[0;34m,\u001b[0m \u001b[0mcv\u001b[0m\u001b[0;34m=\u001b[0m\u001b[0;36m5\u001b[0m\u001b[0;34m,\u001b[0m \u001b[0mscoring\u001b[0m\u001b[0;34m=\u001b[0m\u001b[0;34m'accuracy'\u001b[0m\u001b[0;34m)\u001b[0m\u001b[0;34m\u001b[0m\u001b[0;34m\u001b[0m\u001b[0m\n\u001b[0m\u001b[1;32m      6\u001b[0m \u001b[0mprint\u001b[0m\u001b[0;34m(\u001b[0m\u001b[0;34m'for Linear SVC, mean cross val score: '\u001b[0m\u001b[0;34m,\u001b[0m\u001b[0mscores\u001b[0m\u001b[0;34m.\u001b[0m\u001b[0mmean\u001b[0m\u001b[0;34m(\u001b[0m\u001b[0;34m)\u001b[0m\u001b[0;34m)\u001b[0m\u001b[0;34m\u001b[0m\u001b[0;34m\u001b[0m\u001b[0m\n",
            "\u001b[0;32m/usr/local/lib/python3.7/dist-packages/sklearn/model_selection/_validation.py\u001b[0m in \u001b[0;36mcross_val_score\u001b[0;34m(estimator, X, y, groups, scoring, cv, n_jobs, verbose, fit_params, pre_dispatch, error_score)\u001b[0m\n\u001b[1;32m    518\u001b[0m         \u001b[0mfit_params\u001b[0m\u001b[0;34m=\u001b[0m\u001b[0mfit_params\u001b[0m\u001b[0;34m,\u001b[0m\u001b[0;34m\u001b[0m\u001b[0;34m\u001b[0m\u001b[0m\n\u001b[1;32m    519\u001b[0m         \u001b[0mpre_dispatch\u001b[0m\u001b[0;34m=\u001b[0m\u001b[0mpre_dispatch\u001b[0m\u001b[0;34m,\u001b[0m\u001b[0;34m\u001b[0m\u001b[0;34m\u001b[0m\u001b[0m\n\u001b[0;32m--> 520\u001b[0;31m         \u001b[0merror_score\u001b[0m\u001b[0;34m=\u001b[0m\u001b[0merror_score\u001b[0m\u001b[0;34m,\u001b[0m\u001b[0;34m\u001b[0m\u001b[0;34m\u001b[0m\u001b[0m\n\u001b[0m\u001b[1;32m    521\u001b[0m     )\n\u001b[1;32m    522\u001b[0m     \u001b[0;32mreturn\u001b[0m \u001b[0mcv_results\u001b[0m\u001b[0;34m[\u001b[0m\u001b[0;34m\"test_score\"\u001b[0m\u001b[0;34m]\u001b[0m\u001b[0;34m\u001b[0m\u001b[0;34m\u001b[0m\u001b[0m\n",
            "\u001b[0;32m/usr/local/lib/python3.7/dist-packages/sklearn/model_selection/_validation.py\u001b[0m in \u001b[0;36mcross_validate\u001b[0;34m(estimator, X, y, groups, scoring, cv, n_jobs, verbose, fit_params, pre_dispatch, return_train_score, return_estimator, error_score)\u001b[0m\n\u001b[1;32m    281\u001b[0m             \u001b[0merror_score\u001b[0m\u001b[0;34m=\u001b[0m\u001b[0merror_score\u001b[0m\u001b[0;34m,\u001b[0m\u001b[0;34m\u001b[0m\u001b[0;34m\u001b[0m\u001b[0m\n\u001b[1;32m    282\u001b[0m         )\n\u001b[0;32m--> 283\u001b[0;31m         \u001b[0;32mfor\u001b[0m \u001b[0mtrain\u001b[0m\u001b[0;34m,\u001b[0m \u001b[0mtest\u001b[0m \u001b[0;32min\u001b[0m \u001b[0mcv\u001b[0m\u001b[0;34m.\u001b[0m\u001b[0msplit\u001b[0m\u001b[0;34m(\u001b[0m\u001b[0mX\u001b[0m\u001b[0;34m,\u001b[0m \u001b[0my\u001b[0m\u001b[0;34m,\u001b[0m \u001b[0mgroups\u001b[0m\u001b[0;34m)\u001b[0m\u001b[0;34m\u001b[0m\u001b[0;34m\u001b[0m\u001b[0m\n\u001b[0m\u001b[1;32m    284\u001b[0m     )\n\u001b[1;32m    285\u001b[0m \u001b[0;34m\u001b[0m\u001b[0m\n",
            "\u001b[0;32m/usr/local/lib/python3.7/dist-packages/joblib/parallel.py\u001b[0m in \u001b[0;36m__call__\u001b[0;34m(self, iterable)\u001b[0m\n\u001b[1;32m   1044\u001b[0m                 \u001b[0mself\u001b[0m\u001b[0;34m.\u001b[0m\u001b[0m_iterating\u001b[0m \u001b[0;34m=\u001b[0m \u001b[0mself\u001b[0m\u001b[0;34m.\u001b[0m\u001b[0m_original_iterator\u001b[0m \u001b[0;32mis\u001b[0m \u001b[0;32mnot\u001b[0m \u001b[0;32mNone\u001b[0m\u001b[0;34m\u001b[0m\u001b[0;34m\u001b[0m\u001b[0m\n\u001b[1;32m   1045\u001b[0m \u001b[0;34m\u001b[0m\u001b[0m\n\u001b[0;32m-> 1046\u001b[0;31m             \u001b[0;32mwhile\u001b[0m \u001b[0mself\u001b[0m\u001b[0;34m.\u001b[0m\u001b[0mdispatch_one_batch\u001b[0m\u001b[0;34m(\u001b[0m\u001b[0miterator\u001b[0m\u001b[0;34m)\u001b[0m\u001b[0;34m:\u001b[0m\u001b[0;34m\u001b[0m\u001b[0;34m\u001b[0m\u001b[0m\n\u001b[0m\u001b[1;32m   1047\u001b[0m                 \u001b[0;32mpass\u001b[0m\u001b[0;34m\u001b[0m\u001b[0;34m\u001b[0m\u001b[0m\n\u001b[1;32m   1048\u001b[0m \u001b[0;34m\u001b[0m\u001b[0m\n",
            "\u001b[0;32m/usr/local/lib/python3.7/dist-packages/joblib/parallel.py\u001b[0m in \u001b[0;36mdispatch_one_batch\u001b[0;34m(self, iterator)\u001b[0m\n\u001b[1;32m    859\u001b[0m                 \u001b[0;32mreturn\u001b[0m \u001b[0;32mFalse\u001b[0m\u001b[0;34m\u001b[0m\u001b[0;34m\u001b[0m\u001b[0m\n\u001b[1;32m    860\u001b[0m             \u001b[0;32melse\u001b[0m\u001b[0;34m:\u001b[0m\u001b[0;34m\u001b[0m\u001b[0;34m\u001b[0m\u001b[0m\n\u001b[0;32m--> 861\u001b[0;31m                 \u001b[0mself\u001b[0m\u001b[0;34m.\u001b[0m\u001b[0m_dispatch\u001b[0m\u001b[0;34m(\u001b[0m\u001b[0mtasks\u001b[0m\u001b[0;34m)\u001b[0m\u001b[0;34m\u001b[0m\u001b[0;34m\u001b[0m\u001b[0m\n\u001b[0m\u001b[1;32m    862\u001b[0m                 \u001b[0;32mreturn\u001b[0m \u001b[0;32mTrue\u001b[0m\u001b[0;34m\u001b[0m\u001b[0;34m\u001b[0m\u001b[0m\n\u001b[1;32m    863\u001b[0m \u001b[0;34m\u001b[0m\u001b[0m\n",
            "\u001b[0;32m/usr/local/lib/python3.7/dist-packages/joblib/parallel.py\u001b[0m in \u001b[0;36m_dispatch\u001b[0;34m(self, batch)\u001b[0m\n\u001b[1;32m    777\u001b[0m         \u001b[0;32mwith\u001b[0m \u001b[0mself\u001b[0m\u001b[0;34m.\u001b[0m\u001b[0m_lock\u001b[0m\u001b[0;34m:\u001b[0m\u001b[0;34m\u001b[0m\u001b[0;34m\u001b[0m\u001b[0m\n\u001b[1;32m    778\u001b[0m             \u001b[0mjob_idx\u001b[0m \u001b[0;34m=\u001b[0m \u001b[0mlen\u001b[0m\u001b[0;34m(\u001b[0m\u001b[0mself\u001b[0m\u001b[0;34m.\u001b[0m\u001b[0m_jobs\u001b[0m\u001b[0;34m)\u001b[0m\u001b[0;34m\u001b[0m\u001b[0;34m\u001b[0m\u001b[0m\n\u001b[0;32m--> 779\u001b[0;31m             \u001b[0mjob\u001b[0m \u001b[0;34m=\u001b[0m \u001b[0mself\u001b[0m\u001b[0;34m.\u001b[0m\u001b[0m_backend\u001b[0m\u001b[0;34m.\u001b[0m\u001b[0mapply_async\u001b[0m\u001b[0;34m(\u001b[0m\u001b[0mbatch\u001b[0m\u001b[0;34m,\u001b[0m \u001b[0mcallback\u001b[0m\u001b[0;34m=\u001b[0m\u001b[0mcb\u001b[0m\u001b[0;34m)\u001b[0m\u001b[0;34m\u001b[0m\u001b[0;34m\u001b[0m\u001b[0m\n\u001b[0m\u001b[1;32m    780\u001b[0m             \u001b[0;31m# A job can complete so quickly than its callback is\u001b[0m\u001b[0;34m\u001b[0m\u001b[0;34m\u001b[0m\u001b[0;34m\u001b[0m\u001b[0m\n\u001b[1;32m    781\u001b[0m             \u001b[0;31m# called before we get here, causing self._jobs to\u001b[0m\u001b[0;34m\u001b[0m\u001b[0;34m\u001b[0m\u001b[0;34m\u001b[0m\u001b[0m\n",
            "\u001b[0;32m/usr/local/lib/python3.7/dist-packages/joblib/_parallel_backends.py\u001b[0m in \u001b[0;36mapply_async\u001b[0;34m(self, func, callback)\u001b[0m\n\u001b[1;32m    206\u001b[0m     \u001b[0;32mdef\u001b[0m \u001b[0mapply_async\u001b[0m\u001b[0;34m(\u001b[0m\u001b[0mself\u001b[0m\u001b[0;34m,\u001b[0m \u001b[0mfunc\u001b[0m\u001b[0;34m,\u001b[0m \u001b[0mcallback\u001b[0m\u001b[0;34m=\u001b[0m\u001b[0;32mNone\u001b[0m\u001b[0;34m)\u001b[0m\u001b[0;34m:\u001b[0m\u001b[0;34m\u001b[0m\u001b[0;34m\u001b[0m\u001b[0m\n\u001b[1;32m    207\u001b[0m         \u001b[0;34m\"\"\"Schedule a func to be run\"\"\"\u001b[0m\u001b[0;34m\u001b[0m\u001b[0;34m\u001b[0m\u001b[0m\n\u001b[0;32m--> 208\u001b[0;31m         \u001b[0mresult\u001b[0m \u001b[0;34m=\u001b[0m \u001b[0mImmediateResult\u001b[0m\u001b[0;34m(\u001b[0m\u001b[0mfunc\u001b[0m\u001b[0;34m)\u001b[0m\u001b[0;34m\u001b[0m\u001b[0;34m\u001b[0m\u001b[0m\n\u001b[0m\u001b[1;32m    209\u001b[0m         \u001b[0;32mif\u001b[0m \u001b[0mcallback\u001b[0m\u001b[0;34m:\u001b[0m\u001b[0;34m\u001b[0m\u001b[0;34m\u001b[0m\u001b[0m\n\u001b[1;32m    210\u001b[0m             \u001b[0mcallback\u001b[0m\u001b[0;34m(\u001b[0m\u001b[0mresult\u001b[0m\u001b[0;34m)\u001b[0m\u001b[0;34m\u001b[0m\u001b[0;34m\u001b[0m\u001b[0m\n",
            "\u001b[0;32m/usr/local/lib/python3.7/dist-packages/joblib/_parallel_backends.py\u001b[0m in \u001b[0;36m__init__\u001b[0;34m(self, batch)\u001b[0m\n\u001b[1;32m    570\u001b[0m         \u001b[0;31m# Don't delay the application, to avoid keeping the input\u001b[0m\u001b[0;34m\u001b[0m\u001b[0;34m\u001b[0m\u001b[0;34m\u001b[0m\u001b[0m\n\u001b[1;32m    571\u001b[0m         \u001b[0;31m# arguments in memory\u001b[0m\u001b[0;34m\u001b[0m\u001b[0;34m\u001b[0m\u001b[0;34m\u001b[0m\u001b[0m\n\u001b[0;32m--> 572\u001b[0;31m         \u001b[0mself\u001b[0m\u001b[0;34m.\u001b[0m\u001b[0mresults\u001b[0m \u001b[0;34m=\u001b[0m \u001b[0mbatch\u001b[0m\u001b[0;34m(\u001b[0m\u001b[0;34m)\u001b[0m\u001b[0;34m\u001b[0m\u001b[0;34m\u001b[0m\u001b[0m\n\u001b[0m\u001b[1;32m    573\u001b[0m \u001b[0;34m\u001b[0m\u001b[0m\n\u001b[1;32m    574\u001b[0m     \u001b[0;32mdef\u001b[0m \u001b[0mget\u001b[0m\u001b[0;34m(\u001b[0m\u001b[0mself\u001b[0m\u001b[0;34m)\u001b[0m\u001b[0;34m:\u001b[0m\u001b[0;34m\u001b[0m\u001b[0;34m\u001b[0m\u001b[0m\n",
            "\u001b[0;32m/usr/local/lib/python3.7/dist-packages/joblib/parallel.py\u001b[0m in \u001b[0;36m__call__\u001b[0;34m(self)\u001b[0m\n\u001b[1;32m    261\u001b[0m         \u001b[0;32mwith\u001b[0m \u001b[0mparallel_backend\u001b[0m\u001b[0;34m(\u001b[0m\u001b[0mself\u001b[0m\u001b[0;34m.\u001b[0m\u001b[0m_backend\u001b[0m\u001b[0;34m,\u001b[0m \u001b[0mn_jobs\u001b[0m\u001b[0;34m=\u001b[0m\u001b[0mself\u001b[0m\u001b[0;34m.\u001b[0m\u001b[0m_n_jobs\u001b[0m\u001b[0;34m)\u001b[0m\u001b[0;34m:\u001b[0m\u001b[0;34m\u001b[0m\u001b[0;34m\u001b[0m\u001b[0m\n\u001b[1;32m    262\u001b[0m             return [func(*args, **kwargs)\n\u001b[0;32m--> 263\u001b[0;31m                     for func, args, kwargs in self.items]\n\u001b[0m\u001b[1;32m    264\u001b[0m \u001b[0;34m\u001b[0m\u001b[0m\n\u001b[1;32m    265\u001b[0m     \u001b[0;32mdef\u001b[0m \u001b[0m__reduce__\u001b[0m\u001b[0;34m(\u001b[0m\u001b[0mself\u001b[0m\u001b[0;34m)\u001b[0m\u001b[0;34m:\u001b[0m\u001b[0;34m\u001b[0m\u001b[0;34m\u001b[0m\u001b[0m\n",
            "\u001b[0;32m/usr/local/lib/python3.7/dist-packages/joblib/parallel.py\u001b[0m in \u001b[0;36m<listcomp>\u001b[0;34m(.0)\u001b[0m\n\u001b[1;32m    261\u001b[0m         \u001b[0;32mwith\u001b[0m \u001b[0mparallel_backend\u001b[0m\u001b[0;34m(\u001b[0m\u001b[0mself\u001b[0m\u001b[0;34m.\u001b[0m\u001b[0m_backend\u001b[0m\u001b[0;34m,\u001b[0m \u001b[0mn_jobs\u001b[0m\u001b[0;34m=\u001b[0m\u001b[0mself\u001b[0m\u001b[0;34m.\u001b[0m\u001b[0m_n_jobs\u001b[0m\u001b[0;34m)\u001b[0m\u001b[0;34m:\u001b[0m\u001b[0;34m\u001b[0m\u001b[0;34m\u001b[0m\u001b[0m\n\u001b[1;32m    262\u001b[0m             return [func(*args, **kwargs)\n\u001b[0;32m--> 263\u001b[0;31m                     for func, args, kwargs in self.items]\n\u001b[0m\u001b[1;32m    264\u001b[0m \u001b[0;34m\u001b[0m\u001b[0m\n\u001b[1;32m    265\u001b[0m     \u001b[0;32mdef\u001b[0m \u001b[0m__reduce__\u001b[0m\u001b[0;34m(\u001b[0m\u001b[0mself\u001b[0m\u001b[0;34m)\u001b[0m\u001b[0;34m:\u001b[0m\u001b[0;34m\u001b[0m\u001b[0;34m\u001b[0m\u001b[0m\n",
            "\u001b[0;32m/usr/local/lib/python3.7/dist-packages/sklearn/utils/fixes.py\u001b[0m in \u001b[0;36m__call__\u001b[0;34m(self, *args, **kwargs)\u001b[0m\n\u001b[1;32m    214\u001b[0m     \u001b[0;32mdef\u001b[0m \u001b[0m__call__\u001b[0m\u001b[0;34m(\u001b[0m\u001b[0mself\u001b[0m\u001b[0;34m,\u001b[0m \u001b[0;34m*\u001b[0m\u001b[0margs\u001b[0m\u001b[0;34m,\u001b[0m \u001b[0;34m**\u001b[0m\u001b[0mkwargs\u001b[0m\u001b[0;34m)\u001b[0m\u001b[0;34m:\u001b[0m\u001b[0;34m\u001b[0m\u001b[0;34m\u001b[0m\u001b[0m\n\u001b[1;32m    215\u001b[0m         \u001b[0;32mwith\u001b[0m \u001b[0mconfig_context\u001b[0m\u001b[0;34m(\u001b[0m\u001b[0;34m**\u001b[0m\u001b[0mself\u001b[0m\u001b[0;34m.\u001b[0m\u001b[0mconfig\u001b[0m\u001b[0;34m)\u001b[0m\u001b[0;34m:\u001b[0m\u001b[0;34m\u001b[0m\u001b[0;34m\u001b[0m\u001b[0m\n\u001b[0;32m--> 216\u001b[0;31m             \u001b[0;32mreturn\u001b[0m \u001b[0mself\u001b[0m\u001b[0;34m.\u001b[0m\u001b[0mfunction\u001b[0m\u001b[0;34m(\u001b[0m\u001b[0;34m*\u001b[0m\u001b[0margs\u001b[0m\u001b[0;34m,\u001b[0m \u001b[0;34m**\u001b[0m\u001b[0mkwargs\u001b[0m\u001b[0;34m)\u001b[0m\u001b[0;34m\u001b[0m\u001b[0;34m\u001b[0m\u001b[0m\n\u001b[0m\u001b[1;32m    217\u001b[0m \u001b[0;34m\u001b[0m\u001b[0m\n\u001b[1;32m    218\u001b[0m \u001b[0;34m\u001b[0m\u001b[0m\n",
            "\u001b[0;32m/usr/local/lib/python3.7/dist-packages/sklearn/model_selection/_validation.py\u001b[0m in \u001b[0;36m_fit_and_score\u001b[0;34m(estimator, X, y, scorer, train, test, verbose, parameters, fit_params, return_train_score, return_parameters, return_n_test_samples, return_times, return_estimator, split_progress, candidate_progress, error_score)\u001b[0m\n\u001b[1;32m    678\u001b[0m             \u001b[0mestimator\u001b[0m\u001b[0;34m.\u001b[0m\u001b[0mfit\u001b[0m\u001b[0;34m(\u001b[0m\u001b[0mX_train\u001b[0m\u001b[0;34m,\u001b[0m \u001b[0;34m**\u001b[0m\u001b[0mfit_params\u001b[0m\u001b[0;34m)\u001b[0m\u001b[0;34m\u001b[0m\u001b[0;34m\u001b[0m\u001b[0m\n\u001b[1;32m    679\u001b[0m         \u001b[0;32melse\u001b[0m\u001b[0;34m:\u001b[0m\u001b[0;34m\u001b[0m\u001b[0;34m\u001b[0m\u001b[0m\n\u001b[0;32m--> 680\u001b[0;31m             \u001b[0mestimator\u001b[0m\u001b[0;34m.\u001b[0m\u001b[0mfit\u001b[0m\u001b[0;34m(\u001b[0m\u001b[0mX_train\u001b[0m\u001b[0;34m,\u001b[0m \u001b[0my_train\u001b[0m\u001b[0;34m,\u001b[0m \u001b[0;34m**\u001b[0m\u001b[0mfit_params\u001b[0m\u001b[0;34m)\u001b[0m\u001b[0;34m\u001b[0m\u001b[0;34m\u001b[0m\u001b[0m\n\u001b[0m\u001b[1;32m    681\u001b[0m \u001b[0;34m\u001b[0m\u001b[0m\n\u001b[1;32m    682\u001b[0m     \u001b[0;32mexcept\u001b[0m \u001b[0mException\u001b[0m\u001b[0;34m:\u001b[0m\u001b[0;34m\u001b[0m\u001b[0;34m\u001b[0m\u001b[0m\n",
            "\u001b[0;32m/usr/local/lib/python3.7/dist-packages/sklearn/svm/_classes.py\u001b[0m in \u001b[0;36mfit\u001b[0;34m(self, X, y, sample_weight)\u001b[0m\n\u001b[1;32m    270\u001b[0m             \u001b[0mself\u001b[0m\u001b[0;34m.\u001b[0m\u001b[0mmulti_class\u001b[0m\u001b[0;34m,\u001b[0m\u001b[0;34m\u001b[0m\u001b[0;34m\u001b[0m\u001b[0m\n\u001b[1;32m    271\u001b[0m             \u001b[0mself\u001b[0m\u001b[0;34m.\u001b[0m\u001b[0mloss\u001b[0m\u001b[0;34m,\u001b[0m\u001b[0;34m\u001b[0m\u001b[0;34m\u001b[0m\u001b[0m\n\u001b[0;32m--> 272\u001b[0;31m             \u001b[0msample_weight\u001b[0m\u001b[0;34m=\u001b[0m\u001b[0msample_weight\u001b[0m\u001b[0;34m,\u001b[0m\u001b[0;34m\u001b[0m\u001b[0;34m\u001b[0m\u001b[0m\n\u001b[0m\u001b[1;32m    273\u001b[0m         )\n\u001b[1;32m    274\u001b[0m \u001b[0;34m\u001b[0m\u001b[0m\n",
            "\u001b[0;32m/usr/local/lib/python3.7/dist-packages/sklearn/svm/_base.py\u001b[0m in \u001b[0;36m_fit_liblinear\u001b[0;34m(X, y, C, fit_intercept, intercept_scaling, class_weight, penalty, dual, verbose, max_iter, tol, random_state, multi_class, loss, epsilon, sample_weight)\u001b[0m\n\u001b[1;32m   1196\u001b[0m         \u001b[0mrnd\u001b[0m\u001b[0;34m.\u001b[0m\u001b[0mrandint\u001b[0m\u001b[0;34m(\u001b[0m\u001b[0mnp\u001b[0m\u001b[0;34m.\u001b[0m\u001b[0miinfo\u001b[0m\u001b[0;34m(\u001b[0m\u001b[0;34m\"i\"\u001b[0m\u001b[0;34m)\u001b[0m\u001b[0;34m.\u001b[0m\u001b[0mmax\u001b[0m\u001b[0;34m)\u001b[0m\u001b[0;34m,\u001b[0m\u001b[0;34m\u001b[0m\u001b[0;34m\u001b[0m\u001b[0m\n\u001b[1;32m   1197\u001b[0m         \u001b[0mepsilon\u001b[0m\u001b[0;34m,\u001b[0m\u001b[0;34m\u001b[0m\u001b[0;34m\u001b[0m\u001b[0m\n\u001b[0;32m-> 1198\u001b[0;31m         \u001b[0msample_weight\u001b[0m\u001b[0;34m,\u001b[0m\u001b[0;34m\u001b[0m\u001b[0;34m\u001b[0m\u001b[0m\n\u001b[0m\u001b[1;32m   1199\u001b[0m     )\n\u001b[1;32m   1200\u001b[0m     \u001b[0;31m# Regarding rnd.randint(..) in the above signature:\u001b[0m\u001b[0;34m\u001b[0m\u001b[0;34m\u001b[0m\u001b[0;34m\u001b[0m\u001b[0m\n",
            "\u001b[0;31mKeyboardInterrupt\u001b[0m: "
          ]
        }
      ]
    },
    {
      "cell_type": "markdown",
      "source": [
        "c) Finalize your SVM model based on cross-validation\n"
      ],
      "metadata": {
        "id": "NFeWHGqXp6Q8"
      }
    },
    {
      "cell_type": "code",
      "source": [
        "#based on cross validation scores, svc model with kernel='rbf gives the best accuracy and will be used as our final model"
      ],
      "metadata": {
        "id": "XyAqlHYV8rGp"
      },
      "execution_count": null,
      "outputs": []
    },
    {
      "cell_type": "markdown",
      "source": [
        "### 6. Evaluate and compare the classification models on the test set provided to you"
      ],
      "metadata": {
        "id": "D4t1gaEKp90k"
      }
    },
    {
      "cell_type": "markdown",
      "source": [
        "a) Calculate the classification accuracy of both the models and compare"
      ],
      "metadata": {
        "id": "zOAthu8rqKN8"
      }
    },
    {
      "cell_type": "code",
      "source": [
        "knn_final = KNeighborsClassifier(n_neighbors = 3,metric='correlation')\n",
        "knn_final.fit(train_data_flat, train_labels)\n",
        "y_pred_knn=knn_final.predict(test_data)\n",
        "\n",
        "print('Accuracy of KNN model: ',accuracy_score(test_labels, y_pred_knn)*100,'%')"
      ],
      "metadata": {
        "id": "vXJ_hdiF8smB",
        "colab": {
          "base_uri": "https://localhost:8080/"
        },
        "outputId": "ca49a70d-ec42-4bc2-dfa7-65661eec1fee"
      },
      "execution_count": null,
      "outputs": [
        {
          "output_type": "stream",
          "name": "stdout",
          "text": [
            "Accuracy of KNN model:  84.1823056300268 %\n"
          ]
        }
      ]
    },
    {
      "cell_type": "code",
      "source": [
        "svc_final = SVC(kernel = 'rbf')\n",
        "svc_final.fit(train_data_flat, train_labels)\n",
        "y_pred_svc=svc_final.predict(test_data)\n",
        "\n",
        "print('Accuracy of KNN model: ',accuracy_score(test_labels, y_pred_svc)*100,'%')"
      ],
      "metadata": {
        "colab": {
          "base_uri": "https://localhost:8080/"
        },
        "id": "O0PwH3fEkmYY",
        "outputId": "406d7bc7-930b-4188-d92c-8f8685601ee9"
      },
      "execution_count": null,
      "outputs": [
        {
          "output_type": "stream",
          "name": "stdout",
          "text": [
            "Accuracy of KNN model:  88.47184986595174 %\n"
          ]
        }
      ]
    },
    {
      "cell_type": "markdown",
      "source": [
        "b) Which are the two classes that were most confused by your model? What\n",
        "classification evaluation metric can be used to best visualize it? Plot the\n",
        "visualization for both models"
      ],
      "metadata": {
        "id": "eQHQ469MqRqs"
      }
    },
    {
      "cell_type": "code",
      "source": [
        "mistakes_knn=[]\n",
        "mistakes_svc=[]\n",
        "for i in range(len(test_labels)):\n",
        "  if(y_pred_knn[i]!=test_labels[i]):\n",
        "    mistakes_knn.append(test_labels[i])\n",
        "  if(y_pred_svc[i]!=test_labels[i]):\n",
        "    mistakes_svc.append(test_labels[i])\n",
        "\n",
        "from collections import Counter\n",
        "print(\"for KNN: \", Counter(mistakes_knn))\n",
        "print(\"for SVC: \", Counter(mistakes_svc))\n"
      ],
      "metadata": {
        "id": "58JewE7j8tD6",
        "colab": {
          "base_uri": "https://localhost:8080/"
        },
        "outputId": "d3886e7e-f16e-4dd7-cb1c-1decfc17661b"
      },
      "execution_count": null,
      "outputs": [
        {
          "output_type": "stream",
          "name": "stdout",
          "text": [
            "for KNN:  Counter({3: 37, 2: 21, 6: 20, 4: 19, 0: 11, 1: 7, 5: 3})\n",
            "for SVC:  Counter({3: 28, 0: 16, 6: 14, 2: 12, 1: 7, 4: 7, 5: 2})\n"
          ]
        }
      ]
    },
    {
      "cell_type": "code",
      "source": [
        "# label label no. according to their label names\n",
        "#  0->airplane   1->bicycle    2->boat   3->motorbus   4->motorcycle   5->seaplane   6->truck  \n",
        "\n",
        "#from the above counter we can see,\n",
        "#for KNN the most wrongly predicted class is motorbus(3) followed by boat(2)\n",
        "#for SVC the most wrongly predicted class is motorbus(3) followed by airplane(0)"
      ],
      "metadata": {
        "id": "G6lneHpinHl4"
      },
      "execution_count": null,
      "outputs": []
    },
    {
      "cell_type": "markdown",
      "source": [
        "*   the two classes that were most confused by KNN model: are 1. Motorbus 2.boat\n",
        "*   the two classes that were most confused by SVC model: are 1. Motorbus 2. airplane\n",
        "\n"
      ],
      "metadata": {
        "id": "7PUb0hjApg1T"
      }
    },
    {
      "cell_type": "code",
      "source": [
        "from sklearn.metrics import confusion_matrix\n",
        "import pandas as pd\n",
        "import numpy as np\n",
        "import seaborn as sns\n",
        "import matplotlib.pyplot as plt"
      ],
      "metadata": {
        "id": "vtJgBP-usIwh"
      },
      "execution_count": null,
      "outputs": []
    },
    {
      "cell_type": "code",
      "source": [
        "knn_final = KNeighborsClassifier(n_neighbors = 3,metric='correlation')\n",
        "knn_final.fit(train_data_flat, train_labels)\n",
        "y_pred_knn=knn_final.predict(test_data)\n",
        "confusion_matrix_knn= confusion_matrix(test_labels, y_pred_knn)\n",
        "\n",
        "knn_df = pd.DataFrame(confusion_matrix_knn,\n",
        "                     index = ['airplane', 'bicycle', 'boat', 'motorbus', 'motorcycle', 'seaplane', 'truck'], \n",
        "                     columns = ['airplane', 'bicycle', 'boat', 'motorbus', 'motorcycle', 'seaplane', 'truck'])\n",
        "plt.figure(figsize=(8,6))\n",
        "sns.heatmap(knn_df, annot=True)\n",
        "plt.title('Confusion Matrix')\n",
        "plt.ylabel('Actual Values')\n",
        "plt.xlabel('Predicted Values')\n",
        "plt.show()"
      ],
      "metadata": {
        "colab": {
          "base_uri": "https://localhost:8080/",
          "height": 449
        },
        "id": "z2YWFQ0psK8h",
        "outputId": "7a7beffe-aae7-4483-c141-18cb0b819be5"
      },
      "execution_count": null,
      "outputs": [
        {
          "output_type": "display_data",
          "data": {
            "text/plain": [
              "<Figure size 576x432 with 2 Axes>"
            ],
            "image/png": "[encoded data removed]"
          },
          "metadata": {
            "needs_background": "light"
          }
        }
      ]
    },
    {
      "cell_type": "code",
      "source": [
        "svc_final = SVC(kernel = 'rbf')\n",
        "svc_final.fit(train_data_flat, train_labels)\n",
        "y_pred_svc=svc_final.predict(test_data)\n",
        "confusion_matrix_svc= confusion_matrix(test_labels, y_pred_svc)\n",
        "\n",
        "svc_df = pd.DataFrame(confusion_matrix_svc,\n",
        "                     index = ['airplane', 'bicycle', 'boat', 'motorbus', 'motorcycle', 'seaplane', 'truck'], \n",
        "                     columns = ['airplane', 'bicycle', 'boat', 'motorbus', 'motorcycle', 'seaplane', 'truck'])\n",
        "plt.figure(figsize=(8,6))\n",
        "sns.heatmap(svc_df, annot=True)\n",
        "plt.title('Confusion Matrix')\n",
        "plt.ylabel('Actal Values')\n",
        "plt.xlabel('Predicted Values')\n",
        "plt.show()"
      ],
      "metadata": {
        "colab": {
          "base_uri": "https://localhost:8080/",
          "height": 449
        },
        "id": "xh1_LOkNs1rs",
        "outputId": "958c3f9f-5afe-4458-9e3c-ded06f92d7a7"
      },
      "execution_count": null,
      "outputs": [
        {
          "output_type": "display_data",
          "data": {
            "text/plain": [
              "<Figure size 576x432 with 2 Axes>"
            ],
            "image/png": "[encoded data removed]"
          },
          "metadata": {
            "needs_background": "light"
          }
        }
      ]
    },
    {
      "cell_type": "markdown",
      "source": [
        "c) Do you think you can maximize both Precision and Recall for a model? What\n",
        "do you think will be a better metric to judge a model? "
      ],
      "metadata": {
        "id": "X4nSL3LCqZ_M"
      }
    },
    {
      "cell_type": "code",
      "source": [
        "# No, we cannot maximize both Precision and Recall for a model. In the case of recall and precision, when we increase the recall, we decrease the precision and vice-versa.\n",
        "\n",
        "# precision is used when we require less false positives ie. data object is negative but our model considered it as positive\n",
        "# For eg. - For YouTube recommendations, false-negatives is not that concerning. Here, we want less false positives as it would not be good if we miss videos thaat the user likes\n",
        "# just because out model predicted it as false. we would want greater precision as youtube would not want to lose its viewer's interests. \n",
        "\n",
        "\n",
        "# recall is used when we require less false negatives ie. data abject is positive but is considered as one.\n",
        "# For eg. in the case of predicting heart patients. In this case we would not want any actual heart patient to be predicted as negative as it is crucial the patient's health.\n",
        "# we would like to detect as many heart patients as possible.\n",
        "\n",
        "## in somecases where both precison and recall our equally important, we can combine the two metrics using the F1 score as the F1 score is the harmonic mean of precision and recall\n",
        "\n"
      ],
      "metadata": {
        "id": "w1TSBbe-8tbh"
      },
      "execution_count": null,
      "outputs": []
    },
    {
      "cell_type": "markdown",
      "source": [
        "d) A bridge in Raipur is unstable and we want to avoid fatalities. Trucks and\n",
        "Buses should be stopped while motorbikes and bicycles can be allowed. Which\n",
        "of your 2 models do you think will be better for this task? Explain with the help of\n",
        "Precision/Recall, ROC curve and AUC."
      ],
      "metadata": {
        "id": "BozZpu-1qj6E"
      }
    },
    {
      "cell_type": "markdown",
      "source": [
        "###model: KNN"
      ],
      "metadata": {
        "id": "r7jRvA9L0Pth"
      }
    },
    {
      "cell_type": "code",
      "source": [
        "\n",
        "from sklearn.metrics import precision_score,recall_score\n",
        "precision= precision_score(test_labels,  y_pred_knn,average=None)\n",
        "recall= recall_score(test_labels,  y_pred_knn,average=None)\n",
        "\n",
        "labels=['airplane', 'bicycle', 'boat', 'motorbus', 'motorcycle', 'seaplane', 'truck']\n",
        "df_knn = pd.DataFrame({'precision':precision,'recall':recall, 'labels':labels})\n",
        "df_knn"
      ],
      "metadata": {
        "id": "O0iNyvYQ8tvq",
        "colab": {
          "base_uri": "https://localhost:8080/",
          "height": 269
        },
        "outputId": "ba16ca2e-5935-4fb6-a054-6a839097f7fa"
      },
      "execution_count": null,
      "outputs": [
        {
          "output_type": "execute_result",
          "data": {
            "text/plain": [
              "   precision    recall      labels\n",
              "0   0.731707  0.891089    airplane\n",
              "1   0.914286  0.901408     bicycle\n",
              "2   0.904000  0.843284        boat\n",
              "3   0.615385  0.393443    motorbus\n",
              "4   1.000000  0.865248  motorcycle\n",
              "5   0.867470  0.960000    seaplane\n",
              "6   0.777174  0.877301       truck"
            ],
            "text/html": [
              "\n",
              "  <div id=\"df-90c6ceff-f812-47eb-a8f4-e15875ed7688\">\n",
              "    <div class=\"colab-df-container\">\n",
              "      <div>\n",
              "<style scoped>\n",
              "    .dataframe tbody tr th:only-of-type {\n",
              "        vertical-align: middle;\n",
              "    }\n",
              "\n",
              "    .dataframe tbody tr th {\n",
              "        vertical-align: top;\n",
              "    }\n",
              "\n",
              "    .dataframe thead th {\n",
              "        text-align: right;\n",
              "    }\n",
              "</style>\n",
              "<table border=\"1\" class=\"dataframe\">\n",
              "  <thead>\n",
              "    <tr style=\"text-align: right;\">\n",
              "      <th></th>\n",
              "      <th>precision</th>\n",
              "      <th>recall</th>\n",
              "      <th>labels</th>\n",
              "    </tr>\n",
              "  </thead>\n",
              "  <tbody>\n",
              "    <tr>\n",
              "      <th>0</th>\n",
              "      <td>0.731707</td>\n",
              "      <td>0.891089</td>\n",
              "      <td>airplane</td>\n",
              "    </tr>\n",
              "    <tr>\n",
              "      <th>1</th>\n",
              "      <td>0.914286</td>\n",
              "      <td>0.901408</td>\n",
              "      <td>bicycle</td>\n",
              "    </tr>\n",
              "    <tr>\n",
              "      <th>2</th>\n",
              "      <td>0.904000</td>\n",
              "      <td>0.843284</td>\n",
              "      <td>boat</td>\n",
              "    </tr>\n",
              "    <tr>\n",
              "      <th>3</th>\n",
              "      <td>0.615385</td>\n",
              "      <td>0.393443</td>\n",
              "      <td>motorbus</td>\n",
              "    </tr>\n",
              "    <tr>\n",
              "      <th>4</th>\n",
              "      <td>1.000000</td>\n",
              "      <td>0.865248</td>\n",
              "      <td>motorcycle</td>\n",
              "    </tr>\n",
              "    <tr>\n",
              "      <th>5</th>\n",
              "      <td>0.867470</td>\n",
              "      <td>0.960000</td>\n",
              "      <td>seaplane</td>\n",
              "    </tr>\n",
              "    <tr>\n",
              "      <th>6</th>\n",
              "      <td>0.777174</td>\n",
              "      <td>0.877301</td>\n",
              "      <td>truck</td>\n",
              "    </tr>\n",
              "  </tbody>\n",
              "</table>\n",
              "</div>\n",
              "      <button class=\"colab-df-convert\" onclick=\"convertToInteractive('df-90c6ceff-f812-47eb-a8f4-e15875ed7688')\"\n",
              "              title=\"Convert this dataframe to an interactive table.\"\n",
              "              style=\"display:none;\">\n",
              "        \n",
              "  <svg xmlns=\"http://www.w3.org/2000/svg\" height=\"24px\"viewBox=\"0 0 24 24\"\n",
              "       width=\"24px\">\n",
              "    <path d=\"M0 0h24v24H0V0z\" fill=\"none\"/>\n",
              "    <path d=\"M18.56 5.44l.94 2.06.94-2.06 2.06-.94-2.06-.94-.94-2.06-.94 2.06-2.06.94zm-11 1L8.5 8.5l.94-2.06 2.06-.94-2.06-.94L8.5 2.5l-.94 2.06-2.06.94zm10 10l.94 2.06.94-2.06 2.06-.94-2.06-.94-.94-2.06-.94 2.06-2.06.94z\"/><path d=\"M17.41 7.96l-1.37-1.37c-.4-.4-.92-.59-1.43-.59-.52 0-1.04.2-1.43.59L10.3 9.45l-7.72 7.72c-.78.78-.78 2.05 0 2.83L4 21.41c.39.39.9.59 1.41.59.51 0 1.02-.2 1.41-.59l7.78-7.78 2.81-2.81c.8-.78.8-2.07 0-2.86zM5.41 20L4 18.59l7.72-7.72 1.47 1.35L5.41 20z\"/>\n",
              "  </svg>\n",
              "      </button>\n",
              "      \n",
              "  <style>\n",
              "    .colab-df-container {\n",
              "      display:flex;\n",
              "      flex-wrap:wrap;\n",
              "      gap: 12px;\n",
              "    }\n",
              "\n",
              "    .colab-df-convert {\n",
              "      background-color: #E8F0FE;\n",
              "      border: none;\n",
              "      border-radius: 50%;\n",
              "      cursor: pointer;\n",
              "      display: none;\n",
              "      fill: #1967D2;\n",
              "      height: 32px;\n",
              "      padding: 0 0 0 0;\n",
              "      width: 32px;\n",
              "    }\n",
              "\n",
              "    .colab-df-convert:hover {\n",
              "      background-color: #E2EBFA;\n",
              "      box-shadow: 0px 1px 2px rgba(60, 64, 67, 0.3), 0px 1px 3px 1px rgba(60, 64, 67, 0.15);\n",
              "      fill: #174EA6;\n",
              "    }\n",
              "\n",
              "    [theme=dark] .colab-df-convert {\n",
              "      background-color: #3B4455;\n",
              "      fill: #D2E3FC;\n",
              "    }\n",
              "\n",
              "    [theme=dark] .colab-df-convert:hover {\n",
              "      background-color: #434B5C;\n",
              "      box-shadow: 0px 1px 3px 1px rgba(0, 0, 0, 0.15);\n",
              "      filter: drop-shadow(0px 1px 2px rgba(0, 0, 0, 0.3));\n",
              "      fill: #FFFFFF;\n",
              "    }\n",
              "  </style>\n",
              "\n",
              "      <script>\n",
              "        const buttonEl =\n",
              "          document.querySelector('#df-90c6ceff-f812-47eb-a8f4-e15875ed7688 button.colab-df-convert');\n",
              "        buttonEl.style.display =\n",
              "          google.colab.kernel.accessAllowed ? 'block' : 'none';\n",
              "\n",
              "        async function convertToInteractive(key) {\n",
              "          const element = document.querySelector('#df-90c6ceff-f812-47eb-a8f4-e15875ed7688');\n",
              "          const dataTable =\n",
              "            await google.colab.kernel.invokeFunction('convertToInteractive',\n",
              "                                                     [key], {});\n",
              "          if (!dataTable) return;\n",
              "\n",
              "          const docLinkHtml = 'Like what you see? Visit the ' +\n",
              "            '<a target=\"_blank\" href=https://colab.research.google.com/notebooks/data_table.ipynb>data table notebook</a>'\n",
              "            + ' to learn more about interactive tables.';\n",
              "          element.innerHTML = '';\n",
              "          dataTable['output_type'] = 'display_data';\n",
              "          await google.colab.output.renderOutput(dataTable, element);\n",
              "          const docLink = document.createElement('div');\n",
              "          docLink.innerHTML = docLinkHtml;\n",
              "          element.appendChild(docLink);\n",
              "        }\n",
              "      </script>\n",
              "    </div>\n",
              "  </div>\n",
              "  "
            ]
          },
          "metadata": {},
          "execution_count": 83
        }
      ]
    },
    {
      "cell_type": "code",
      "source": [
        "from sklearn.metrics import roc_curve, roc_auc_score"
      ],
      "metadata": {
        "id": "9nhk7hmW3tmV"
      },
      "execution_count": null,
      "outputs": []
    },
    {
      "cell_type": "code",
      "source": [
        "fpr = {}\n",
        "tpr = {}\n",
        "thresh ={}\n",
        "\n",
        "n_class = 7\n",
        "\n",
        "for i in range(n_class):    \n",
        "    fpr[i], tpr[i], thresh[i] = roc_curve(test_labels, y_pred_knn, pos_label=i)\n",
        "    \n",
        "# plotting    \n",
        "plt.plot(fpr[0], tpr[0],color='orange', label='Class airplane vs Rest')\n",
        "plt.plot(fpr[1], tpr[1],color='green', label='Class bicycle vs Rest')\n",
        "plt.plot(fpr[2], tpr[2],color='blue', label='Class boat vs Rest')\n",
        "plt.plot(fpr[3], tpr[3],color='yellow', label='Class motorbus vs Rest')\n",
        "plt.plot(fpr[4], tpr[4],color='red', label='Class motorcycle vs Rest')\n",
        "plt.plot(fpr[5], tpr[5],color='black', label='Class seaplane vs Rest')\n",
        "plt.plot(fpr[6], tpr[6],color='purple', label='Class truck vs Rest')\n",
        "\n",
        "plt.title('Multiclass ROC curve')\n",
        "plt.xlabel('False Positive Rate')\n",
        "plt.ylabel('True Positive rate')"
      ],
      "metadata": {
        "colab": {
          "base_uri": "https://localhost:8080/",
          "height": 312
        },
        "id": "AB8Jh5Q65J5T",
        "outputId": "87900457-6f98-4ed0-8fe8-8fa6e1866d7a"
      },
      "execution_count": null,
      "outputs": [
        {
          "output_type": "execute_result",
          "data": {
            "text/plain": [
              "Text(0, 0.5, 'True Positive rate')"
            ]
          },
          "metadata": {},
          "execution_count": 85
        },
        {
          "output_type": "display_data",
          "data": {
            "text/plain": [
              "<Figure size 432x288 with 1 Axes>"
            ],
            "image/png": "[encoded data removed]"
          },
          "metadata": {
            "needs_background": "light"
          }
        }
      ]
    },
    {
      "cell_type": "markdown",
      "source": [
        "###model: SVC"
      ],
      "metadata": {
        "id": "ETKEY_650S7m"
      }
    },
    {
      "cell_type": "code",
      "source": [
        "precision= precision_score(test_labels,  y_pred_svc,average=None)\n",
        "recall= recall_score(test_labels,  y_pred_svc,average=None)\n",
        "\n",
        "labels=['airplane', 'bicycle', 'boat', 'motorbus', 'motorcycle', 'seaplane', 'truck']\n",
        "df_svc = pd.DataFrame({'precision':precision,'recall':recall, 'labels':labels})\n",
        "df_svc"
      ],
      "metadata": {
        "colab": {
          "base_uri": "https://localhost:8080/",
          "height": 269
        },
        "id": "a9RuuHJ80WyK",
        "outputId": "1496cd17-cfdf-479f-fbfa-432469c2a21b"
      },
      "execution_count": null,
      "outputs": [
        {
          "output_type": "execute_result",
          "data": {
            "text/plain": [
              "   precision    recall      labels\n",
              "0   0.850000  0.841584    airplane\n",
              "1   0.955224  0.901408     bicycle\n",
              "2   0.871429  0.910448        boat\n",
              "3   0.825000  0.540984    motorbus\n",
              "4   0.964029  0.950355  motorcycle\n",
              "5   1.000000  0.973333    seaplane\n",
              "6   0.796791  0.914110       truck"
            ],
            "text/html": [
              "\n",
              "  <div id=\"df-5ca15a8f-394e-47ce-b4ce-2054d4631e55\">\n",
              "    <div class=\"colab-df-container\">\n",
              "      <div>\n",
              "<style scoped>\n",
              "    .dataframe tbody tr th:only-of-type {\n",
              "        vertical-align: middle;\n",
              "    }\n",
              "\n",
              "    .dataframe tbody tr th {\n",
              "        vertical-align: top;\n",
              "    }\n",
              "\n",
              "    .dataframe thead th {\n",
              "        text-align: right;\n",
              "    }\n",
              "</style>\n",
              "<table border=\"1\" class=\"dataframe\">\n",
              "  <thead>\n",
              "    <tr style=\"text-align: right;\">\n",
              "      <th></th>\n",
              "      <th>precision</th>\n",
              "      <th>recall</th>\n",
              "      <th>labels</th>\n",
              "    </tr>\n",
              "  </thead>\n",
              "  <tbody>\n",
              "    <tr>\n",
              "      <th>0</th>\n",
              "      <td>0.850000</td>\n",
              "      <td>0.841584</td>\n",
              "      <td>airplane</td>\n",
              "    </tr>\n",
              "    <tr>\n",
              "      <th>1</th>\n",
              "      <td>0.955224</td>\n",
              "      <td>0.901408</td>\n",
              "      <td>bicycle</td>\n",
              "    </tr>\n",
              "    <tr>\n",
              "      <th>2</th>\n",
              "      <td>0.871429</td>\n",
              "      <td>0.910448</td>\n",
              "      <td>boat</td>\n",
              "    </tr>\n",
              "    <tr>\n",
              "      <th>3</th>\n",
              "      <td>0.825000</td>\n",
              "      <td>0.540984</td>\n",
              "      <td>motorbus</td>\n",
              "    </tr>\n",
              "    <tr>\n",
              "      <th>4</th>\n",
              "      <td>0.964029</td>\n",
              "      <td>0.950355</td>\n",
              "      <td>motorcycle</td>\n",
              "    </tr>\n",
              "    <tr>\n",
              "      <th>5</th>\n",
              "      <td>1.000000</td>\n",
              "      <td>0.973333</td>\n",
              "      <td>seaplane</td>\n",
              "    </tr>\n",
              "    <tr>\n",
              "      <th>6</th>\n",
              "      <td>0.796791</td>\n",
              "      <td>0.914110</td>\n",
              "      <td>truck</td>\n",
              "    </tr>\n",
              "  </tbody>\n",
              "</table>\n",
              "</div>\n",
              "      <button class=\"colab-df-convert\" onclick=\"convertToInteractive('df-5ca15a8f-394e-47ce-b4ce-2054d4631e55')\"\n",
              "              title=\"Convert this dataframe to an interactive table.\"\n",
              "              style=\"display:none;\">\n",
              "        \n",
              "  <svg xmlns=\"http://www.w3.org/2000/svg\" height=\"24px\"viewBox=\"0 0 24 24\"\n",
              "       width=\"24px\">\n",
              "    <path d=\"M0 0h24v24H0V0z\" fill=\"none\"/>\n",
              "    <path d=\"M18.56 5.44l.94 2.06.94-2.06 2.06-.94-2.06-.94-.94-2.06-.94 2.06-2.06.94zm-11 1L8.5 8.5l.94-2.06 2.06-.94-2.06-.94L8.5 2.5l-.94 2.06-2.06.94zm10 10l.94 2.06.94-2.06 2.06-.94-2.06-.94-.94-2.06-.94 2.06-2.06.94z\"/><path d=\"M17.41 7.96l-1.37-1.37c-.4-.4-.92-.59-1.43-.59-.52 0-1.04.2-1.43.59L10.3 9.45l-7.72 7.72c-.78.78-.78 2.05 0 2.83L4 21.41c.39.39.9.59 1.41.59.51 0 1.02-.2 1.41-.59l7.78-7.78 2.81-2.81c.8-.78.8-2.07 0-2.86zM5.41 20L4 18.59l7.72-7.72 1.47 1.35L5.41 20z\"/>\n",
              "  </svg>\n",
              "      </button>\n",
              "      \n",
              "  <style>\n",
              "    .colab-df-container {\n",
              "      display:flex;\n",
              "      flex-wrap:wrap;\n",
              "      gap: 12px;\n",
              "    }\n",
              "\n",
              "    .colab-df-convert {\n",
              "      background-color: #E8F0FE;\n",
              "      border: none;\n",
              "      border-radius: 50%;\n",
              "      cursor: pointer;\n",
              "      display: none;\n",
              "      fill: #1967D2;\n",
              "      height: 32px;\n",
              "      padding: 0 0 0 0;\n",
              "      width: 32px;\n",
              "    }\n",
              "\n",
              "    .colab-df-convert:hover {\n",
              "      background-color: #E2EBFA;\n",
              "      box-shadow: 0px 1px 2px rgba(60, 64, 67, 0.3), 0px 1px 3px 1px rgba(60, 64, 67, 0.15);\n",
              "      fill: #174EA6;\n",
              "    }\n",
              "\n",
              "    [theme=dark] .colab-df-convert {\n",
              "      background-color: #3B4455;\n",
              "      fill: #D2E3FC;\n",
              "    }\n",
              "\n",
              "    [theme=dark] .colab-df-convert:hover {\n",
              "      background-color: #434B5C;\n",
              "      box-shadow: 0px 1px 3px 1px rgba(0, 0, 0, 0.15);\n",
              "      filter: drop-shadow(0px 1px 2px rgba(0, 0, 0, 0.3));\n",
              "      fill: #FFFFFF;\n",
              "    }\n",
              "  </style>\n",
              "\n",
              "      <script>\n",
              "        const buttonEl =\n",
              "          document.querySelector('#df-5ca15a8f-394e-47ce-b4ce-2054d4631e55 button.colab-df-convert');\n",
              "        buttonEl.style.display =\n",
              "          google.colab.kernel.accessAllowed ? 'block' : 'none';\n",
              "\n",
              "        async function convertToInteractive(key) {\n",
              "          const element = document.querySelector('#df-5ca15a8f-394e-47ce-b4ce-2054d4631e55');\n",
              "          const dataTable =\n",
              "            await google.colab.kernel.invokeFunction('convertToInteractive',\n",
              "                                                     [key], {});\n",
              "          if (!dataTable) return;\n",
              "\n",
              "          const docLinkHtml = 'Like what you see? Visit the ' +\n",
              "            '<a target=\"_blank\" href=https://colab.research.google.com/notebooks/data_table.ipynb>data table notebook</a>'\n",
              "            + ' to learn more about interactive tables.';\n",
              "          element.innerHTML = '';\n",
              "          dataTable['output_type'] = 'display_data';\n",
              "          await google.colab.output.renderOutput(dataTable, element);\n",
              "          const docLink = document.createElement('div');\n",
              "          docLink.innerHTML = docLinkHtml;\n",
              "          element.appendChild(docLink);\n",
              "        }\n",
              "      </script>\n",
              "    </div>\n",
              "  </div>\n",
              "  "
            ]
          },
          "metadata": {},
          "execution_count": 86
        }
      ]
    },
    {
      "cell_type": "code",
      "source": [
        "fpr = {}\n",
        "tpr = {}\n",
        "thresh ={}\n",
        "\n",
        "n_class = 7\n",
        "\n",
        "for i in range(n_class):    \n",
        "    fpr[i], tpr[i], thresh[i] = roc_curve(test_labels, y_pred_svc, pos_label=i)\n",
        "    \n",
        "# plotting    \n",
        "plt.plot(fpr[0], tpr[0],color='orange', label='Class airplane vs Rest')\n",
        "plt.plot(fpr[1], tpr[1],color='green', label='Class bicycle vs Rest')\n",
        "plt.plot(fpr[2], tpr[2],color='blue', label='Class boat vs Rest')\n",
        "plt.plot(fpr[3], tpr[3],color='yellow', label='Class motorbus vs Rest')\n",
        "plt.plot(fpr[4], tpr[4],color='red', label='Class motorcycle vs Rest')\n",
        "plt.plot(fpr[5], tpr[5],color='black', label='Class seaplane vs Rest')\n",
        "plt.plot(fpr[6], tpr[6],color='purple', label='Class truck vs Rest')\n",
        "\n",
        "plt.title('Multiclass ROC curve')\n",
        "plt.xlabel('False Positive Rate')\n",
        "plt.ylabel('True Positive rate')"
      ],
      "metadata": {
        "colab": {
          "base_uri": "https://localhost:8080/",
          "height": 312
        },
        "id": "Zh2grbfz6Gsg",
        "outputId": "791ca450-fe11-4041-e71c-faf3652100d3"
      },
      "execution_count": null,
      "outputs": [
        {
          "output_type": "execute_result",
          "data": {
            "text/plain": [
              "Text(0, 0.5, 'True Positive rate')"
            ]
          },
          "metadata": {},
          "execution_count": 87
        },
        {
          "output_type": "display_data",
          "data": {
            "text/plain": [
              "<Figure size 432x288 with 1 Axes>"
            ],
            "image/png": "[encoded data removed]"
          },
          "metadata": {
            "needs_background": "light"
          }
        }
      ]
    },
    {
      "cell_type": "code",
      "source": [
        "# In our case:\n",
        "# if a truck/motorbus is classified as bicycle/motorcycle and is allowed to pass the bridge then it can cause casualties and will be very dangerous. But if motorcycles/bicycles\n",
        "# are classified as something else and allowed then it won't cause much problem.\n",
        "\n",
        "# So, precision/recall -> motorcycles and bicycles should have greater precision while motorbus and truck should have better recall.\n",
        "\n",
        "# while analyzing the confusion matrix also :\n",
        "# for KNN -> 2 trucks and 1 motorbus are classified as bicycles while none of them have been classified as motorcycles. (total4)\n",
        "# for SVC ->  2 trucks,1 motorbus classified as bicycle and 2 trucks,3motorbus are classified as motorcycles (total8) \n",
        "\n",
        "# according to this our KNN model would be better in this case."
      ],
      "metadata": {
        "id": "yOG3KyIZY9F4"
      },
      "execution_count": null,
      "outputs": []
    },
    {
      "cell_type": "markdown",
      "source": [
        "e) Find the Micro and Macro F1 Score of both of your models and comment on\n",
        "which is better and why.\n"
      ],
      "metadata": {
        "id": "F1P8jG-yqoic"
      }
    },
    {
      "cell_type": "markdown",
      "source": [
        "###for KNN"
      ],
      "metadata": {
        "id": "qYHk_sa67B6D"
      }
    },
    {
      "cell_type": "code",
      "source": [
        "from sklearn.metrics import f1_score\n",
        "\n",
        "f1_macro_knn=f1_score(test_labels, y_pred_knn, average='macro')\n",
        "f1_micro_knn=f1_score(test_labels, y_pred_knn, average='micro')\n",
        "print(\"macro F1 Score: \",f1_macro_knn)\n",
        "print(\"micro F1 Score: \",f1_micro_knn)"
      ],
      "metadata": {
        "id": "-1f2gJCR8uUR",
        "colab": {
          "base_uri": "https://localhost:8080/"
        },
        "outputId": "186d2f17-c9c5-4843-dd9a-ba365806cba3"
      },
      "execution_count": null,
      "outputs": [
        {
          "output_type": "stream",
          "name": "stdout",
          "text": [
            "macro F1 Score:  0.8181880387784418\n",
            "micro F1 Score:  0.8418230563002682\n"
          ]
        }
      ]
    },
    {
      "cell_type": "markdown",
      "source": [
        "###for SVC"
      ],
      "metadata": {
        "id": "E_9RVv7o7EUd"
      }
    },
    {
      "cell_type": "code",
      "source": [
        "f1_macro_svc=f1_score(test_labels, y_pred_svc, average='macro')\n",
        "f1_micro_svc=f1_score(test_labels, y_pred_svc, average='micro')\n",
        "print(\"macro F1 Score: \",f1_macro_svc)\n",
        "print(\"micro F1 Score: \",f1_micro_svc)"
      ],
      "metadata": {
        "colab": {
          "base_uri": "https://localhost:8080/"
        },
        "id": "CloL8zO57x_E",
        "outputId": "353d2d6c-753c-4de7-af30-4fa3f4918870"
      },
      "execution_count": null,
      "outputs": [
        {
          "output_type": "stream",
          "name": "stdout",
          "text": [
            "macro F1 Score:  0.8754260757437416\n",
            "micro F1 Score:  0.886058981233244\n"
          ]
        }
      ]
    },
    {
      "cell_type": "code",
      "source": [
        "# micro gives better accuracy. \n",
        "# Moreover, choosing between the both, it also depends on our objective ->  if the class is imbalanced and we care about a particular class, For eg class A is rare, \n",
        "# but it’s way important, then ‘macro’ should be a better choice because it treats each class equally. \n",
        "# In a multi-class classification, micro-average is preferable if you suspect there might be a class imbalance and no preference is for a particular class"
      ],
      "metadata": {
        "id": "MVKbz37rVmgh"
      },
      "execution_count": null,
      "outputs": []
    },
    {
      "cell_type": "markdown",
      "source": [
        "### 7. Write a function to create a random 3x3 captcha matrix and ask the user to label the class with maximum number of examples. Estimate how often your best model will be able to solve the captcha problem correctly.\n"
      ],
      "metadata": {
        "id": "UUawl4xPrMwM"
      }
    },
    {
      "cell_type": "code",
      "source": [
        "def convert(arr, N):\n",
        "    ans=[]\n",
        "    mp = {}\n",
        "     \n",
        "    mp[0] = \"aiplane\"\n",
        "    mp[1] = \"bicycle\"\n",
        "    mp[2] = \"boat\"\n",
        "    mp[3] = \"motorbus\"\n",
        "    mp[4] = \"motorcycle\"\n",
        "    mp[5] = \"seaplane\"\n",
        "    mp[6] = \"truck\"\n",
        " \n",
        "    for i in range(N):\n",
        "        ans.append(mp[arr[i]])\n",
        "    return ans"
      ],
      "metadata": {
        "id": "Y44lhps3tac8"
      },
      "execution_count": null,
      "outputs": []
    },
    {
      "cell_type": "code",
      "source": [
        "rimg_list=[]\n",
        "rlabel_list=[]\n",
        "for i in range(9):\n",
        "  x=random.randint(0,len(testing_data))\n",
        "  rimg_list.append(testing_data[x])\n",
        "  rlabel_list.append(testing_labels[x])"
      ],
      "metadata": {
        "id": "0z3SWcGQhT8J"
      },
      "execution_count": null,
      "outputs": []
    },
    {
      "cell_type": "code",
      "source": [
        "rimg_flat = []\n",
        "for x in range(len(rimg_list)):\n",
        "  rimg_flat.append(rimg_list[x].flatten())"
      ],
      "metadata": {
        "id": "WAhUEx7pq_is"
      },
      "execution_count": null,
      "outputs": []
    },
    {
      "cell_type": "code",
      "source": [
        "fig = plt.figure(figsize=(9, 9))\n",
        "rows=3\n",
        "columns=3\n",
        "\n",
        "for i in range(1, 10): \n",
        "    fig.add_subplot(rows, columns, i)\n",
        "    plt.title(i-1)\n",
        "    plt.imshow(Image.fromarray(rimg_list[i-1]),cmap='gray')\n",
        "    plt.axis('off')\n"
      ],
      "metadata": {
        "colab": {
          "base_uri": "https://localhost:8080/",
          "height": 536
        },
        "id": "vPoMmH-vgEIr",
        "outputId": "1d1fc8f3-ce83-45bc-befa-3c9695236ac5"
      },
      "execution_count": null,
      "outputs": [
        {
          "output_type": "display_data",
          "data": {
            "text/plain": [
              "<Figure size 648x648 with 9 Axes>"
            ],
            "image/png": "[encoded data removed]"
          },
          "metadata": {
            "needs_background": "light"
          }
        }
      ]
    },
    {
      "cell_type": "code",
      "source": [
        "pred=svc_final.predict(rimg_flat)\n",
        "lst=convert(pred, len(pred));\n",
        "print('classes predicted by the model: ',lst)\n",
        "print('actual classes: ',rlabel_list)\n",
        "\n",
        "print()"
      ],
      "metadata": {
        "colab": {
          "base_uri": "https://localhost:8080/"
        },
        "id": "WSigbmybp70p",
        "outputId": "c4889830-64f9-46cc-8e1f-defb18768501"
      },
      "execution_count": null,
      "outputs": [
        {
          "output_type": "stream",
          "name": "stdout",
          "text": [
            "classes predicted by the model:  ['bicycle', 'boat', 'aiplane', 'seaplane', 'boat', 'aiplane', 'seaplane', 'boat', 'seaplane']\n",
            "actual classes:  ['bicycle', 'boat', 'airplane', 'seaplane', 'airplane', 'boat', 'seaplane', 'boat', 'seaplane']\n",
            "\n"
          ]
        }
      ]
    },
    {
      "cell_type": "code",
      "source": [
        "from statistics import mode"
      ],
      "metadata": {
        "id": "YenFMotycVZu"
      },
      "execution_count": null,
      "outputs": []
    },
    {
      "cell_type": "code",
      "source": [
        "print('predicted: ',Counter(lst))\n",
        "print()\n",
        "print('actual: ',Counter(rlabel_list))\n",
        "max_pre=max(lst,key=lst.count)\n",
        "max_act=max(rlabel_list,key=rlabel_list.count)"
      ],
      "metadata": {
        "colab": {
          "base_uri": "https://localhost:8080/"
        },
        "id": "em4nfeMqZhLJ",
        "outputId": "09a7973c-edf2-4277-b285-2ad379b1c9f8"
      },
      "execution_count": null,
      "outputs": [
        {
          "output_type": "stream",
          "name": "stdout",
          "text": [
            "predicted:  Counter({'boat': 3, 'seaplane': 3, 'aiplane': 2, 'bicycle': 1})\n",
            "\n",
            "actual:  Counter({'boat': 3, 'seaplane': 3, 'airplane': 2, 'bicycle': 1})\n"
          ]
        }
      ]
    },
    {
      "cell_type": "code",
      "source": [
        "# after running the code 30 times, I found that 23 times out model predicted the correct class which was accouring the most in our model. ie. max_pre == max_act\n",
        "# So we can say, out of 30 times -> our model was correct 23 tiimes.\n",
        "# Thus the accuracy of correct predictions wouldbe 76%"
      ],
      "metadata": {
        "id": "8IG3xLBqcoqw"
      },
      "execution_count": null,
      "outputs": []
    },
    {
      "cell_type": "markdown",
      "source": [
        "## Part B: Ensemble Models\n",
        "\n",
        "You started a Car Selling business and you are giving recommendations to people for buying cars.\n",
        "\n",
        "We have provided a dataset to help you start your business.\n",
        "\n",
        "\n",
        "Dataset: https://github.com/sarang-iitb/Car_Condition_evaluation_dataset\n",
        "\n",
        "\n",
        "Now, your job is to train a robust model and we will test how good you are on the test set. "
      ],
      "metadata": {
        "id": "gD7R5tgFrS2s"
      }
    },
    {
      "cell_type": "code",
      "source": [
        "# get the dataset\n",
        "!git clone 'https://github.com/sarang-iitb/Car_Condition_evaluation_dataset'"
      ],
      "metadata": {
        "id": "kpU_rFjRDWJv",
        "colab": {
          "base_uri": "https://localhost:8080/"
        },
        "outputId": "e1397e7c-5944-41a9-fbc0-17b18a47b785"
      },
      "execution_count": null,
      "outputs": [
        {
          "output_type": "stream",
          "name": "stdout",
          "text": [
            "Cloning into 'Car_Condition_evaluation_dataset'...\n",
            "remote: Enumerating objects: 19, done.\u001b[K\n",
            "remote: Counting objects: 100% (19/19), done.\u001b[K\n",
            "remote: Compressing objects: 100% (18/18), done.\u001b[K\n",
            "remote: Total 19 (delta 2), reused 0 (delta 0), pack-reused 0\u001b[K\n",
            "Unpacking objects: 100% (19/19), done.\n"
          ]
        }
      ]
    },
    {
      "cell_type": "markdown",
      "source": [
        "### Data Preparation: Perform necessary transformations on the input dataset to prepare it for ML model training."
      ],
      "metadata": {
        "id": "Z7MB46WCremd"
      }
    },
    {
      "cell_type": "code",
      "source": [
        "import pandas as pd\n",
        "import seaborn as sns"
      ],
      "metadata": {
        "id": "cURlHCXm7hmK"
      },
      "execution_count": null,
      "outputs": []
    },
    {
      "cell_type": "code",
      "source": [
        "train = pd.read_csv(\"/content/Car_Condition_evaluation_dataset/training_data.csv\")\n",
        "test = pd.read_csv(\"/content/Car_Condition_evaluation_dataset/testing_data.csv\")"
      ],
      "metadata": {
        "id": "mFlkvrwPxq1E"
      },
      "execution_count": null,
      "outputs": []
    },
    {
      "cell_type": "code",
      "source": [
        "print(\"shape: \",train.shape)\n",
        "print(train.info())\n",
        "print(train.isnull().sum())"
      ],
      "metadata": {
        "colab": {
          "base_uri": "https://localhost:8080/"
        },
        "id": "ekZILPK6x52y",
        "outputId": "8814a7ae-04f6-439d-dbd6-b96b5c6237f1"
      },
      "execution_count": null,
      "outputs": [
        {
          "output_type": "stream",
          "name": "stdout",
          "text": [
            "shape:  (1554, 7)\n",
            "<class 'pandas.core.frame.DataFrame'>\n",
            "RangeIndex: 1554 entries, 0 to 1553\n",
            "Data columns (total 7 columns):\n",
            " #   Column               Non-Null Count  Dtype \n",
            "---  ------               --------------  ----- \n",
            " 0   Buying_Cost          1554 non-null   object\n",
            " 1   Maintainance_Cost    1554 non-null   object\n",
            " 2   Number_of_doors      1554 non-null   object\n",
            " 3   Number_of_Passenger  1554 non-null   object\n",
            " 4   Luggage_Space        1554 non-null   object\n",
            " 5   Safety_Features      1554 non-null   object\n",
            " 6   How_is_the_deal      1554 non-null   object\n",
            "dtypes: object(7)\n",
            "memory usage: 85.1+ KB\n",
            "None\n",
            "Buying_Cost            0\n",
            "Maintainance_Cost      0\n",
            "Number_of_doors        0\n",
            "Number_of_Passenger    0\n",
            "Luggage_Space          0\n",
            "Safety_Features        0\n",
            "How_is_the_deal        0\n",
            "dtype: int64\n"
          ]
        }
      ]
    },
    {
      "cell_type": "code",
      "source": [
        "sns.histplot(data=train,x=\"Safety_Features\",kde=False)"
      ],
      "metadata": {
        "colab": {
          "base_uri": "https://localhost:8080/",
          "height": 297
        },
        "id": "D45hylwokS-b",
        "outputId": "160d0b3b-9a26-43c4-8149-a0123706dc73"
      },
      "execution_count": null,
      "outputs": [
        {
          "output_type": "execute_result",
          "data": {
            "text/plain": [
              "<matplotlib.axes._subplots.AxesSubplot at 0x7f1e615b8510>"
            ]
          },
          "metadata": {},
          "execution_count": 99
        },
        {
          "output_type": "display_data",
          "data": {
            "text/plain": [
              "<Figure size 432x288 with 1 Axes>"
            ],
            "image/png": "[encoded data removed]"
          },
          "metadata": {
            "needs_background": "light"
          }
        }
      ]
    },
    {
      "cell_type": "code",
      "source": [
        "train2=train.copy()\n",
        "test2=test.copy()"
      ],
      "metadata": {
        "id": "eEv9uEfODvIM"
      },
      "execution_count": null,
      "outputs": []
    },
    {
      "cell_type": "code",
      "source": [
        "print('Buying_Cost: ',train2['Buying_Cost'].unique())\n",
        "print('Maintainance_Cost: ',train2['Maintainance_Cost'].unique())\n",
        "print('Number_of_doors: ',train2['Number_of_doors'].unique())\n",
        "print('Number_of_Passenger: ',train2['Number_of_Passenger'].unique())\n",
        "print('Luggage_Space: ',train2['Luggage_Space'].unique())\n",
        "print('Safety_Features: ',train2['Safety_Features'].unique())\n",
        "print('How_is_the_deal: ',train2['How_is_the_deal'].unique())"
      ],
      "metadata": {
        "colab": {
          "base_uri": "https://localhost:8080/"
        },
        "id": "9shw5KsdxM1e",
        "outputId": "67ac884a-e30d-47ed-baae-ed87191203d1"
      },
      "execution_count": null,
      "outputs": [
        {
          "output_type": "stream",
          "name": "stdout",
          "text": [
            "Buying_Cost:  ['vhigh' 'med' 'high' 'low']\n",
            "Maintainance_Cost:  ['med' 'vhigh' 'high' 'low']\n",
            "Number_of_doors:  ['2' '5more' '3' '4']\n",
            "Number_of_Passenger:  ['4' '2' 'more']\n",
            "Luggage_Space:  ['small' 'med' 'big']\n",
            "Safety_Features:  ['low' 'med' 'high']\n",
            "How_is_the_deal:  ['Bad_deal' 'Nice_deal']\n"
          ]
        }
      ]
    },
    {
      "cell_type": "code",
      "source": [
        "train2=train2.replace({'Buying_Cost':{'vhigh':3, 'high':2 ,'med':1 ,'low':0}})\n",
        "train2=train2.replace({\"Maintainance_Cost\":   {\"low\": 0, \"med\": 1, \"high\": 2, \"vhigh\": 3}})\n",
        "train2=train2.replace({\"Number_of_doors\":   {\"2\": 0, \"3\": 1, \"4\": 2, \"5more\": 3}})\n",
        "train2=train2.replace({\"Number_of_Passenger\":   {\"2\": 0, \"4\": 1, \"more\": 2}})\n",
        "train2=train2.replace({\"Luggage_Space\":   {\"small\": 0, \"med\": 1, \"big\": 2}})\n",
        "train2=train2.replace({\"Safety_Features\":   {\"low\": 0, \"med\": 1, \"high\": 2}})\n",
        "train2=train2.replace({\"How_is_the_deal\":   {\"Bad_deal\": 0, \"Nice_deal\": 1}})\n",
        "\n",
        "test2=test2.replace({'Buying_Cost':{'vhigh':3, 'high':2 ,'med':1 ,'low':0}})\n",
        "test2=test2.replace({\"Maintainance_Cost\":   {\"low\": 0, \"med\": 1, \"high\": 2, \"vhigh\": 3}})\n",
        "test2=test2.replace({\"Number_of_doors\":   {\"2\": 0, \"3\": 1, \"4\": 2, \"5more\": 3}})\n",
        "test2=test2.replace({\"Number_of_Passenger\":   {\"2\": 0, \"4\": 1, \"more\": 2}})\n",
        "test2=test2.replace({\"Luggage_Space\":   {\"small\": 0, \"med\": 1, \"big\": 2}})\n",
        "test2=test2.replace({\"Safety_Features\":   {\"low\": 0, \"med\": 1, \"high\": 2}})\n",
        "test2=test2.drop('Deal_num',axis=1)"
      ],
      "metadata": {
        "id": "ce1VXbpNw2Ht"
      },
      "execution_count": null,
      "outputs": []
    },
    {
      "cell_type": "code",
      "execution_count": null,
      "metadata": {
        "colab": {
          "base_uri": "https://localhost:8080/",
          "height": 206
        },
        "id": "VYgC5LCqAwoV",
        "outputId": "ca149021-a17e-49e0-9eda-611e7fe3c82e"
      },
      "outputs": [
        {
          "output_type": "execute_result",
          "data": {
            "text/plain": [
              "  Buying_Cost Maintainance_Cost Number_of_doors Number_of_Passenger  \\\n",
              "0       vhigh               med               2                   4   \n",
              "1       vhigh               med           5more                   4   \n",
              "2         med             vhigh           5more                   4   \n",
              "3        high              high               3                   2   \n",
              "4       vhigh             vhigh           5more                   4   \n",
              "\n",
              "  Luggage_Space Safety_Features How_is_the_deal  \n",
              "0         small             low        Bad_deal  \n",
              "1         small             low        Bad_deal  \n",
              "2         small             low        Bad_deal  \n",
              "3           med             med        Bad_deal  \n",
              "4         small             med        Bad_deal  "
            ],
            "text/html": [
              "\n",
              "  <div id=\"df-ac4755fb-361f-4777-97db-70890994086b\">\n",
              "    <div class=\"colab-df-container\">\n",
              "      <div>\n",
              "<style scoped>\n",
              "    .dataframe tbody tr th:only-of-type {\n",
              "        vertical-align: middle;\n",
              "    }\n",
              "\n",
              "    .dataframe tbody tr th {\n",
              "        vertical-align: top;\n",
              "    }\n",
              "\n",
              "    .dataframe thead th {\n",
              "        text-align: right;\n",
              "    }\n",
              "</style>\n",
              "<table border=\"1\" class=\"dataframe\">\n",
              "  <thead>\n",
              "    <tr style=\"text-align: right;\">\n",
              "      <th></th>\n",
              "      <th>Buying_Cost</th>\n",
              "      <th>Maintainance_Cost</th>\n",
              "      <th>Number_of_doors</th>\n",
              "      <th>Number_of_Passenger</th>\n",
              "      <th>Luggage_Space</th>\n",
              "      <th>Safety_Features</th>\n",
              "      <th>How_is_the_deal</th>\n",
              "    </tr>\n",
              "  </thead>\n",
              "  <tbody>\n",
              "    <tr>\n",
              "      <th>0</th>\n",
              "      <td>vhigh</td>\n",
              "      <td>med</td>\n",
              "      <td>2</td>\n",
              "      <td>4</td>\n",
              "      <td>small</td>\n",
              "      <td>low</td>\n",
              "      <td>Bad_deal</td>\n",
              "    </tr>\n",
              "    <tr>\n",
              "      <th>1</th>\n",
              "      <td>vhigh</td>\n",
              "      <td>med</td>\n",
              "      <td>5more</td>\n",
              "      <td>4</td>\n",
              "      <td>small</td>\n",
              "      <td>low</td>\n",
              "      <td>Bad_deal</td>\n",
              "    </tr>\n",
              "    <tr>\n",
              "      <th>2</th>\n",
              "      <td>med</td>\n",
              "      <td>vhigh</td>\n",
              "      <td>5more</td>\n",
              "      <td>4</td>\n",
              "      <td>small</td>\n",
              "      <td>low</td>\n",
              "      <td>Bad_deal</td>\n",
              "    </tr>\n",
              "    <tr>\n",
              "      <th>3</th>\n",
              "      <td>high</td>\n",
              "      <td>high</td>\n",
              "      <td>3</td>\n",
              "      <td>2</td>\n",
              "      <td>med</td>\n",
              "      <td>med</td>\n",
              "      <td>Bad_deal</td>\n",
              "    </tr>\n",
              "    <tr>\n",
              "      <th>4</th>\n",
              "      <td>vhigh</td>\n",
              "      <td>vhigh</td>\n",
              "      <td>5more</td>\n",
              "      <td>4</td>\n",
              "      <td>small</td>\n",
              "      <td>med</td>\n",
              "      <td>Bad_deal</td>\n",
              "    </tr>\n",
              "  </tbody>\n",
              "</table>\n",
              "</div>\n",
              "      <button class=\"colab-df-convert\" onclick=\"convertToInteractive('df-ac4755fb-361f-4777-97db-70890994086b')\"\n",
              "              title=\"Convert this dataframe to an interactive table.\"\n",
              "              style=\"display:none;\">\n",
              "        \n",
              "  <svg xmlns=\"http://www.w3.org/2000/svg\" height=\"24px\"viewBox=\"0 0 24 24\"\n",
              "       width=\"24px\">\n",
              "    <path d=\"M0 0h24v24H0V0z\" fill=\"none\"/>\n",
              "    <path d=\"M18.56 5.44l.94 2.06.94-2.06 2.06-.94-2.06-.94-.94-2.06-.94 2.06-2.06.94zm-11 1L8.5 8.5l.94-2.06 2.06-.94-2.06-.94L8.5 2.5l-.94 2.06-2.06.94zm10 10l.94 2.06.94-2.06 2.06-.94-2.06-.94-.94-2.06-.94 2.06-2.06.94z\"/><path d=\"M17.41 7.96l-1.37-1.37c-.4-.4-.92-.59-1.43-.59-.52 0-1.04.2-1.43.59L10.3 9.45l-7.72 7.72c-.78.78-.78 2.05 0 2.83L4 21.41c.39.39.9.59 1.41.59.51 0 1.02-.2 1.41-.59l7.78-7.78 2.81-2.81c.8-.78.8-2.07 0-2.86zM5.41 20L4 18.59l7.72-7.72 1.47 1.35L5.41 20z\"/>\n",
              "  </svg>\n",
              "      </button>\n",
              "      \n",
              "  <style>\n",
              "    .colab-df-container {\n",
              "      display:flex;\n",
              "      flex-wrap:wrap;\n",
              "      gap: 12px;\n",
              "    }\n",
              "\n",
              "    .colab-df-convert {\n",
              "      background-color: #E8F0FE;\n",
              "      border: none;\n",
              "      border-radius: 50%;\n",
              "      cursor: pointer;\n",
              "      display: none;\n",
              "      fill: #1967D2;\n",
              "      height: 32px;\n",
              "      padding: 0 0 0 0;\n",
              "      width: 32px;\n",
              "    }\n",
              "\n",
              "    .colab-df-convert:hover {\n",
              "      background-color: #E2EBFA;\n",
              "      box-shadow: 0px 1px 2px rgba(60, 64, 67, 0.3), 0px 1px 3px 1px rgba(60, 64, 67, 0.15);\n",
              "      fill: #174EA6;\n",
              "    }\n",
              "\n",
              "    [theme=dark] .colab-df-convert {\n",
              "      background-color: #3B4455;\n",
              "      fill: #D2E3FC;\n",
              "    }\n",
              "\n",
              "    [theme=dark] .colab-df-convert:hover {\n",
              "      background-color: #434B5C;\n",
              "      box-shadow: 0px 1px 3px 1px rgba(0, 0, 0, 0.15);\n",
              "      filter: drop-shadow(0px 1px 2px rgba(0, 0, 0, 0.3));\n",
              "      fill: #FFFFFF;\n",
              "    }\n",
              "  </style>\n",
              "\n",
              "      <script>\n",
              "        const buttonEl =\n",
              "          document.querySelector('#df-ac4755fb-361f-4777-97db-70890994086b button.colab-df-convert');\n",
              "        buttonEl.style.display =\n",
              "          google.colab.kernel.accessAllowed ? 'block' : 'none';\n",
              "\n",
              "        async function convertToInteractive(key) {\n",
              "          const element = document.querySelector('#df-ac4755fb-361f-4777-97db-70890994086b');\n",
              "          const dataTable =\n",
              "            await google.colab.kernel.invokeFunction('convertToInteractive',\n",
              "                                                     [key], {});\n",
              "          if (!dataTable) return;\n",
              "\n",
              "          const docLinkHtml = 'Like what you see? Visit the ' +\n",
              "            '<a target=\"_blank\" href=https://colab.research.google.com/notebooks/data_table.ipynb>data table notebook</a>'\n",
              "            + ' to learn more about interactive tables.';\n",
              "          element.innerHTML = '';\n",
              "          dataTable['output_type'] = 'display_data';\n",
              "          await google.colab.output.renderOutput(dataTable, element);\n",
              "          const docLink = document.createElement('div');\n",
              "          docLink.innerHTML = docLinkHtml;\n",
              "          element.appendChild(docLink);\n",
              "        }\n",
              "      </script>\n",
              "    </div>\n",
              "  </div>\n",
              "  "
            ]
          },
          "metadata": {},
          "execution_count": 103
        }
      ],
      "source": [
        "train.head()"
      ]
    },
    {
      "cell_type": "code",
      "source": [
        "train2.head()"
      ],
      "metadata": {
        "colab": {
          "base_uri": "https://localhost:8080/",
          "height": 206
        },
        "id": "RcKx2_l5E4Gh",
        "outputId": "68a769e1-204a-42c6-87a1-4cdb8e73d3de"
      },
      "execution_count": null,
      "outputs": [
        {
          "output_type": "execute_result",
          "data": {
            "text/plain": [
              "   Buying_Cost  Maintainance_Cost  Number_of_doors  Number_of_Passenger  \\\n",
              "0            3                  1                0                    1   \n",
              "1            3                  1                3                    1   \n",
              "2            1                  3                3                    1   \n",
              "3            2                  2                1                    0   \n",
              "4            3                  3                3                    1   \n",
              "\n",
              "   Luggage_Space  Safety_Features  How_is_the_deal  \n",
              "0              0                0                0  \n",
              "1              0                0                0  \n",
              "2              0                0                0  \n",
              "3              1                1                0  \n",
              "4              0                1                0  "
            ],
            "text/html": [
              "\n",
              "  <div id=\"df-234cd28e-033e-4c82-9bdf-58b063db3410\">\n",
              "    <div class=\"colab-df-container\">\n",
              "      <div>\n",
              "<style scoped>\n",
              "    .dataframe tbody tr th:only-of-type {\n",
              "        vertical-align: middle;\n",
              "    }\n",
              "\n",
              "    .dataframe tbody tr th {\n",
              "        vertical-align: top;\n",
              "    }\n",
              "\n",
              "    .dataframe thead th {\n",
              "        text-align: right;\n",
              "    }\n",
              "</style>\n",
              "<table border=\"1\" class=\"dataframe\">\n",
              "  <thead>\n",
              "    <tr style=\"text-align: right;\">\n",
              "      <th></th>\n",
              "      <th>Buying_Cost</th>\n",
              "      <th>Maintainance_Cost</th>\n",
              "      <th>Number_of_doors</th>\n",
              "      <th>Number_of_Passenger</th>\n",
              "      <th>Luggage_Space</th>\n",
              "      <th>Safety_Features</th>\n",
              "      <th>How_is_the_deal</th>\n",
              "    </tr>\n",
              "  </thead>\n",
              "  <tbody>\n",
              "    <tr>\n",
              "      <th>0</th>\n",
              "      <td>3</td>\n",
              "      <td>1</td>\n",
              "      <td>0</td>\n",
              "      <td>1</td>\n",
              "      <td>0</td>\n",
              "      <td>0</td>\n",
              "      <td>0</td>\n",
              "    </tr>\n",
              "    <tr>\n",
              "      <th>1</th>\n",
              "      <td>3</td>\n",
              "      <td>1</td>\n",
              "      <td>3</td>\n",
              "      <td>1</td>\n",
              "      <td>0</td>\n",
              "      <td>0</td>\n",
              "      <td>0</td>\n",
              "    </tr>\n",
              "    <tr>\n",
              "      <th>2</th>\n",
              "      <td>1</td>\n",
              "      <td>3</td>\n",
              "      <td>3</td>\n",
              "      <td>1</td>\n",
              "      <td>0</td>\n",
              "      <td>0</td>\n",
              "      <td>0</td>\n",
              "    </tr>\n",
              "    <tr>\n",
              "      <th>3</th>\n",
              "      <td>2</td>\n",
              "      <td>2</td>\n",
              "      <td>1</td>\n",
              "      <td>0</td>\n",
              "      <td>1</td>\n",
              "      <td>1</td>\n",
              "      <td>0</td>\n",
              "    </tr>\n",
              "    <tr>\n",
              "      <th>4</th>\n",
              "      <td>3</td>\n",
              "      <td>3</td>\n",
              "      <td>3</td>\n",
              "      <td>1</td>\n",
              "      <td>0</td>\n",
              "      <td>1</td>\n",
              "      <td>0</td>\n",
              "    </tr>\n",
              "  </tbody>\n",
              "</table>\n",
              "</div>\n",
              "      <button class=\"colab-df-convert\" onclick=\"convertToInteractive('df-234cd28e-033e-4c82-9bdf-58b063db3410')\"\n",
              "              title=\"Convert this dataframe to an interactive table.\"\n",
              "              style=\"display:none;\">\n",
              "        \n",
              "  <svg xmlns=\"http://www.w3.org/2000/svg\" height=\"24px\"viewBox=\"0 0 24 24\"\n",
              "       width=\"24px\">\n",
              "    <path d=\"M0 0h24v24H0V0z\" fill=\"none\"/>\n",
              "    <path d=\"M18.56 5.44l.94 2.06.94-2.06 2.06-.94-2.06-.94-.94-2.06-.94 2.06-2.06.94zm-11 1L8.5 8.5l.94-2.06 2.06-.94-2.06-.94L8.5 2.5l-.94 2.06-2.06.94zm10 10l.94 2.06.94-2.06 2.06-.94-2.06-.94-.94-2.06-.94 2.06-2.06.94z\"/><path d=\"M17.41 7.96l-1.37-1.37c-.4-.4-.92-.59-1.43-.59-.52 0-1.04.2-1.43.59L10.3 9.45l-7.72 7.72c-.78.78-.78 2.05 0 2.83L4 21.41c.39.39.9.59 1.41.59.51 0 1.02-.2 1.41-.59l7.78-7.78 2.81-2.81c.8-.78.8-2.07 0-2.86zM5.41 20L4 18.59l7.72-7.72 1.47 1.35L5.41 20z\"/>\n",
              "  </svg>\n",
              "      </button>\n",
              "      \n",
              "  <style>\n",
              "    .colab-df-container {\n",
              "      display:flex;\n",
              "      flex-wrap:wrap;\n",
              "      gap: 12px;\n",
              "    }\n",
              "\n",
              "    .colab-df-convert {\n",
              "      background-color: #E8F0FE;\n",
              "      border: none;\n",
              "      border-radius: 50%;\n",
              "      cursor: pointer;\n",
              "      display: none;\n",
              "      fill: #1967D2;\n",
              "      height: 32px;\n",
              "      padding: 0 0 0 0;\n",
              "      width: 32px;\n",
              "    }\n",
              "\n",
              "    .colab-df-convert:hover {\n",
              "      background-color: #E2EBFA;\n",
              "      box-shadow: 0px 1px 2px rgba(60, 64, 67, 0.3), 0px 1px 3px 1px rgba(60, 64, 67, 0.15);\n",
              "      fill: #174EA6;\n",
              "    }\n",
              "\n",
              "    [theme=dark] .colab-df-convert {\n",
              "      background-color: #3B4455;\n",
              "      fill: #D2E3FC;\n",
              "    }\n",
              "\n",
              "    [theme=dark] .colab-df-convert:hover {\n",
              "      background-color: #434B5C;\n",
              "      box-shadow: 0px 1px 3px 1px rgba(0, 0, 0, 0.15);\n",
              "      filter: drop-shadow(0px 1px 2px rgba(0, 0, 0, 0.3));\n",
              "      fill: #FFFFFF;\n",
              "    }\n",
              "  </style>\n",
              "\n",
              "      <script>\n",
              "        const buttonEl =\n",
              "          document.querySelector('#df-234cd28e-033e-4c82-9bdf-58b063db3410 button.colab-df-convert');\n",
              "        buttonEl.style.display =\n",
              "          google.colab.kernel.accessAllowed ? 'block' : 'none';\n",
              "\n",
              "        async function convertToInteractive(key) {\n",
              "          const element = document.querySelector('#df-234cd28e-033e-4c82-9bdf-58b063db3410');\n",
              "          const dataTable =\n",
              "            await google.colab.kernel.invokeFunction('convertToInteractive',\n",
              "                                                     [key], {});\n",
              "          if (!dataTable) return;\n",
              "\n",
              "          const docLinkHtml = 'Like what you see? Visit the ' +\n",
              "            '<a target=\"_blank\" href=https://colab.research.google.com/notebooks/data_table.ipynb>data table notebook</a>'\n",
              "            + ' to learn more about interactive tables.';\n",
              "          element.innerHTML = '';\n",
              "          dataTable['output_type'] = 'display_data';\n",
              "          await google.colab.output.renderOutput(dataTable, element);\n",
              "          const docLink = document.createElement('div');\n",
              "          docLink.innerHTML = docLinkHtml;\n",
              "          element.appendChild(docLink);\n",
              "        }\n",
              "      </script>\n",
              "    </div>\n",
              "  </div>\n",
              "  "
            ]
          },
          "metadata": {},
          "execution_count": 104
        }
      ]
    },
    {
      "cell_type": "code",
      "source": [
        "test2.head()"
      ],
      "metadata": {
        "colab": {
          "base_uri": "https://localhost:8080/",
          "height": 206
        },
        "id": "xbMHDg6518lr",
        "outputId": "97c20d22-78a4-4a3a-c5de-7af5e47f59b3"
      },
      "execution_count": null,
      "outputs": [
        {
          "output_type": "execute_result",
          "data": {
            "text/plain": [
              "   Buying_Cost  Maintainance_Cost  Number_of_doors  Number_of_Passenger  \\\n",
              "0            0                  0                3                    2   \n",
              "1            0                  0                0                    0   \n",
              "2            0                  1                3                    1   \n",
              "3            0                  0                2                    0   \n",
              "4            0                  0                2                    0   \n",
              "\n",
              "   Luggage_Space  Safety_Features  \n",
              "0              2                2  \n",
              "1              0                2  \n",
              "2              1                0  \n",
              "3              2                0  \n",
              "4              1                2  "
            ],
            "text/html": [
              "\n",
              "  <div id=\"df-0bdec7fd-c07e-42fd-b24e-aac0eae88766\">\n",
              "    <div class=\"colab-df-container\">\n",
              "      <div>\n",
              "<style scoped>\n",
              "    .dataframe tbody tr th:only-of-type {\n",
              "        vertical-align: middle;\n",
              "    }\n",
              "\n",
              "    .dataframe tbody tr th {\n",
              "        vertical-align: top;\n",
              "    }\n",
              "\n",
              "    .dataframe thead th {\n",
              "        text-align: right;\n",
              "    }\n",
              "</style>\n",
              "<table border=\"1\" class=\"dataframe\">\n",
              "  <thead>\n",
              "    <tr style=\"text-align: right;\">\n",
              "      <th></th>\n",
              "      <th>Buying_Cost</th>\n",
              "      <th>Maintainance_Cost</th>\n",
              "      <th>Number_of_doors</th>\n",
              "      <th>Number_of_Passenger</th>\n",
              "      <th>Luggage_Space</th>\n",
              "      <th>Safety_Features</th>\n",
              "    </tr>\n",
              "  </thead>\n",
              "  <tbody>\n",
              "    <tr>\n",
              "      <th>0</th>\n",
              "      <td>0</td>\n",
              "      <td>0</td>\n",
              "      <td>3</td>\n",
              "      <td>2</td>\n",
              "      <td>2</td>\n",
              "      <td>2</td>\n",
              "    </tr>\n",
              "    <tr>\n",
              "      <th>1</th>\n",
              "      <td>0</td>\n",
              "      <td>0</td>\n",
              "      <td>0</td>\n",
              "      <td>0</td>\n",
              "      <td>0</td>\n",
              "      <td>2</td>\n",
              "    </tr>\n",
              "    <tr>\n",
              "      <th>2</th>\n",
              "      <td>0</td>\n",
              "      <td>1</td>\n",
              "      <td>3</td>\n",
              "      <td>1</td>\n",
              "      <td>1</td>\n",
              "      <td>0</td>\n",
              "    </tr>\n",
              "    <tr>\n",
              "      <th>3</th>\n",
              "      <td>0</td>\n",
              "      <td>0</td>\n",
              "      <td>2</td>\n",
              "      <td>0</td>\n",
              "      <td>2</td>\n",
              "      <td>0</td>\n",
              "    </tr>\n",
              "    <tr>\n",
              "      <th>4</th>\n",
              "      <td>0</td>\n",
              "      <td>0</td>\n",
              "      <td>2</td>\n",
              "      <td>0</td>\n",
              "      <td>1</td>\n",
              "      <td>2</td>\n",
              "    </tr>\n",
              "  </tbody>\n",
              "</table>\n",
              "</div>\n",
              "      <button class=\"colab-df-convert\" onclick=\"convertToInteractive('df-0bdec7fd-c07e-42fd-b24e-aac0eae88766')\"\n",
              "              title=\"Convert this dataframe to an interactive table.\"\n",
              "              style=\"display:none;\">\n",
              "        \n",
              "  <svg xmlns=\"http://www.w3.org/2000/svg\" height=\"24px\"viewBox=\"0 0 24 24\"\n",
              "       width=\"24px\">\n",
              "    <path d=\"M0 0h24v24H0V0z\" fill=\"none\"/>\n",
              "    <path d=\"M18.56 5.44l.94 2.06.94-2.06 2.06-.94-2.06-.94-.94-2.06-.94 2.06-2.06.94zm-11 1L8.5 8.5l.94-2.06 2.06-.94-2.06-.94L8.5 2.5l-.94 2.06-2.06.94zm10 10l.94 2.06.94-2.06 2.06-.94-2.06-.94-.94-2.06-.94 2.06-2.06.94z\"/><path d=\"M17.41 7.96l-1.37-1.37c-.4-.4-.92-.59-1.43-.59-.52 0-1.04.2-1.43.59L10.3 9.45l-7.72 7.72c-.78.78-.78 2.05 0 2.83L4 21.41c.39.39.9.59 1.41.59.51 0 1.02-.2 1.41-.59l7.78-7.78 2.81-2.81c.8-.78.8-2.07 0-2.86zM5.41 20L4 18.59l7.72-7.72 1.47 1.35L5.41 20z\"/>\n",
              "  </svg>\n",
              "      </button>\n",
              "      \n",
              "  <style>\n",
              "    .colab-df-container {\n",
              "      display:flex;\n",
              "      flex-wrap:wrap;\n",
              "      gap: 12px;\n",
              "    }\n",
              "\n",
              "    .colab-df-convert {\n",
              "      background-color: #E8F0FE;\n",
              "      border: none;\n",
              "      border-radius: 50%;\n",
              "      cursor: pointer;\n",
              "      display: none;\n",
              "      fill: #1967D2;\n",
              "      height: 32px;\n",
              "      padding: 0 0 0 0;\n",
              "      width: 32px;\n",
              "    }\n",
              "\n",
              "    .colab-df-convert:hover {\n",
              "      background-color: #E2EBFA;\n",
              "      box-shadow: 0px 1px 2px rgba(60, 64, 67, 0.3), 0px 1px 3px 1px rgba(60, 64, 67, 0.15);\n",
              "      fill: #174EA6;\n",
              "    }\n",
              "\n",
              "    [theme=dark] .colab-df-convert {\n",
              "      background-color: #3B4455;\n",
              "      fill: #D2E3FC;\n",
              "    }\n",
              "\n",
              "    [theme=dark] .colab-df-convert:hover {\n",
              "      background-color: #434B5C;\n",
              "      box-shadow: 0px 1px 3px 1px rgba(0, 0, 0, 0.15);\n",
              "      filter: drop-shadow(0px 1px 2px rgba(0, 0, 0, 0.3));\n",
              "      fill: #FFFFFF;\n",
              "    }\n",
              "  </style>\n",
              "\n",
              "      <script>\n",
              "        const buttonEl =\n",
              "          document.querySelector('#df-0bdec7fd-c07e-42fd-b24e-aac0eae88766 button.colab-df-convert');\n",
              "        buttonEl.style.display =\n",
              "          google.colab.kernel.accessAllowed ? 'block' : 'none';\n",
              "\n",
              "        async function convertToInteractive(key) {\n",
              "          const element = document.querySelector('#df-0bdec7fd-c07e-42fd-b24e-aac0eae88766');\n",
              "          const dataTable =\n",
              "            await google.colab.kernel.invokeFunction('convertToInteractive',\n",
              "                                                     [key], {});\n",
              "          if (!dataTable) return;\n",
              "\n",
              "          const docLinkHtml = 'Like what you see? Visit the ' +\n",
              "            '<a target=\"_blank\" href=https://colab.research.google.com/notebooks/data_table.ipynb>data table notebook</a>'\n",
              "            + ' to learn more about interactive tables.';\n",
              "          element.innerHTML = '';\n",
              "          dataTable['output_type'] = 'display_data';\n",
              "          await google.colab.output.renderOutput(dataTable, element);\n",
              "          const docLink = document.createElement('div');\n",
              "          docLink.innerHTML = docLinkHtml;\n",
              "          element.appendChild(docLink);\n",
              "        }\n",
              "      </script>\n",
              "    </div>\n",
              "  </div>\n",
              "  "
            ]
          },
          "metadata": {},
          "execution_count": 105
        }
      ]
    },
    {
      "cell_type": "code",
      "source": [
        "train2.info()"
      ],
      "metadata": {
        "colab": {
          "base_uri": "https://localhost:8080/"
        },
        "id": "aQEPsAzJFUkV",
        "outputId": "8917919b-6dc9-4bcc-82b8-b8e1491ebfff"
      },
      "execution_count": null,
      "outputs": [
        {
          "output_type": "stream",
          "name": "stdout",
          "text": [
            "<class 'pandas.core.frame.DataFrame'>\n",
            "RangeIndex: 1554 entries, 0 to 1553\n",
            "Data columns (total 7 columns):\n",
            " #   Column               Non-Null Count  Dtype\n",
            "---  ------               --------------  -----\n",
            " 0   Buying_Cost          1554 non-null   int64\n",
            " 1   Maintainance_Cost    1554 non-null   int64\n",
            " 2   Number_of_doors      1554 non-null   int64\n",
            " 3   Number_of_Passenger  1554 non-null   int64\n",
            " 4   Luggage_Space        1554 non-null   int64\n",
            " 5   Safety_Features      1554 non-null   int64\n",
            " 6   How_is_the_deal      1554 non-null   int64\n",
            "dtypes: int64(7)\n",
            "memory usage: 85.1 KB\n"
          ]
        }
      ]
    },
    {
      "cell_type": "code",
      "execution_count": null,
      "metadata": {
        "colab": {
          "base_uri": "https://localhost:8080/",
          "height": 414
        },
        "outputId": "82e59c8d-c390-468f-f87f-939bb8b01792",
        "id": "Lxw8WrK1GDOH"
      },
      "outputs": [
        {
          "output_type": "stream",
          "name": "stdout",
          "text": [
            "0       0\n",
            "1       0\n",
            "2       0\n",
            "3       0\n",
            "4       0\n",
            "       ..\n",
            "1549    0\n",
            "1550    0\n",
            "1551    0\n",
            "1552    0\n",
            "1553    1\n",
            "Name: How_is_the_deal, Length: 1554, dtype: int64\n"
          ]
        },
        {
          "output_type": "execute_result",
          "data": {
            "text/plain": [
              "   Buying_Cost  Maintainance_Cost  Number_of_doors  Number_of_Passenger  \\\n",
              "0            3                  1                0                    1   \n",
              "1            3                  1                3                    1   \n",
              "2            1                  3                3                    1   \n",
              "3            2                  2                1                    0   \n",
              "4            3                  3                3                    1   \n",
              "\n",
              "   Luggage_Space  Safety_Features  \n",
              "0              0                0  \n",
              "1              0                0  \n",
              "2              0                0  \n",
              "3              1                1  \n",
              "4              0                1  "
            ],
            "text/html": [
              "\n",
              "  <div id=\"df-85983eca-a454-48e9-aa5b-115501ce93a2\">\n",
              "    <div class=\"colab-df-container\">\n",
              "      <div>\n",
              "<style scoped>\n",
              "    .dataframe tbody tr th:only-of-type {\n",
              "        vertical-align: middle;\n",
              "    }\n",
              "\n",
              "    .dataframe tbody tr th {\n",
              "        vertical-align: top;\n",
              "    }\n",
              "\n",
              "    .dataframe thead th {\n",
              "        text-align: right;\n",
              "    }\n",
              "</style>\n",
              "<table border=\"1\" class=\"dataframe\">\n",
              "  <thead>\n",
              "    <tr style=\"text-align: right;\">\n",
              "      <th></th>\n",
              "      <th>Buying_Cost</th>\n",
              "      <th>Maintainance_Cost</th>\n",
              "      <th>Number_of_doors</th>\n",
              "      <th>Number_of_Passenger</th>\n",
              "      <th>Luggage_Space</th>\n",
              "      <th>Safety_Features</th>\n",
              "    </tr>\n",
              "  </thead>\n",
              "  <tbody>\n",
              "    <tr>\n",
              "      <th>0</th>\n",
              "      <td>3</td>\n",
              "      <td>1</td>\n",
              "      <td>0</td>\n",
              "      <td>1</td>\n",
              "      <td>0</td>\n",
              "      <td>0</td>\n",
              "    </tr>\n",
              "    <tr>\n",
              "      <th>1</th>\n",
              "      <td>3</td>\n",
              "      <td>1</td>\n",
              "      <td>3</td>\n",
              "      <td>1</td>\n",
              "      <td>0</td>\n",
              "      <td>0</td>\n",
              "    </tr>\n",
              "    <tr>\n",
              "      <th>2</th>\n",
              "      <td>1</td>\n",
              "      <td>3</td>\n",
              "      <td>3</td>\n",
              "      <td>1</td>\n",
              "      <td>0</td>\n",
              "      <td>0</td>\n",
              "    </tr>\n",
              "    <tr>\n",
              "      <th>3</th>\n",
              "      <td>2</td>\n",
              "      <td>2</td>\n",
              "      <td>1</td>\n",
              "      <td>0</td>\n",
              "      <td>1</td>\n",
              "      <td>1</td>\n",
              "    </tr>\n",
              "    <tr>\n",
              "      <th>4</th>\n",
              "      <td>3</td>\n",
              "      <td>3</td>\n",
              "      <td>3</td>\n",
              "      <td>1</td>\n",
              "      <td>0</td>\n",
              "      <td>1</td>\n",
              "    </tr>\n",
              "  </tbody>\n",
              "</table>\n",
              "</div>\n",
              "      <button class=\"colab-df-convert\" onclick=\"convertToInteractive('df-85983eca-a454-48e9-aa5b-115501ce93a2')\"\n",
              "              title=\"Convert this dataframe to an interactive table.\"\n",
              "              style=\"display:none;\">\n",
              "        \n",
              "  <svg xmlns=\"http://www.w3.org/2000/svg\" height=\"24px\"viewBox=\"0 0 24 24\"\n",
              "       width=\"24px\">\n",
              "    <path d=\"M0 0h24v24H0V0z\" fill=\"none\"/>\n",
              "    <path d=\"M18.56 5.44l.94 2.06.94-2.06 2.06-.94-2.06-.94-.94-2.06-.94 2.06-2.06.94zm-11 1L8.5 8.5l.94-2.06 2.06-.94-2.06-.94L8.5 2.5l-.94 2.06-2.06.94zm10 10l.94 2.06.94-2.06 2.06-.94-2.06-.94-.94-2.06-.94 2.06-2.06.94z\"/><path d=\"M17.41 7.96l-1.37-1.37c-.4-.4-.92-.59-1.43-.59-.52 0-1.04.2-1.43.59L10.3 9.45l-7.72 7.72c-.78.78-.78 2.05 0 2.83L4 21.41c.39.39.9.59 1.41.59.51 0 1.02-.2 1.41-.59l7.78-7.78 2.81-2.81c.8-.78.8-2.07 0-2.86zM5.41 20L4 18.59l7.72-7.72 1.47 1.35L5.41 20z\"/>\n",
              "  </svg>\n",
              "      </button>\n",
              "      \n",
              "  <style>\n",
              "    .colab-df-container {\n",
              "      display:flex;\n",
              "      flex-wrap:wrap;\n",
              "      gap: 12px;\n",
              "    }\n",
              "\n",
              "    .colab-df-convert {\n",
              "      background-color: #E8F0FE;\n",
              "      border: none;\n",
              "      border-radius: 50%;\n",
              "      cursor: pointer;\n",
              "      display: none;\n",
              "      fill: #1967D2;\n",
              "      height: 32px;\n",
              "      padding: 0 0 0 0;\n",
              "      width: 32px;\n",
              "    }\n",
              "\n",
              "    .colab-df-convert:hover {\n",
              "      background-color: #E2EBFA;\n",
              "      box-shadow: 0px 1px 2px rgba(60, 64, 67, 0.3), 0px 1px 3px 1px rgba(60, 64, 67, 0.15);\n",
              "      fill: #174EA6;\n",
              "    }\n",
              "\n",
              "    [theme=dark] .colab-df-convert {\n",
              "      background-color: #3B4455;\n",
              "      fill: #D2E3FC;\n",
              "    }\n",
              "\n",
              "    [theme=dark] .colab-df-convert:hover {\n",
              "      background-color: #434B5C;\n",
              "      box-shadow: 0px 1px 3px 1px rgba(0, 0, 0, 0.15);\n",
              "      filter: drop-shadow(0px 1px 2px rgba(0, 0, 0, 0.3));\n",
              "      fill: #FFFFFF;\n",
              "    }\n",
              "  </style>\n",
              "\n",
              "      <script>\n",
              "        const buttonEl =\n",
              "          document.querySelector('#df-85983eca-a454-48e9-aa5b-115501ce93a2 button.colab-df-convert');\n",
              "        buttonEl.style.display =\n",
              "          google.colab.kernel.accessAllowed ? 'block' : 'none';\n",
              "\n",
              "        async function convertToInteractive(key) {\n",
              "          const element = document.querySelector('#df-85983eca-a454-48e9-aa5b-115501ce93a2');\n",
              "          const dataTable =\n",
              "            await google.colab.kernel.invokeFunction('convertToInteractive',\n",
              "                                                     [key], {});\n",
              "          if (!dataTable) return;\n",
              "\n",
              "          const docLinkHtml = 'Like what you see? Visit the ' +\n",
              "            '<a target=\"_blank\" href=https://colab.research.google.com/notebooks/data_table.ipynb>data table notebook</a>'\n",
              "            + ' to learn more about interactive tables.';\n",
              "          element.innerHTML = '';\n",
              "          dataTable['output_type'] = 'display_data';\n",
              "          await google.colab.output.renderOutput(dataTable, element);\n",
              "          const docLink = document.createElement('div');\n",
              "          docLink.innerHTML = docLinkHtml;\n",
              "          element.appendChild(docLink);\n",
              "        }\n",
              "      </script>\n",
              "    </div>\n",
              "  </div>\n",
              "  "
            ]
          },
          "metadata": {},
          "execution_count": 107
        }
      ],
      "source": [
        "trainY=train2['How_is_the_deal']\n",
        "train2=train2.drop('How_is_the_deal',axis=1)\n",
        "\n",
        "print(trainY)\n",
        "train2.head()"
      ]
    },
    {
      "cell_type": "markdown",
      "source": [
        "### Ensemble Model: Train any ensemble model of your choice combining your favorite models. In particular, we would like you to try both bagging and boosting.\n",
        "* Bag of models of your choice\n",
        "* Adaboost or XGBoost\n"
      ],
      "metadata": {
        "id": "Y1zTSdQ47jqZ"
      }
    },
    {
      "cell_type": "markdown",
      "source": [
        "###Bag of models "
      ],
      "metadata": {
        "id": "hoKhFV7vIssz"
      }
    },
    {
      "cell_type": "code",
      "source": [
        "from sklearn import datasets\n",
        "from sklearn.model_selection import train_test_split\n",
        "from sklearn.metrics import accuracy_score\n",
        "from sklearn.tree import DecisionTreeClassifier\n",
        "from sklearn.ensemble import BaggingClassifier\n",
        "from sklearn import model_selection\n",
        "\n",
        "x_train_split, x_test_split, y_train_split, y_test_split = train_test_split(train2, trainY, test_size = 0.25, random_state = 22)"
      ],
      "metadata": {
        "id": "pHJipm7y8GMe"
      },
      "execution_count": null,
      "outputs": []
    },
    {
      "cell_type": "code",
      "source": [
        "#using decision tree classifier\n",
        "dtree = DecisionTreeClassifier(random_state = 22)\n",
        "dtree.fit(x_train_split,y_train_split)\n",
        "\n",
        "y_pred = dtree.predict(x_test_split)\n",
        "\n",
        "print(\"DTREE Train data accuracy:\",accuracy_score(y_train_split, dtree.predict(x_train_split)))\n",
        "print(\"DTREE Test data accuracy:\",accuracy_score(y_test_split, y_pred))"
      ],
      "metadata": {
        "colab": {
          "base_uri": "https://localhost:8080/"
        },
        "id": "nWPksnflLBKh",
        "outputId": "aab3fd71-8430-4ae8-c1a0-ee73a68770d8"
      },
      "execution_count": null,
      "outputs": [
        {
          "output_type": "stream",
          "name": "stdout",
          "text": [
            "DTREE Train data accuracy: 1.0\n",
            "DTREE Test data accuracy: 0.9948586118251928\n"
          ]
        }
      ]
    },
    {
      "cell_type": "code",
      "source": [
        "dtree_model = BaggingClassifier(base_estimator = DecisionTreeClassifier(),\n",
        "                          n_estimators = 100,\n",
        "                          random_state = 22)\n",
        "dtree_model.fit(x_train_split, y_train_split)\n",
        "  \n",
        "print(\"Train data accuracy:\",accuracy_score(y_train_split, dtree_model.predict(x_train_split)))\n",
        "print(\"Test data accuracy:\",accuracy_score(y_test_split, dtree_model.predict(x_test_split)))\n"
      ],
      "metadata": {
        "colab": {
          "base_uri": "https://localhost:8080/"
        },
        "id": "Z_3dSH8-NIUp",
        "outputId": "b0c145c3-ebcc-4e9e-daf7-47aa23e35024"
      },
      "execution_count": null,
      "outputs": [
        {
          "output_type": "stream",
          "name": "stdout",
          "text": [
            "Train data accuracy: 1.0\n",
            "Test data accuracy: 0.9948586118251928\n"
          ]
        }
      ]
    },
    {
      "cell_type": "code",
      "source": [
        "#using SVC classifier\n",
        "from sklearn.svm import SVC \n",
        "svc= SVC(kernel='linear', random_state=0)  \n",
        "svc.fit(x_train_split, y_train_split) \n",
        "\n",
        "print(\"SVC Train data accuracy:\",accuracy_score(y_train_split, svc.predict(x_train_split)))\n",
        "print(\"SVC Test data accuracy:\",accuracy_score(y_test_split, svc.predict(x_test_split)))"
      ],
      "metadata": {
        "colab": {
          "base_uri": "https://localhost:8080/"
        },
        "id": "KXS-1PTTSzb9",
        "outputId": "6ec9db4e-d70f-4221-f307-2f6d4b352496"
      },
      "execution_count": null,
      "outputs": [
        {
          "output_type": "stream",
          "name": "stdout",
          "text": [
            "SVC Train data accuracy: 0.9862660944206009\n",
            "SVC Test data accuracy: 0.9820051413881749\n"
          ]
        }
      ]
    },
    {
      "cell_type": "code",
      "source": [
        "svc_model = BaggingClassifier(base_estimator = SVC(kernel='linear'),\n",
        "                          n_estimators = 10,\n",
        "                          random_state = 22,\n",
        "                          )\n",
        "svc_model.fit(x_train_split, y_train_split)\n",
        "  \n",
        "print(\"Train data accuracy:\",accuracy_score(y_train_split, svc_model.predict(x_train_split)))\n",
        "print(\"Test data accuracy:\",accuracy_score(y_test_split, svc_model.predict(x_test_split)))\n"
      ],
      "metadata": {
        "colab": {
          "base_uri": "https://localhost:8080/"
        },
        "id": "KkBWOJutS3Ex",
        "outputId": "ba137c5e-88a3-4dc2-eaa1-3435c6ad4f4e"
      },
      "execution_count": null,
      "outputs": [
        {
          "output_type": "stream",
          "name": "stdout",
          "text": [
            "Train data accuracy: 0.9854077253218884\n",
            "Test data accuracy: 0.9794344473007712\n"
          ]
        }
      ]
    },
    {
      "cell_type": "code",
      "source": [
        "#using random forest classifier\n",
        "from sklearn.ensemble import RandomForestClassifier  \n",
        "rf = RandomForestClassifier(n_estimators= 10, criterion=\"entropy\")\n",
        "\n",
        "rf.fit(x_train_split, y_train_split)  \n",
        "\n",
        "print(\"RF Train data accuracy:\",accuracy_score(y_train_split, rf.predict(x_train_split)))\n",
        "print(\"RF Test data accuracy:\",accuracy_score(y_test_split, rf.predict(x_test_split)))"
      ],
      "metadata": {
        "colab": {
          "base_uri": "https://localhost:8080/"
        },
        "id": "k-rHTW8adWPD",
        "outputId": "94f884bc-ff66-4c33-fb18-3138b2b0c3f1"
      },
      "execution_count": null,
      "outputs": [
        {
          "output_type": "stream",
          "name": "stdout",
          "text": [
            "RF Train data accuracy: 0.9991416309012876\n",
            "RF Test data accuracy: 0.9948586118251928\n"
          ]
        }
      ]
    },
    {
      "cell_type": "code",
      "source": [
        "rf_model = BaggingClassifier(base_estimator = RandomForestClassifier(criterion=\"entropy\"),\n",
        "                          n_estimators = 10,\n",
        "                          random_state = 22,\n",
        "                          )\n",
        "rf_model.fit(x_train_split, y_train_split)\n",
        "  \n",
        "print(\"Train data accuracy:\",accuracy_score(y_train_split, rf_model.predict(x_train_split)))\n",
        "print(\"Test data accuracy:\",accuracy_score(y_test_split, rf_model.predict(x_test_split)))\n"
      ],
      "metadata": {
        "colab": {
          "base_uri": "https://localhost:8080/"
        },
        "id": "ePxyZE-je6Q-",
        "outputId": "2c2e5fd6-ee69-4b8e-a375-9a3bfd4807cf"
      },
      "execution_count": null,
      "outputs": [
        {
          "output_type": "stream",
          "name": "stdout",
          "text": [
            "Train data accuracy: 1.0\n",
            "Test data accuracy: 0.9922879177377892\n"
          ]
        }
      ]
    },
    {
      "cell_type": "markdown",
      "source": [
        "###Adaboost or XGBoost"
      ],
      "metadata": {
        "id": "b13JkthyfTUn"
      }
    },
    {
      "cell_type": "code",
      "source": [
        "from sklearn.ensemble import AdaBoostClassifier"
      ],
      "metadata": {
        "id": "1d_1pBpefW41"
      },
      "execution_count": null,
      "outputs": []
    },
    {
      "cell_type": "code",
      "source": [
        "svc_ad =AdaBoostClassifier(n_estimators=50, base_estimator=SVC(probability=True,kernel='linear'),learning_rate=1, random_state=0)\n",
        "\n",
        "svc_ad.fit(x_train_split, y_train_split) \n",
        "\n",
        "print(\"SVC Train data accuracy:\",accuracy_score(y_train_split, svc_ad.predict(x_train_split)))\n",
        "print(\"SVC Test data accuracy:\",accuracy_score(y_test_split, svc_ad.predict(x_test_split)))"
      ],
      "metadata": {
        "colab": {
          "base_uri": "https://localhost:8080/"
        },
        "id": "EZgDhvMeghB9",
        "outputId": "d0936a32-d749-4172-841c-8bcd623f59e6"
      },
      "execution_count": null,
      "outputs": [
        {
          "output_type": "stream",
          "name": "stdout",
          "text": [
            "SVC Train data accuracy: 0.91931330472103\n",
            "SVC Test data accuracy: 0.9331619537275064\n"
          ]
        }
      ]
    },
    {
      "cell_type": "code",
      "source": [
        "dtree_ad =AdaBoostClassifier(n_estimators=50, base_estimator=DecisionTreeClassifier(),learning_rate=1, random_state=0)\n",
        "\n",
        "dtree_ad.fit(x_train_split, y_train_split) \n",
        "\n",
        "print(\"DTREE Train data accuracy:\",accuracy_score(y_train_split, dtree_ad.predict(x_train_split)))\n",
        "print(\"DTREE Test data accuracy:\",accuracy_score(y_test_split, dtree_ad.predict(x_test_split)))"
      ],
      "metadata": {
        "colab": {
          "base_uri": "https://localhost:8080/"
        },
        "id": "C2lve1jNiAWA",
        "outputId": "e767e370-860e-45e8-d11e-5ca36d4e64c3"
      },
      "execution_count": null,
      "outputs": [
        {
          "output_type": "stream",
          "name": "stdout",
          "text": [
            "DTREE Train data accuracy: 1.0\n",
            "DTREE Test data accuracy: 0.9948586118251928\n"
          ]
        }
      ]
    },
    {
      "cell_type": "code",
      "source": [
        "rf_ad =AdaBoostClassifier(n_estimators=50, base_estimator=RandomForestClassifier(criterion=\"entropy\"),learning_rate=1, random_state=0)\n",
        "\n",
        "rf_ad.fit(x_train_split, y_train_split) \n",
        "\n",
        "print(\"RF Train data accuracy:\",accuracy_score(y_train_split, rf_ad.predict(x_train_split)))\n",
        "print(\"RF Test data accuracy:\",accuracy_score(y_test_split, rf_ad.predict(x_test_split)))"
      ],
      "metadata": {
        "colab": {
          "base_uri": "https://localhost:8080/"
        },
        "id": "Vf2bBe6ui9-v",
        "outputId": "dcff3b97-a961-4208-d49c-0b5351e6e023"
      },
      "execution_count": null,
      "outputs": [
        {
          "output_type": "stream",
          "name": "stdout",
          "text": [
            "RF Train data accuracy: 1.0\n",
            "RF Test data accuracy: 0.9922879177377892\n"
          ]
        }
      ]
    },
    {
      "cell_type": "markdown",
      "source": [
        "##For test data"
      ],
      "metadata": {
        "id": "zxjw5YiAkF4L"
      }
    },
    {
      "cell_type": "code",
      "source": [
        "test2.head()"
      ],
      "metadata": {
        "colab": {
          "base_uri": "https://localhost:8080/",
          "height": 206
        },
        "id": "w0UvDmjildEm",
        "outputId": "02fbe345-78d3-4d89-b331-3531a7e4801e"
      },
      "execution_count": null,
      "outputs": [
        {
          "output_type": "execute_result",
          "data": {
            "text/plain": [
              "   Buying_Cost  Maintainance_Cost  Number_of_doors  Number_of_Passenger  \\\n",
              "0            0                  0                3                    2   \n",
              "1            0                  0                0                    0   \n",
              "2            0                  1                3                    1   \n",
              "3            0                  0                2                    0   \n",
              "4            0                  0                2                    0   \n",
              "\n",
              "   Luggage_Space  Safety_Features  \n",
              "0              2                2  \n",
              "1              0                2  \n",
              "2              1                0  \n",
              "3              2                0  \n",
              "4              1                2  "
            ],
            "text/html": [
              "\n",
              "  <div id=\"df-bb75a564-aeb2-4453-9de2-6445be5d57c3\">\n",
              "    <div class=\"colab-df-container\">\n",
              "      <div>\n",
              "<style scoped>\n",
              "    .dataframe tbody tr th:only-of-type {\n",
              "        vertical-align: middle;\n",
              "    }\n",
              "\n",
              "    .dataframe tbody tr th {\n",
              "        vertical-align: top;\n",
              "    }\n",
              "\n",
              "    .dataframe thead th {\n",
              "        text-align: right;\n",
              "    }\n",
              "</style>\n",
              "<table border=\"1\" class=\"dataframe\">\n",
              "  <thead>\n",
              "    <tr style=\"text-align: right;\">\n",
              "      <th></th>\n",
              "      <th>Buying_Cost</th>\n",
              "      <th>Maintainance_Cost</th>\n",
              "      <th>Number_of_doors</th>\n",
              "      <th>Number_of_Passenger</th>\n",
              "      <th>Luggage_Space</th>\n",
              "      <th>Safety_Features</th>\n",
              "    </tr>\n",
              "  </thead>\n",
              "  <tbody>\n",
              "    <tr>\n",
              "      <th>0</th>\n",
              "      <td>0</td>\n",
              "      <td>0</td>\n",
              "      <td>3</td>\n",
              "      <td>2</td>\n",
              "      <td>2</td>\n",
              "      <td>2</td>\n",
              "    </tr>\n",
              "    <tr>\n",
              "      <th>1</th>\n",
              "      <td>0</td>\n",
              "      <td>0</td>\n",
              "      <td>0</td>\n",
              "      <td>0</td>\n",
              "      <td>0</td>\n",
              "      <td>2</td>\n",
              "    </tr>\n",
              "    <tr>\n",
              "      <th>2</th>\n",
              "      <td>0</td>\n",
              "      <td>1</td>\n",
              "      <td>3</td>\n",
              "      <td>1</td>\n",
              "      <td>1</td>\n",
              "      <td>0</td>\n",
              "    </tr>\n",
              "    <tr>\n",
              "      <th>3</th>\n",
              "      <td>0</td>\n",
              "      <td>0</td>\n",
              "      <td>2</td>\n",
              "      <td>0</td>\n",
              "      <td>2</td>\n",
              "      <td>0</td>\n",
              "    </tr>\n",
              "    <tr>\n",
              "      <th>4</th>\n",
              "      <td>0</td>\n",
              "      <td>0</td>\n",
              "      <td>2</td>\n",
              "      <td>0</td>\n",
              "      <td>1</td>\n",
              "      <td>2</td>\n",
              "    </tr>\n",
              "  </tbody>\n",
              "</table>\n",
              "</div>\n",
              "      <button class=\"colab-df-convert\" onclick=\"convertToInteractive('df-bb75a564-aeb2-4453-9de2-6445be5d57c3')\"\n",
              "              title=\"Convert this dataframe to an interactive table.\"\n",
              "              style=\"display:none;\">\n",
              "        \n",
              "  <svg xmlns=\"http://www.w3.org/2000/svg\" height=\"24px\"viewBox=\"0 0 24 24\"\n",
              "       width=\"24px\">\n",
              "    <path d=\"M0 0h24v24H0V0z\" fill=\"none\"/>\n",
              "    <path d=\"M18.56 5.44l.94 2.06.94-2.06 2.06-.94-2.06-.94-.94-2.06-.94 2.06-2.06.94zm-11 1L8.5 8.5l.94-2.06 2.06-.94-2.06-.94L8.5 2.5l-.94 2.06-2.06.94zm10 10l.94 2.06.94-2.06 2.06-.94-2.06-.94-.94-2.06-.94 2.06-2.06.94z\"/><path d=\"M17.41 7.96l-1.37-1.37c-.4-.4-.92-.59-1.43-.59-.52 0-1.04.2-1.43.59L10.3 9.45l-7.72 7.72c-.78.78-.78 2.05 0 2.83L4 21.41c.39.39.9.59 1.41.59.51 0 1.02-.2 1.41-.59l7.78-7.78 2.81-2.81c.8-.78.8-2.07 0-2.86zM5.41 20L4 18.59l7.72-7.72 1.47 1.35L5.41 20z\"/>\n",
              "  </svg>\n",
              "      </button>\n",
              "      \n",
              "  <style>\n",
              "    .colab-df-container {\n",
              "      display:flex;\n",
              "      flex-wrap:wrap;\n",
              "      gap: 12px;\n",
              "    }\n",
              "\n",
              "    .colab-df-convert {\n",
              "      background-color: #E8F0FE;\n",
              "      border: none;\n",
              "      border-radius: 50%;\n",
              "      cursor: pointer;\n",
              "      display: none;\n",
              "      fill: #1967D2;\n",
              "      height: 32px;\n",
              "      padding: 0 0 0 0;\n",
              "      width: 32px;\n",
              "    }\n",
              "\n",
              "    .colab-df-convert:hover {\n",
              "      background-color: #E2EBFA;\n",
              "      box-shadow: 0px 1px 2px rgba(60, 64, 67, 0.3), 0px 1px 3px 1px rgba(60, 64, 67, 0.15);\n",
              "      fill: #174EA6;\n",
              "    }\n",
              "\n",
              "    [theme=dark] .colab-df-convert {\n",
              "      background-color: #3B4455;\n",
              "      fill: #D2E3FC;\n",
              "    }\n",
              "\n",
              "    [theme=dark] .colab-df-convert:hover {\n",
              "      background-color: #434B5C;\n",
              "      box-shadow: 0px 1px 3px 1px rgba(0, 0, 0, 0.15);\n",
              "      filter: drop-shadow(0px 1px 2px rgba(0, 0, 0, 0.3));\n",
              "      fill: #FFFFFF;\n",
              "    }\n",
              "  </style>\n",
              "\n",
              "      <script>\n",
              "        const buttonEl =\n",
              "          document.querySelector('#df-bb75a564-aeb2-4453-9de2-6445be5d57c3 button.colab-df-convert');\n",
              "        buttonEl.style.display =\n",
              "          google.colab.kernel.accessAllowed ? 'block' : 'none';\n",
              "\n",
              "        async function convertToInteractive(key) {\n",
              "          const element = document.querySelector('#df-bb75a564-aeb2-4453-9de2-6445be5d57c3');\n",
              "          const dataTable =\n",
              "            await google.colab.kernel.invokeFunction('convertToInteractive',\n",
              "                                                     [key], {});\n",
              "          if (!dataTable) return;\n",
              "\n",
              "          const docLinkHtml = 'Like what you see? Visit the ' +\n",
              "            '<a target=\"_blank\" href=https://colab.research.google.com/notebooks/data_table.ipynb>data table notebook</a>'\n",
              "            + ' to learn more about interactive tables.';\n",
              "          element.innerHTML = '';\n",
              "          dataTable['output_type'] = 'display_data';\n",
              "          await google.colab.output.renderOutput(dataTable, element);\n",
              "          const docLink = document.createElement('div');\n",
              "          docLink.innerHTML = docLinkHtml;\n",
              "          element.appendChild(docLink);\n",
              "        }\n",
              "      </script>\n",
              "    </div>\n",
              "  </div>\n",
              "  "
            ]
          },
          "metadata": {},
          "execution_count": 125
        }
      ]
    },
    {
      "cell_type": "code",
      "source": [
        "from sklearn.ensemble import AdaBoostClassifier #for classifier\n",
        "from sklearn import metrics\n",
        "abc =AdaBoostClassifier(base_estimator=DecisionTreeClassifier(),n_estimators=50,learning_rate=0.1)\n",
        "\n",
        "# Train Adaboost Classifer\n",
        "model = abc.fit(train2, trainY)\n",
        "\n",
        "#Predict the response for test dataset\n",
        "y_pred = model.predict(test2)\n",
        "print(y_pred)"
      ],
      "metadata": {
        "id": "7CIYRYWHMHln",
        "colab": {
          "base_uri": "https://localhost:8080/"
        },
        "outputId": "27a7153a-e2ce-43b9-8ea3-eb0ce1f5b547"
      },
      "execution_count": null,
      "outputs": [
        {
          "output_type": "stream",
          "name": "stdout",
          "text": [
            "[1 1 1 1 1 1 1 1 1 1 1 1 1 1 1 1 1 1 1 1 1 0 1 0 1 0 1 1 1 1 1 1 1 1 1 1 1\n",
            " 1 1 0 1 1 1 1 1 1 1 1 1 1 1 1 1 1 1 1 1 0 0 1 1 1 1 1 1 1 1 1 1 1 1 1 0 1\n",
            " 1 1 1 1 1 1 1 1 1 1 1 1 1 0 0 0 1 1 1 1 1 1 1 1 1 1 1 1 1 1 1 0 1 1 1 1 1\n",
            " 1 1 1 1 1 1 1 1 1 1 0 1 1 0 1 1 1 1 1 1 1 1 1 1 1 1 1 0 1 1 1 1 1 1 1 1 1\n",
            " 1 1 1 1 1 1 1 0 1 1 1 1 1 1 1 1 1 1 1 1 1 1 1 1 0 1]\n"
          ]
        }
      ]
    },
    {
      "cell_type": "code",
      "source": [
        "svc_model2 = BaggingClassifier(base_estimator = SVC(kernel='linear'),\n",
        "                          n_estimators = 50,\n",
        "                          random_state = 22,\n",
        "                          )\n",
        "svc_model2.fit(train2, trainY)\n",
        "y_pred_test=svc_model2.predict(test2)\n",
        "print(y_pred_test)"
      ],
      "metadata": {
        "colab": {
          "base_uri": "https://localhost:8080/"
        },
        "id": "K7gqt4S8WBLR",
        "outputId": "3b109393-0689-44ea-b364-3e88809f1ec9"
      },
      "execution_count": null,
      "outputs": [
        {
          "output_type": "stream",
          "name": "stdout",
          "text": [
            "[1 1 0 1 1 1 1 1 0 0 1 0 1 1 1 1 0 1 0 1 1 0 1 0 1 1 0 1 1 1 1 1 1 0 0 0 0\n",
            " 0 1 0 1 0 0 0 0 1 0 0 0 1 0 1 0 1 0 0 0 0 0 1 0 1 1 1 0 0 0 0 1 0 0 1 0 1\n",
            " 0 1 0 1 0 1 1 1 1 1 0 1 0 1 0 0 0 1 0 1 0 0 1 1 0 0 0 1 1 1 0 0 1 1 0 1 1\n",
            " 1 0 1 1 0 0 0 0 0 1 0 1 1 0 1 1 1 1 1 1 1 1 0 1 1 1 1 0 1 1 0 1 0 1 1 0 0\n",
            " 1 1 0 1 1 1 1 0 1 1 1 0 0 1 1 0 1 0 1 1 1 0 0 1 0 0]\n"
          ]
        }
      ]
    },
    {
      "cell_type": "code",
      "source": [
        "ans_num=test['Deal_num']"
      ],
      "metadata": {
        "id": "CFhETryfqWBV"
      },
      "execution_count": null,
      "outputs": []
    },
    {
      "cell_type": "code",
      "source": [
        "ans=pd.DataFrame({'Deal_num':ans_num,'How_is_the_deal':y_pred_test})\n",
        "ans=ans.replace({'How_is_the_deal':{0:'Bad_deal', 1:'Nice_deal'}})\n",
        "ans.head()"
      ],
      "metadata": {
        "colab": {
          "base_uri": "https://localhost:8080/",
          "height": 206
        },
        "id": "6bg8qGIJqU9d",
        "outputId": "f70db76c-38b4-45c6-eff7-2fdd75f4deb6"
      },
      "execution_count": null,
      "outputs": [
        {
          "output_type": "execute_result",
          "data": {
            "text/plain": [
              "   Deal_num How_is_the_deal\n",
              "0         0       Nice_deal\n",
              "1         1       Nice_deal\n",
              "2         2        Bad_deal\n",
              "3         3       Nice_deal\n",
              "4         4       Nice_deal"
            ],
            "text/html": [
              "\n",
              "  <div id=\"df-6f4851ee-8370-4de8-8831-fa523f50c08c\">\n",
              "    <div class=\"colab-df-container\">\n",
              "      <div>\n",
              "<style scoped>\n",
              "    .dataframe tbody tr th:only-of-type {\n",
              "        vertical-align: middle;\n",
              "    }\n",
              "\n",
              "    .dataframe tbody tr th {\n",
              "        vertical-align: top;\n",
              "    }\n",
              "\n",
              "    .dataframe thead th {\n",
              "        text-align: right;\n",
              "    }\n",
              "</style>\n",
              "<table border=\"1\" class=\"dataframe\">\n",
              "  <thead>\n",
              "    <tr style=\"text-align: right;\">\n",
              "      <th></th>\n",
              "      <th>Deal_num</th>\n",
              "      <th>How_is_the_deal</th>\n",
              "    </tr>\n",
              "  </thead>\n",
              "  <tbody>\n",
              "    <tr>\n",
              "      <th>0</th>\n",
              "      <td>0</td>\n",
              "      <td>Nice_deal</td>\n",
              "    </tr>\n",
              "    <tr>\n",
              "      <th>1</th>\n",
              "      <td>1</td>\n",
              "      <td>Nice_deal</td>\n",
              "    </tr>\n",
              "    <tr>\n",
              "      <th>2</th>\n",
              "      <td>2</td>\n",
              "      <td>Bad_deal</td>\n",
              "    </tr>\n",
              "    <tr>\n",
              "      <th>3</th>\n",
              "      <td>3</td>\n",
              "      <td>Nice_deal</td>\n",
              "    </tr>\n",
              "    <tr>\n",
              "      <th>4</th>\n",
              "      <td>4</td>\n",
              "      <td>Nice_deal</td>\n",
              "    </tr>\n",
              "  </tbody>\n",
              "</table>\n",
              "</div>\n",
              "      <button class=\"colab-df-convert\" onclick=\"convertToInteractive('df-6f4851ee-8370-4de8-8831-fa523f50c08c')\"\n",
              "              title=\"Convert this dataframe to an interactive table.\"\n",
              "              style=\"display:none;\">\n",
              "        \n",
              "  <svg xmlns=\"http://www.w3.org/2000/svg\" height=\"24px\"viewBox=\"0 0 24 24\"\n",
              "       width=\"24px\">\n",
              "    <path d=\"M0 0h24v24H0V0z\" fill=\"none\"/>\n",
              "    <path d=\"M18.56 5.44l.94 2.06.94-2.06 2.06-.94-2.06-.94-.94-2.06-.94 2.06-2.06.94zm-11 1L8.5 8.5l.94-2.06 2.06-.94-2.06-.94L8.5 2.5l-.94 2.06-2.06.94zm10 10l.94 2.06.94-2.06 2.06-.94-2.06-.94-.94-2.06-.94 2.06-2.06.94z\"/><path d=\"M17.41 7.96l-1.37-1.37c-.4-.4-.92-.59-1.43-.59-.52 0-1.04.2-1.43.59L10.3 9.45l-7.72 7.72c-.78.78-.78 2.05 0 2.83L4 21.41c.39.39.9.59 1.41.59.51 0 1.02-.2 1.41-.59l7.78-7.78 2.81-2.81c.8-.78.8-2.07 0-2.86zM5.41 20L4 18.59l7.72-7.72 1.47 1.35L5.41 20z\"/>\n",
              "  </svg>\n",
              "      </button>\n",
              "      \n",
              "  <style>\n",
              "    .colab-df-container {\n",
              "      display:flex;\n",
              "      flex-wrap:wrap;\n",
              "      gap: 12px;\n",
              "    }\n",
              "\n",
              "    .colab-df-convert {\n",
              "      background-color: #E8F0FE;\n",
              "      border: none;\n",
              "      border-radius: 50%;\n",
              "      cursor: pointer;\n",
              "      display: none;\n",
              "      fill: #1967D2;\n",
              "      height: 32px;\n",
              "      padding: 0 0 0 0;\n",
              "      width: 32px;\n",
              "    }\n",
              "\n",
              "    .colab-df-convert:hover {\n",
              "      background-color: #E2EBFA;\n",
              "      box-shadow: 0px 1px 2px rgba(60, 64, 67, 0.3), 0px 1px 3px 1px rgba(60, 64, 67, 0.15);\n",
              "      fill: #174EA6;\n",
              "    }\n",
              "\n",
              "    [theme=dark] .colab-df-convert {\n",
              "      background-color: #3B4455;\n",
              "      fill: #D2E3FC;\n",
              "    }\n",
              "\n",
              "    [theme=dark] .colab-df-convert:hover {\n",
              "      background-color: #434B5C;\n",
              "      box-shadow: 0px 1px 3px 1px rgba(0, 0, 0, 0.15);\n",
              "      filter: drop-shadow(0px 1px 2px rgba(0, 0, 0, 0.3));\n",
              "      fill: #FFFFFF;\n",
              "    }\n",
              "  </style>\n",
              "\n",
              "      <script>\n",
              "        const buttonEl =\n",
              "          document.querySelector('#df-6f4851ee-8370-4de8-8831-fa523f50c08c button.colab-df-convert');\n",
              "        buttonEl.style.display =\n",
              "          google.colab.kernel.accessAllowed ? 'block' : 'none';\n",
              "\n",
              "        async function convertToInteractive(key) {\n",
              "          const element = document.querySelector('#df-6f4851ee-8370-4de8-8831-fa523f50c08c');\n",
              "          const dataTable =\n",
              "            await google.colab.kernel.invokeFunction('convertToInteractive',\n",
              "                                                     [key], {});\n",
              "          if (!dataTable) return;\n",
              "\n",
              "          const docLinkHtml = 'Like what you see? Visit the ' +\n",
              "            '<a target=\"_blank\" href=https://colab.research.google.com/notebooks/data_table.ipynb>data table notebook</a>'\n",
              "            + ' to learn more about interactive tables.';\n",
              "          element.innerHTML = '';\n",
              "          dataTable['output_type'] = 'display_data';\n",
              "          await google.colab.output.renderOutput(dataTable, element);\n",
              "          const docLink = document.createElement('div');\n",
              "          docLink.innerHTML = docLinkHtml;\n",
              "          element.appendChild(docLink);\n",
              "        }\n",
              "      </script>\n",
              "    </div>\n",
              "  </div>\n",
              "  "
            ]
          },
          "metadata": {},
          "execution_count": 455
        }
      ]
    },
    {
      "cell_type": "code",
      "source": [
        "ans.to_csv('submission_12041240.csv')"
      ],
      "metadata": {
        "id": "XWYuw47Ssfc4"
      },
      "execution_count": null,
      "outputs": []
    }
  ]
}