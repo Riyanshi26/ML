{
  "cells": [
    {
      "cell_type": "markdown",
      "metadata": {
        "id": "89kfoDe0Y8H1"
      },
      "source": [
        "* Name: Riyanshi Goyal\n",
        "* Roll Number: 12041240\n",
        "* References Used to Complete the Assignment\n",
        "    * a. https://towardsdatascience.com/\n",
        "    * b. https://medium.com/\n",
        "    * c. https://scikit-learn.org/stable/\n",
        "    * d. https://www.geeksforgeeks.org/\n",
        "    * e. https://machinelearningmastery.com/\n",
        "    * f. tutorials\n",
        "    * g. class notes\n",
        "\n",
        "...\n"
      ]
    },
    {
      "cell_type": "markdown",
      "metadata": {
        "id": "FBxEnlvOY8H7"
      },
      "source": [
        "# Part 1: NY Taxi Fare Prediction"
      ]
    },
    {
      "cell_type": "code",
      "execution_count": 54,
      "metadata": {
        "id": "UD4uZ_PrEe8O"
      },
      "outputs": [],
      "source": [
        "!pip install -q kaggle "
      ]
    },
    {
      "cell_type": "code",
      "execution_count": 148,
      "metadata": {
        "colab": {
          "base_uri": "https://localhost:8080/",
          "height": 91,
          "resources": {
            "http://localhost:8080/nbextensions/google.colab/files.js": {
              "data": "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",
              "headers": [
                [
                  "content-type",
                  "application/javascript"
                ]
              ],
              "ok": true,
              "status": 200,
              "status_text": ""
            }
          }
        },
        "id": "b_nEeLb_cchh",
        "outputId": "e13d107f-f25b-4f3c-8f50-e3e2df3cb7f6"
      },
      "outputs": [
        {
          "data": {
            "text/html": [
              "\n",
              "     <input type=\"file\" id=\"files-7f82211f-b099-4e73-bfff-e634d886a2fd\" name=\"files[]\" multiple disabled\n",
              "        style=\"border:none\" />\n",
              "     <output id=\"result-7f82211f-b099-4e73-bfff-e634d886a2fd\">\n",
              "      Upload widget is only available when the cell has been executed in the\n",
              "      current browser session. Please rerun this cell to enable.\n",
              "      </output>\n",
              "      <script src=\"/nbextensions/google.colab/files.js\"></script> "
            ],
            "text/plain": [
              "<IPython.core.display.HTML object>"
            ]
          },
          "metadata": {},
          "output_type": "display_data"
        },
        {
          "name": "stdout",
          "output_type": "stream",
          "text": [
            "Saving kaggle.json to kaggle (2).json\n"
          ]
        },
        {
          "data": {
            "text/plain": [
              "{'kaggle.json': b'{\"username\":\"riyanshigoyal\",\"key\":\"f8c9c1ffc98b8a9f9428e6dadc71a4d6\"}'}"
            ]
          },
          "execution_count": 148,
          "metadata": {},
          "output_type": "execute_result"
        }
      ],
      "source": [
        "from google.colab import files\n",
        "files.upload()"
      ]
    },
    {
      "cell_type": "code",
      "execution_count": 149,
      "metadata": {
        "colab": {
          "base_uri": "https://localhost:8080/"
        },
        "id": "-Fh_c0H6cfOB",
        "outputId": "45345e76-c4bd-47bd-83ab-a715e8d1cecb"
      },
      "outputs": [
        {
          "name": "stdout",
          "output_type": "stream",
          "text": [
            "mkdir: cannot create directory ‘/root/.kaggle’: File exists\n"
          ]
        }
      ],
      "source": [
        "!mkdir ~/.kaggle\n",
        "!cp kaggle.json ~/.kaggle/\n",
        "!chmod 600 ~/.kaggle/kaggle.json"
      ]
    },
    {
      "cell_type": "code",
      "execution_count": 150,
      "metadata": {
        "colab": {
          "base_uri": "https://localhost:8080/"
        },
        "id": "U-6c8rF7cmqP",
        "outputId": "d7e3bd7d-f95e-4c61-fb82-deb94dcfa56d"
      },
      "outputs": [
        {
          "name": "stdout",
          "output_type": "stream",
          "text": [
            "new-york-city-taxi-fare-prediction.zip: Skipping, found more recently modified local copy (use --force to force download)\n"
          ]
        }
      ],
      "source": [
        "!kaggle competitions download -c new-york-city-taxi-fare-prediction"
      ]
    },
    {
      "cell_type": "code",
      "execution_count": 151,
      "metadata": {
        "colab": {
          "base_uri": "https://localhost:8080/"
        },
        "id": "l4gzylcpdQPL",
        "outputId": "caae46d0-0b33-4199-cfaf-630d1ae3c672"
      },
      "outputs": [
        {
          "name": "stdout",
          "output_type": "stream",
          "text": [
            "Archive:  new-york-city-taxi-fare-prediction.zip\n",
            "replace GCP-Coupons-Instructions.rtf? [y]es, [n]o, [A]ll, [N]one, [r]ename: n\n",
            "replace sample_submission.csv? [y]es, [n]o, [A]ll, [N]one, [r]ename: n\n",
            "replace test.csv? [y]es, [n]o, [A]ll, [N]one, [r]ename: n\n",
            "replace train.csv? [y]es, [n]o, [A]ll, [N]one, [r]ename: n\n"
          ]
        }
      ],
      "source": [
        "!unzip new-york-city-taxi-fare-prediction"
      ]
    },
    {
      "cell_type": "code",
      "execution_count": 152,
      "metadata": {
        "id": "-miARsGEdWzk"
      },
      "outputs": [],
      "source": [
        "import numpy as np \n",
        "import pandas as pd \n",
        "import seaborn as sns\n",
        "import matplotlib.pyplot as plt\n"
      ]
    },
    {
      "cell_type": "code",
      "execution_count": 463,
      "metadata": {
        "id": "WmhwzdGjdXa2"
      },
      "outputs": [],
      "source": [
        "train = pd.read_csv(\"/content/train.csv\", nrows = 1000000)\n",
        "test = pd.read_csv(\"/content/test.csv\")"
      ]
    },
    {
      "cell_type": "markdown",
      "metadata": {
        "id": "di6zPMB7sgcV"
      },
      "source": [
        "PART 1 --> DATA CLEANSING \n",
        "\n",
        "Will perform the following activities\n",
        "1.   Shape of train and test sets\n",
        "2.   Check for NaNs and drop them (if any)\n",
        "3.   Check for outliers and drop them (if any)\n",
        "4.   Type conversion of relevant fields\n",
        "\n",
        "\n",
        "\n"
      ]
    },
    {
      "cell_type": "code",
      "execution_count": 464,
      "metadata": {
        "id": "RKEx4AtIpHG1"
      },
      "outputs": [],
      "source": [
        "train1=train.copy()"
      ]
    },
    {
      "cell_type": "code",
      "execution_count": 416,
      "metadata": {
        "colab": {
          "base_uri": "https://localhost:8080/",
          "height": 206
        },
        "id": "uAtwsfCchMpl",
        "outputId": "49e4a5f6-1570-4a94-f8a1-7a13160c0435"
      },
      "outputs": [
        {
          "data": {
            "text/html": [
              "\n",
              "  <div id=\"df-aea8bc4c-2f3a-4496-9097-c79ca6e51b36\">\n",
              "    <div class=\"colab-df-container\">\n",
              "      <div>\n",
              "<style scoped>\n",
              "    .dataframe tbody tr th:only-of-type {\n",
              "        vertical-align: middle;\n",
              "    }\n",
              "\n",
              "    .dataframe tbody tr th {\n",
              "        vertical-align: top;\n",
              "    }\n",
              "\n",
              "    .dataframe thead th {\n",
              "        text-align: right;\n",
              "    }\n",
              "</style>\n",
              "<table border=\"1\" class=\"dataframe\">\n",
              "  <thead>\n",
              "    <tr style=\"text-align: right;\">\n",
              "      <th></th>\n",
              "      <th>key</th>\n",
              "      <th>fare_amount</th>\n",
              "      <th>pickup_datetime</th>\n",
              "      <th>pickup_longitude</th>\n",
              "      <th>pickup_latitude</th>\n",
              "      <th>dropoff_longitude</th>\n",
              "      <th>dropoff_latitude</th>\n",
              "      <th>passenger_count</th>\n",
              "    </tr>\n",
              "  </thead>\n",
              "  <tbody>\n",
              "    <tr>\n",
              "      <th>0</th>\n",
              "      <td>2009-06-15 17:26:21.0000001</td>\n",
              "      <td>4.5</td>\n",
              "      <td>2009-06-15 17:26:21 UTC</td>\n",
              "      <td>-73.844311</td>\n",
              "      <td>40.721319</td>\n",
              "      <td>-73.841610</td>\n",
              "      <td>40.712278</td>\n",
              "      <td>1</td>\n",
              "    </tr>\n",
              "    <tr>\n",
              "      <th>1</th>\n",
              "      <td>2010-01-05 16:52:16.0000002</td>\n",
              "      <td>16.9</td>\n",
              "      <td>2010-01-05 16:52:16 UTC</td>\n",
              "      <td>-74.016048</td>\n",
              "      <td>40.711303</td>\n",
              "      <td>-73.979268</td>\n",
              "      <td>40.782004</td>\n",
              "      <td>1</td>\n",
              "    </tr>\n",
              "    <tr>\n",
              "      <th>2</th>\n",
              "      <td>2011-08-18 00:35:00.00000049</td>\n",
              "      <td>5.7</td>\n",
              "      <td>2011-08-18 00:35:00 UTC</td>\n",
              "      <td>-73.982738</td>\n",
              "      <td>40.761270</td>\n",
              "      <td>-73.991242</td>\n",
              "      <td>40.750562</td>\n",
              "      <td>2</td>\n",
              "    </tr>\n",
              "    <tr>\n",
              "      <th>3</th>\n",
              "      <td>2012-04-21 04:30:42.0000001</td>\n",
              "      <td>7.7</td>\n",
              "      <td>2012-04-21 04:30:42 UTC</td>\n",
              "      <td>-73.987130</td>\n",
              "      <td>40.733143</td>\n",
              "      <td>-73.991567</td>\n",
              "      <td>40.758092</td>\n",
              "      <td>1</td>\n",
              "    </tr>\n",
              "    <tr>\n",
              "      <th>4</th>\n",
              "      <td>2010-03-09 07:51:00.000000135</td>\n",
              "      <td>5.3</td>\n",
              "      <td>2010-03-09 07:51:00 UTC</td>\n",
              "      <td>-73.968095</td>\n",
              "      <td>40.768008</td>\n",
              "      <td>-73.956655</td>\n",
              "      <td>40.783762</td>\n",
              "      <td>1</td>\n",
              "    </tr>\n",
              "  </tbody>\n",
              "</table>\n",
              "</div>\n",
              "      <button class=\"colab-df-convert\" onclick=\"convertToInteractive('df-aea8bc4c-2f3a-4496-9097-c79ca6e51b36')\"\n",
              "              title=\"Convert this dataframe to an interactive table.\"\n",
              "              style=\"display:none;\">\n",
              "        \n",
              "  <svg xmlns=\"http://www.w3.org/2000/svg\" height=\"24px\"viewBox=\"0 0 24 24\"\n",
              "       width=\"24px\">\n",
              "    <path d=\"M0 0h24v24H0V0z\" fill=\"none\"/>\n",
              "    <path d=\"M18.56 5.44l.94 2.06.94-2.06 2.06-.94-2.06-.94-.94-2.06-.94 2.06-2.06.94zm-11 1L8.5 8.5l.94-2.06 2.06-.94-2.06-.94L8.5 2.5l-.94 2.06-2.06.94zm10 10l.94 2.06.94-2.06 2.06-.94-2.06-.94-.94-2.06-.94 2.06-2.06.94z\"/><path d=\"M17.41 7.96l-1.37-1.37c-.4-.4-.92-.59-1.43-.59-.52 0-1.04.2-1.43.59L10.3 9.45l-7.72 7.72c-.78.78-.78 2.05 0 2.83L4 21.41c.39.39.9.59 1.41.59.51 0 1.02-.2 1.41-.59l7.78-7.78 2.81-2.81c.8-.78.8-2.07 0-2.86zM5.41 20L4 18.59l7.72-7.72 1.47 1.35L5.41 20z\"/>\n",
              "  </svg>\n",
              "      </button>\n",
              "      \n",
              "  <style>\n",
              "    .colab-df-container {\n",
              "      display:flex;\n",
              "      flex-wrap:wrap;\n",
              "      gap: 12px;\n",
              "    }\n",
              "\n",
              "    .colab-df-convert {\n",
              "      background-color: #E8F0FE;\n",
              "      border: none;\n",
              "      border-radius: 50%;\n",
              "      cursor: pointer;\n",
              "      display: none;\n",
              "      fill: #1967D2;\n",
              "      height: 32px;\n",
              "      padding: 0 0 0 0;\n",
              "      width: 32px;\n",
              "    }\n",
              "\n",
              "    .colab-df-convert:hover {\n",
              "      background-color: #E2EBFA;\n",
              "      box-shadow: 0px 1px 2px rgba(60, 64, 67, 0.3), 0px 1px 3px 1px rgba(60, 64, 67, 0.15);\n",
              "      fill: #174EA6;\n",
              "    }\n",
              "\n",
              "    [theme=dark] .colab-df-convert {\n",
              "      background-color: #3B4455;\n",
              "      fill: #D2E3FC;\n",
              "    }\n",
              "\n",
              "    [theme=dark] .colab-df-convert:hover {\n",
              "      background-color: #434B5C;\n",
              "      box-shadow: 0px 1px 3px 1px rgba(0, 0, 0, 0.15);\n",
              "      filter: drop-shadow(0px 1px 2px rgba(0, 0, 0, 0.3));\n",
              "      fill: #FFFFFF;\n",
              "    }\n",
              "  </style>\n",
              "\n",
              "      <script>\n",
              "        const buttonEl =\n",
              "          document.querySelector('#df-aea8bc4c-2f3a-4496-9097-c79ca6e51b36 button.colab-df-convert');\n",
              "        buttonEl.style.display =\n",
              "          google.colab.kernel.accessAllowed ? 'block' : 'none';\n",
              "\n",
              "        async function convertToInteractive(key) {\n",
              "          const element = document.querySelector('#df-aea8bc4c-2f3a-4496-9097-c79ca6e51b36');\n",
              "          const dataTable =\n",
              "            await google.colab.kernel.invokeFunction('convertToInteractive',\n",
              "                                                     [key], {});\n",
              "          if (!dataTable) return;\n",
              "\n",
              "          const docLinkHtml = 'Like what you see? Visit the ' +\n",
              "            '<a target=\"_blank\" href=https://colab.research.google.com/notebooks/data_table.ipynb>data table notebook</a>'\n",
              "            + ' to learn more about interactive tables.';\n",
              "          element.innerHTML = '';\n",
              "          dataTable['output_type'] = 'display_data';\n",
              "          await google.colab.output.renderOutput(dataTable, element);\n",
              "          const docLink = document.createElement('div');\n",
              "          docLink.innerHTML = docLinkHtml;\n",
              "          element.appendChild(docLink);\n",
              "        }\n",
              "      </script>\n",
              "    </div>\n",
              "  </div>\n",
              "  "
            ],
            "text/plain": [
              "                             key  fare_amount          pickup_datetime  \\\n",
              "0    2009-06-15 17:26:21.0000001          4.5  2009-06-15 17:26:21 UTC   \n",
              "1    2010-01-05 16:52:16.0000002         16.9  2010-01-05 16:52:16 UTC   \n",
              "2   2011-08-18 00:35:00.00000049          5.7  2011-08-18 00:35:00 UTC   \n",
              "3    2012-04-21 04:30:42.0000001          7.7  2012-04-21 04:30:42 UTC   \n",
              "4  2010-03-09 07:51:00.000000135          5.3  2010-03-09 07:51:00 UTC   \n",
              "\n",
              "   pickup_longitude  pickup_latitude  dropoff_longitude  dropoff_latitude  \\\n",
              "0        -73.844311        40.721319         -73.841610         40.712278   \n",
              "1        -74.016048        40.711303         -73.979268         40.782004   \n",
              "2        -73.982738        40.761270         -73.991242         40.750562   \n",
              "3        -73.987130        40.733143         -73.991567         40.758092   \n",
              "4        -73.968095        40.768008         -73.956655         40.783762   \n",
              "\n",
              "   passenger_count  \n",
              "0                1  \n",
              "1                1  \n",
              "2                2  \n",
              "3                1  \n",
              "4                1  "
            ]
          },
          "execution_count": 416,
          "metadata": {},
          "output_type": "execute_result"
        }
      ],
      "source": [
        "train1.head()"
      ]
    },
    {
      "cell_type": "code",
      "execution_count": 417,
      "metadata": {
        "colab": {
          "base_uri": "https://localhost:8080/"
        },
        "id": "A-W5rpF0ePEs",
        "outputId": "cf543f68-f27d-4ff0-c360-cc52aba1f5f2"
      },
      "outputs": [
        {
          "name": "stdout",
          "output_type": "stream",
          "text": [
            "Shape of the Training data : (1000000, 8)\n",
            "All columns are : ['key', 'fare_amount', 'pickup_datetime', 'pickup_longitude', 'pickup_latitude', 'dropoff_longitude', 'dropoff_latitude', 'passenger_count']\n"
          ]
        }
      ],
      "source": [
        "# Check no of rows & columns in the dataset\n",
        "print(\"Shape of the Training data :\", train1.shape)\n",
        "\n",
        "# See all the columns in the dataset\n",
        "print(\"All columns are :\", list(train1.columns))"
      ]
    },
    {
      "cell_type": "code",
      "execution_count": 418,
      "metadata": {
        "colab": {
          "base_uri": "https://localhost:8080/"
        },
        "id": "UJVEdRNzePI4",
        "outputId": "ac486b67-2afc-439b-8c4e-e7bb2dbbaa90"
      },
      "outputs": [
        {
          "name": "stdout",
          "output_type": "stream",
          "text": [
            "<class 'pandas.core.frame.DataFrame'>\n",
            "RangeIndex: 1000000 entries, 0 to 999999\n",
            "Data columns (total 8 columns):\n",
            " #   Column             Non-Null Count    Dtype  \n",
            "---  ------             --------------    -----  \n",
            " 0   key                1000000 non-null  object \n",
            " 1   fare_amount        1000000 non-null  float64\n",
            " 2   pickup_datetime    1000000 non-null  object \n",
            " 3   pickup_longitude   1000000 non-null  float64\n",
            " 4   pickup_latitude    1000000 non-null  float64\n",
            " 5   dropoff_longitude  999990 non-null   float64\n",
            " 6   dropoff_latitude   999990 non-null   float64\n",
            " 7   passenger_count    1000000 non-null  int64  \n",
            "dtypes: float64(5), int64(1), object(2)\n",
            "memory usage: 61.0+ MB\n"
          ]
        }
      ],
      "source": [
        "# Check datatypes & count of not-null values in each field\n",
        "train1.info()"
      ]
    },
    {
      "cell_type": "code",
      "execution_count": 419,
      "metadata": {
        "colab": {
          "base_uri": "https://localhost:8080/"
        },
        "id": "_5ERpNSDfxZN",
        "outputId": "eb7bd919-2574-4687-fb4c-2d39ecdba1e5"
      },
      "outputs": [
        {
          "data": {
            "text/plain": [
              "key                   0\n",
              "fare_amount           0\n",
              "pickup_datetime       0\n",
              "pickup_longitude      0\n",
              "pickup_latitude       0\n",
              "dropoff_longitude    10\n",
              "dropoff_latitude     10\n",
              "passenger_count       0\n",
              "dtype: int64"
            ]
          },
          "execution_count": 419,
          "metadata": {},
          "output_type": "execute_result"
        }
      ],
      "source": [
        "#check for missing values in train data\n",
        "train1.isnull().sum()"
      ]
    },
    {
      "cell_type": "code",
      "execution_count": 420,
      "metadata": {
        "colab": {
          "base_uri": "https://localhost:8080/"
        },
        "id": "wMlhIevBtPXd",
        "outputId": "fa8ddd85-d98d-4700-e88f-168eaecb7027"
      },
      "outputs": [
        {
          "data": {
            "text/plain": [
              "key                  0\n",
              "pickup_datetime      0\n",
              "pickup_longitude     0\n",
              "pickup_latitude      0\n",
              "dropoff_longitude    0\n",
              "dropoff_latitude     0\n",
              "passenger_count      0\n",
              "dtype: int64"
            ]
          },
          "execution_count": 420,
          "metadata": {},
          "output_type": "execute_result"
        }
      ],
      "source": [
        "#check for missing values in test data\n",
        "test.isnull().sum()\n"
      ]
    },
    {
      "cell_type": "code",
      "execution_count": 465,
      "metadata": {
        "id": "oNsxwnBDteQK"
      },
      "outputs": [],
      "source": [
        "#drop the missing values\n",
        "train1=train1.dropna(how='any')"
      ]
    },
    {
      "cell_type": "code",
      "execution_count": 422,
      "metadata": {
        "colab": {
          "base_uri": "https://localhost:8080/"
        },
        "id": "z7nPS1iI1JRN",
        "outputId": "2105574b-49a0-44fe-b7f5-1095dd791935"
      },
      "outputs": [
        {
          "data": {
            "text/plain": [
              "key                  0\n",
              "fare_amount          0\n",
              "pickup_datetime      0\n",
              "pickup_longitude     0\n",
              "pickup_latitude      0\n",
              "dropoff_longitude    0\n",
              "dropoff_latitude     0\n",
              "passenger_count      0\n",
              "dtype: int64"
            ]
          },
          "execution_count": 422,
          "metadata": {},
          "output_type": "execute_result"
        }
      ],
      "source": [
        "#after dropping the null values\n",
        "train1.isnull().sum()"
      ]
    },
    {
      "cell_type": "code",
      "execution_count": 466,
      "metadata": {
        "colab": {
          "base_uri": "https://localhost:8080/"
        },
        "id": "ftsomnVq1TuS",
        "outputId": "d1bb6988-72ce-40c3-984e-426884024da8"
      },
      "outputs": [
        {
          "data": {
            "text/plain": [
              "key                  67\n",
              "fare_amount          67\n",
              "pickup_datetime      67\n",
              "pickup_longitude     67\n",
              "pickup_latitude      67\n",
              "dropoff_longitude    67\n",
              "dropoff_latitude     67\n",
              "passenger_count      67\n",
              "dtype: int64"
            ]
          },
          "execution_count": 466,
          "metadata": {},
          "output_type": "execute_result"
        }
      ],
      "source": [
        "#Look for no. of non-positive fare_amount values.\n",
        "train1[train1['fare_amount']<=0].count()"
      ]
    },
    {
      "cell_type": "markdown",
      "metadata": {
        "id": "klrCkZ9jEhfx"
      },
      "source": [
        "#A. Data Cleaning and Visualization:"
      ]
    },
    {
      "cell_type": "code",
      "execution_count": 467,
      "metadata": {
        "id": "Rd-PKokO1eKX"
      },
      "outputs": [],
      "source": [
        "# Remove the non-positive fare_amount values.\n",
        "train1=train1[train1['fare_amount']>0]"
      ]
    },
    {
      "cell_type": "code",
      "execution_count": 425,
      "metadata": {
        "colab": {
          "base_uri": "https://localhost:8080/",
          "height": 300
        },
        "id": "E1lsZcqF1uX3",
        "outputId": "f1c54172-021d-4dc9-f8e3-a0757a604ef2"
      },
      "outputs": [
        {
          "data": {
            "text/html": [
              "\n",
              "  <div id=\"df-1ba195c4-5031-4187-b8c4-4f824e946b05\">\n",
              "    <div class=\"colab-df-container\">\n",
              "      <div>\n",
              "<style scoped>\n",
              "    .dataframe tbody tr th:only-of-type {\n",
              "        vertical-align: middle;\n",
              "    }\n",
              "\n",
              "    .dataframe tbody tr th {\n",
              "        vertical-align: top;\n",
              "    }\n",
              "\n",
              "    .dataframe thead th {\n",
              "        text-align: right;\n",
              "    }\n",
              "</style>\n",
              "<table border=\"1\" class=\"dataframe\">\n",
              "  <thead>\n",
              "    <tr style=\"text-align: right;\">\n",
              "      <th></th>\n",
              "      <th>fare_amount</th>\n",
              "      <th>pickup_longitude</th>\n",
              "      <th>pickup_latitude</th>\n",
              "      <th>dropoff_longitude</th>\n",
              "      <th>dropoff_latitude</th>\n",
              "      <th>passenger_count</th>\n",
              "    </tr>\n",
              "  </thead>\n",
              "  <tbody>\n",
              "    <tr>\n",
              "      <th>count</th>\n",
              "      <td>999923.000000</td>\n",
              "      <td>999923.000000</td>\n",
              "      <td>999923.000000</td>\n",
              "      <td>999923.000000</td>\n",
              "      <td>999923.000000</td>\n",
              "      <td>999923.000000</td>\n",
              "    </tr>\n",
              "    <tr>\n",
              "      <th>mean</th>\n",
              "      <td>11.348945</td>\n",
              "      <td>-72.526826</td>\n",
              "      <td>39.929108</td>\n",
              "      <td>-72.528356</td>\n",
              "      <td>39.920225</td>\n",
              "      <td>1.684955</td>\n",
              "    </tr>\n",
              "    <tr>\n",
              "      <th>std</th>\n",
              "      <td>9.821201</td>\n",
              "      <td>12.057522</td>\n",
              "      <td>7.626026</td>\n",
              "      <td>11.323010</td>\n",
              "      <td>8.200913</td>\n",
              "      <td>1.323921</td>\n",
              "    </tr>\n",
              "    <tr>\n",
              "      <th>min</th>\n",
              "      <td>0.010000</td>\n",
              "      <td>-3377.680935</td>\n",
              "      <td>-3116.285383</td>\n",
              "      <td>-3383.296608</td>\n",
              "      <td>-3114.338567</td>\n",
              "      <td>0.000000</td>\n",
              "    </tr>\n",
              "    <tr>\n",
              "      <th>25%</th>\n",
              "      <td>6.000000</td>\n",
              "      <td>-73.992060</td>\n",
              "      <td>40.734965</td>\n",
              "      <td>-73.991385</td>\n",
              "      <td>40.734047</td>\n",
              "      <td>1.000000</td>\n",
              "    </tr>\n",
              "    <tr>\n",
              "      <th>50%</th>\n",
              "      <td>8.500000</td>\n",
              "      <td>-73.981792</td>\n",
              "      <td>40.752695</td>\n",
              "      <td>-73.980135</td>\n",
              "      <td>40.753166</td>\n",
              "      <td>1.000000</td>\n",
              "    </tr>\n",
              "    <tr>\n",
              "      <th>75%</th>\n",
              "      <td>12.500000</td>\n",
              "      <td>-73.967095</td>\n",
              "      <td>40.767154</td>\n",
              "      <td>-73.963654</td>\n",
              "      <td>40.768129</td>\n",
              "      <td>2.000000</td>\n",
              "    </tr>\n",
              "    <tr>\n",
              "      <th>max</th>\n",
              "      <td>500.000000</td>\n",
              "      <td>2522.271325</td>\n",
              "      <td>2621.628430</td>\n",
              "      <td>45.581619</td>\n",
              "      <td>1651.553433</td>\n",
              "      <td>208.000000</td>\n",
              "    </tr>\n",
              "  </tbody>\n",
              "</table>\n",
              "</div>\n",
              "      <button class=\"colab-df-convert\" onclick=\"convertToInteractive('df-1ba195c4-5031-4187-b8c4-4f824e946b05')\"\n",
              "              title=\"Convert this dataframe to an interactive table.\"\n",
              "              style=\"display:none;\">\n",
              "        \n",
              "  <svg xmlns=\"http://www.w3.org/2000/svg\" height=\"24px\"viewBox=\"0 0 24 24\"\n",
              "       width=\"24px\">\n",
              "    <path d=\"M0 0h24v24H0V0z\" fill=\"none\"/>\n",
              "    <path d=\"M18.56 5.44l.94 2.06.94-2.06 2.06-.94-2.06-.94-.94-2.06-.94 2.06-2.06.94zm-11 1L8.5 8.5l.94-2.06 2.06-.94-2.06-.94L8.5 2.5l-.94 2.06-2.06.94zm10 10l.94 2.06.94-2.06 2.06-.94-2.06-.94-.94-2.06-.94 2.06-2.06.94z\"/><path d=\"M17.41 7.96l-1.37-1.37c-.4-.4-.92-.59-1.43-.59-.52 0-1.04.2-1.43.59L10.3 9.45l-7.72 7.72c-.78.78-.78 2.05 0 2.83L4 21.41c.39.39.9.59 1.41.59.51 0 1.02-.2 1.41-.59l7.78-7.78 2.81-2.81c.8-.78.8-2.07 0-2.86zM5.41 20L4 18.59l7.72-7.72 1.47 1.35L5.41 20z\"/>\n",
              "  </svg>\n",
              "      </button>\n",
              "      \n",
              "  <style>\n",
              "    .colab-df-container {\n",
              "      display:flex;\n",
              "      flex-wrap:wrap;\n",
              "      gap: 12px;\n",
              "    }\n",
              "\n",
              "    .colab-df-convert {\n",
              "      background-color: #E8F0FE;\n",
              "      border: none;\n",
              "      border-radius: 50%;\n",
              "      cursor: pointer;\n",
              "      display: none;\n",
              "      fill: #1967D2;\n",
              "      height: 32px;\n",
              "      padding: 0 0 0 0;\n",
              "      width: 32px;\n",
              "    }\n",
              "\n",
              "    .colab-df-convert:hover {\n",
              "      background-color: #E2EBFA;\n",
              "      box-shadow: 0px 1px 2px rgba(60, 64, 67, 0.3), 0px 1px 3px 1px rgba(60, 64, 67, 0.15);\n",
              "      fill: #174EA6;\n",
              "    }\n",
              "\n",
              "    [theme=dark] .colab-df-convert {\n",
              "      background-color: #3B4455;\n",
              "      fill: #D2E3FC;\n",
              "    }\n",
              "\n",
              "    [theme=dark] .colab-df-convert:hover {\n",
              "      background-color: #434B5C;\n",
              "      box-shadow: 0px 1px 3px 1px rgba(0, 0, 0, 0.15);\n",
              "      filter: drop-shadow(0px 1px 2px rgba(0, 0, 0, 0.3));\n",
              "      fill: #FFFFFF;\n",
              "    }\n",
              "  </style>\n",
              "\n",
              "      <script>\n",
              "        const buttonEl =\n",
              "          document.querySelector('#df-1ba195c4-5031-4187-b8c4-4f824e946b05 button.colab-df-convert');\n",
              "        buttonEl.style.display =\n",
              "          google.colab.kernel.accessAllowed ? 'block' : 'none';\n",
              "\n",
              "        async function convertToInteractive(key) {\n",
              "          const element = document.querySelector('#df-1ba195c4-5031-4187-b8c4-4f824e946b05');\n",
              "          const dataTable =\n",
              "            await google.colab.kernel.invokeFunction('convertToInteractive',\n",
              "                                                     [key], {});\n",
              "          if (!dataTable) return;\n",
              "\n",
              "          const docLinkHtml = 'Like what you see? Visit the ' +\n",
              "            '<a target=\"_blank\" href=https://colab.research.google.com/notebooks/data_table.ipynb>data table notebook</a>'\n",
              "            + ' to learn more about interactive tables.';\n",
              "          element.innerHTML = '';\n",
              "          dataTable['output_type'] = 'display_data';\n",
              "          await google.colab.output.renderOutput(dataTable, element);\n",
              "          const docLink = document.createElement('div');\n",
              "          docLink.innerHTML = docLinkHtml;\n",
              "          element.appendChild(docLink);\n",
              "        }\n",
              "      </script>\n",
              "    </div>\n",
              "  </div>\n",
              "  "
            ],
            "text/plain": [
              "         fare_amount  pickup_longitude  pickup_latitude  dropoff_longitude  \\\n",
              "count  999923.000000     999923.000000    999923.000000      999923.000000   \n",
              "mean       11.348945        -72.526826        39.929108         -72.528356   \n",
              "std         9.821201         12.057522         7.626026          11.323010   \n",
              "min         0.010000      -3377.680935     -3116.285383       -3383.296608   \n",
              "25%         6.000000        -73.992060        40.734965         -73.991385   \n",
              "50%         8.500000        -73.981792        40.752695         -73.980135   \n",
              "75%        12.500000        -73.967095        40.767154         -73.963654   \n",
              "max       500.000000       2522.271325      2621.628430          45.581619   \n",
              "\n",
              "       dropoff_latitude  passenger_count  \n",
              "count     999923.000000    999923.000000  \n",
              "mean          39.920225         1.684955  \n",
              "std            8.200913         1.323921  \n",
              "min        -3114.338567         0.000000  \n",
              "25%           40.734047         1.000000  \n",
              "50%           40.753166         1.000000  \n",
              "75%           40.768129         2.000000  \n",
              "max         1651.553433       208.000000  "
            ]
          },
          "execution_count": 425,
          "metadata": {},
          "output_type": "execute_result"
        }
      ],
      "source": [
        "train1.describe()"
      ]
    },
    {
      "cell_type": "code",
      "execution_count": 426,
      "metadata": {
        "colab": {
          "base_uri": "https://localhost:8080/",
          "height": 297
        },
        "id": "Qu-YvYpx2HrI",
        "outputId": "35f0f306-b02d-4d04-8b8d-7ddd40bf25d1"
      },
      "outputs": [
        {
          "data": {
            "text/plain": [
              "<matplotlib.axes._subplots.AxesSubplot at 0x7f17a55c6610>"
            ]
          },
          "execution_count": 426,
          "metadata": {},
          "output_type": "execute_result"
        },
        {
          "data": {
            "image/png": "[encoded data removed]",
            "text/plain": [
              "<Figure size 432x288 with 1 Axes>"
            ]
          },
          "metadata": {
            "needs_background": "light"
          },
          "output_type": "display_data"
        }
      ],
      "source": [
        "sns.boxplot(x=train1['fare_amount'])"
      ]
    },
    {
      "cell_type": "markdown",
      "metadata": {
        "id": "3YAkOHdL4AsI"
      },
      "source": [
        "##REMOVE OUTLIERS"
      ]
    },
    {
      "cell_type": "code",
      "execution_count": 468,
      "metadata": {
        "colab": {
          "base_uri": "https://localhost:8080/"
        },
        "id": "ioRTlheu13s0",
        "outputId": "735f1b27-a1e9-4b13-fd71-6f0edabdd0a9"
      },
      "outputs": [
        {
          "data": {
            "text/plain": [
              "(993484, 8)"
            ]
          },
          "execution_count": 468,
          "metadata": {},
          "output_type": "execute_result"
        }
      ],
      "source": [
        "#Remove outliers\n",
        "\n",
        "train1=train1[(train1['fare_amount']<350) & (train1['fare_amount']>=3)]\n",
        "train1=train1[train1['passenger_count']<=6]\n",
        "\n",
        "train1.shape"
      ]
    },
    {
      "cell_type": "code",
      "execution_count": 469,
      "metadata": {
        "id": "wkeDE9qjBMeJ"
      },
      "outputs": [],
      "source": [
        "# There are also unrealistic latitude/longitude data in the description. We can only take the latitude/longitude of New York.\n",
        "#the range of longitude and latitude of New York\n",
        "# Longitude: 71° 47' 25\" W to 79° 45' 54\" W Latitude: 40° 29' 40\" N to 45° 0' 42\" N.\n",
        "\n",
        "train1 = train1[(train1['pickup_latitude']>40)&(train1['pickup_latitude']<45)]\n",
        "train1 = train1[(train1['dropoff_latitude']>40)&(train1['dropoff_latitude']<45)]\n",
        "\n",
        "train1 = train1[(train1['pickup_longitude']<-71)&(train1['pickup_longitude']>-79)]\n",
        "train1 = train1[(train1['dropoff_longitude']<-71)&(train1['dropoff_longitude']>-79)]"
      ]
    },
    {
      "cell_type": "markdown",
      "metadata": {
        "id": "SsxAk6QT5eKS"
      },
      "source": [
        "**Next let us explore the pickup latitude and longitudes**, "
      ]
    },
    {
      "cell_type": "markdown",
      "metadata": {
        "id": "QJgRFuuh5kM7"
      },
      "source": [
        "Googling gave me this info\n",
        "*   Latitudes range from -90 to 90.\n",
        "*   Longitudes range from -180 to 180.\n",
        "\n",
        "The above describe clearly shows some outliers. Let's filter them\n"
      ]
    },
    {
      "cell_type": "markdown",
      "metadata": {
        "id": "NQd_MWpZ91af"
      },
      "source": [
        "Check the data types of each column"
      ]
    },
    {
      "cell_type": "code",
      "execution_count": 470,
      "metadata": {
        "colab": {
          "base_uri": "https://localhost:8080/"
        },
        "id": "kPmzmnlq4-8c",
        "outputId": "40a9f430-f11f-4167-b161-7e334cd9f979"
      },
      "outputs": [
        {
          "data": {
            "text/plain": [
              "(973406, 8)"
            ]
          },
          "execution_count": 470,
          "metadata": {},
          "output_type": "execute_result"
        }
      ],
      "source": [
        "train1=train1[(train1['pickup_longitude']>=-180) & (train1['dropoff_longitude']>=-180) & (train1['pickup_longitude']<=180) & (train1['dropoff_longitude']<=180)]\n",
        "train1=train1[(train1['pickup_latitude']>=-90) & (train1['dropoff_latitude']>=-90) & (train1['pickup_latitude']<=90) & (train1['dropoff_latitude']<=90)]\n",
        "\n",
        "train1.shape"
      ]
    },
    {
      "cell_type": "code",
      "execution_count": 431,
      "metadata": {
        "colab": {
          "base_uri": "https://localhost:8080/"
        },
        "id": "p1kSp6Ab93fK",
        "outputId": "0fd051a7-9cc5-4728-b20a-c77a4291c44c"
      },
      "outputs": [
        {
          "data": {
            "text/plain": [
              "key                   object\n",
              "fare_amount          float64\n",
              "pickup_datetime       object\n",
              "pickup_longitude     float64\n",
              "pickup_latitude      float64\n",
              "dropoff_longitude    float64\n",
              "dropoff_latitude     float64\n",
              "passenger_count        int64\n",
              "dtype: object"
            ]
          },
          "execution_count": 431,
          "metadata": {},
          "output_type": "execute_result"
        }
      ],
      "source": [
        "train1.dtypes"
      ]
    },
    {
      "cell_type": "markdown",
      "metadata": {
        "id": "PY-qECSJ-B3O"
      },
      "source": [
        "key and pickup_datetime seem to be datetime columns which are in object format. Let's convert them to datetime"
      ]
    },
    {
      "cell_type": "code",
      "execution_count": 471,
      "metadata": {
        "id": "tiLXtCaY-CzY"
      },
      "outputs": [],
      "source": [
        "train1['key'] = pd.to_datetime(train1['key'])\n",
        "train1['pickup_datetime']  = pd.to_datetime(train1['pickup_datetime'])"
      ]
    },
    {
      "cell_type": "code",
      "execution_count": 472,
      "metadata": {
        "id": "nOEWOcFs-RXV"
      },
      "outputs": [],
      "source": [
        "#Convert for test data\n",
        "test['key'] = pd.to_datetime(test['key'])\n",
        "test['pickup_datetime']  = pd.to_datetime(test['pickup_datetime'])"
      ]
    },
    {
      "cell_type": "code",
      "execution_count": 473,
      "metadata": {
        "colab": {
          "base_uri": "https://localhost:8080/"
        },
        "id": "mQVSh9bU-XwF",
        "outputId": "7b802468-40a3-4378-9a89-e4c6d1a250ee"
      },
      "outputs": [
        {
          "data": {
            "text/plain": [
              "key                       datetime64[ns]\n",
              "fare_amount                      float64\n",
              "pickup_datetime      datetime64[ns, UTC]\n",
              "pickup_longitude                 float64\n",
              "pickup_latitude                  float64\n",
              "dropoff_longitude                float64\n",
              "dropoff_latitude                 float64\n",
              "passenger_count                    int64\n",
              "dtype: object"
            ]
          },
          "execution_count": 473,
          "metadata": {},
          "output_type": "execute_result"
        }
      ],
      "source": [
        "#check the dtypes after conversion\n",
        "train1.dtypes"
      ]
    },
    {
      "cell_type": "code",
      "execution_count": 474,
      "metadata": {
        "colab": {
          "base_uri": "https://localhost:8080/"
        },
        "id": "DqaAlCqI-cBD",
        "outputId": "bb903f0b-28ba-4f66-e6d8-8e9f09b24cc4"
      },
      "outputs": [
        {
          "data": {
            "text/plain": [
              "key                       datetime64[ns]\n",
              "pickup_datetime      datetime64[ns, UTC]\n",
              "pickup_longitude                 float64\n",
              "pickup_latitude                  float64\n",
              "dropoff_longitude                float64\n",
              "dropoff_latitude                 float64\n",
              "passenger_count                    int64\n",
              "dtype: object"
            ]
          },
          "execution_count": 474,
          "metadata": {},
          "output_type": "execute_result"
        }
      ],
      "source": [
        "test.dtypes"
      ]
    },
    {
      "cell_type": "markdown",
      "metadata": {
        "id": "vXrSWtM9RRTA"
      },
      "source": [
        "Now, for **EDA**. The following are my considerations - \n",
        "1. Does the number of passengers affect the fare? \n",
        "2. Does the date and time of pickup affect the fare?\n",
        "3. Does the day of the week affect the fare?\n",
        "4. Does the distance travelled affect the fare?\n",
        "\n",
        "First, let's split the datetime field 'pickup_datetime' to the following - \n",
        "* year\n",
        "* month\n",
        "* date\n",
        "* hour\n",
        "* day of week\n",
        "\n",
        "Using these we shall calculate the day of the week and come to our conclusions about how pickup_location affects the fare.\n",
        "Also, create a new field 'distance' to fetch the distance between the pickup and the drop."
      ]
    },
    {
      "cell_type": "markdown",
      "metadata": {
        "id": "69oPjV8hRhCc"
      },
      "source": [
        "We can calulate the distance in a sphere when latitudes and longitudes are given by [Haversine formula](https://en.wikipedia.org/wiki/Haversine_formula)\n",
        "\n",
        "**haversine(θ) = sin²(θ/2)**\n",
        "\n",
        "Eventually, the formual boils down to the following where φ is latitude, λ is longitude, R is earth’s radius (mean radius = 6,371km) to include latitude and longitude coordinates (A and B in this case).\n",
        "\n",
        "**a = sin²((φB - φA)/2) + cos φA . cos φB . sin²((λB - λA)/2)**\n",
        "\n",
        "**c = 2 * atan2( √a, √(1−a) )**\n",
        "\n",
        "**d = R ⋅ c**\n",
        "\n",
        "**d = Haversine distance**\n",
        "\n",
        "*Refer [this](https://community.esri.com/groups/coordinate-reference-systems/blog/2017/10/05/haversine-formula) page for more info and examples on Haversine formula*\n",
        "\n",
        "Is this distance equal to the road travel distance? Do we have to do something else?\n"
      ]
    },
    {
      "cell_type": "code",
      "execution_count": 475,
      "metadata": {
        "id": "kdD-M1pkRSyn"
      },
      "outputs": [],
      "source": [
        "def haversine_distance(lat1, long1, lat2, long2):\n",
        "    data = [train1, test]\n",
        "    for i in data:\n",
        "        R = 6371  #radius of earth in kilometers\n",
        "        phi1 = np.radians(i[lat1])\n",
        "        phi2 = np.radians(i[lat2])\n",
        "    \n",
        "        delta_phi = np.radians(i[lat2]-i[lat1])\n",
        "        delta_lambda = np.radians(i[long2]-i[long1])\n",
        "    \n",
        "        #a = sin²((φB - φA)/2) + cos φA . cos φB . sin²((λB - λA)/2)\n",
        "        a = np.sin(delta_phi / 2.0) ** 2 + np.cos(phi1) * np.cos(phi2) * np.sin(delta_lambda / 2.0) ** 2\n",
        "    \n",
        "        #c = 2 * atan2( √a, √(1−a) )\n",
        "        c = 2 * np.arctan2(np.sqrt(a), np.sqrt(1-a))\n",
        "    \n",
        "        #d = R*c\n",
        "        d = (R * c) #in kilometers\n",
        "        i['H_Distance'] = d\n",
        "    return d"
      ]
    },
    {
      "cell_type": "code",
      "execution_count": 476,
      "metadata": {
        "colab": {
          "base_uri": "https://localhost:8080/"
        },
        "id": "7jU7kBbbR2Df",
        "outputId": "f8319898-bc8d-4b36-838e-495a330d0503"
      },
      "outputs": [
        {
          "data": {
            "text/plain": [
              "0        2.323260\n",
              "1        2.425353\n",
              "2        0.618628\n",
              "3        1.961033\n",
              "4        5.387301\n",
              "          ...    \n",
              "9909     2.124874\n",
              "9910     3.270969\n",
              "9911    19.183941\n",
              "9912     8.343486\n",
              "9913     1.180825\n",
              "Length: 9914, dtype: float64"
            ]
          },
          "execution_count": 476,
          "metadata": {},
          "output_type": "execute_result"
        }
      ],
      "source": [
        "haversine_distance('pickup_latitude', 'pickup_longitude', 'dropoff_latitude', 'dropoff_longitude')"
      ]
    },
    {
      "cell_type": "markdown",
      "metadata": {
        "id": "jR75ePDO1Mo1"
      },
      "source": [
        "Now that we have calculated the distance, we shall create columns for the following -\n",
        "\n",
        "\n",
        "*   year\n",
        "*   month\n",
        "*   date\n",
        "*   hour\n",
        "*   day of week\n",
        "\n",
        "\n",
        "\n",
        "\n"
      ]
    },
    {
      "cell_type": "code",
      "execution_count": 477,
      "metadata": {
        "id": "ypJEZACs09pe"
      },
      "outputs": [],
      "source": [
        "data = [train1,test]\n",
        "for i in data:\n",
        "    i['Year'] = i['pickup_datetime'].dt.year\n",
        "    i['Month'] = i['pickup_datetime'].dt.month\n",
        "    i['Date'] = i['pickup_datetime'].dt.day\n",
        "    i['Day of Week'] = i['pickup_datetime'].dt.dayofweek\n",
        "    i['Hour'] = i['pickup_datetime'].dt.hour"
      ]
    },
    {
      "cell_type": "code",
      "execution_count": 478,
      "metadata": {
        "colab": {
          "base_uri": "https://localhost:8080/",
          "height": 372
        },
        "id": "aYFLu1Jh1zJV",
        "outputId": "a8c898bf-5830-4233-a56e-bb514f1626eb"
      },
      "outputs": [
        {
          "data": {
            "text/html": [
              "\n",
              "  <div id=\"df-0c0cc37a-144f-4b0a-91a5-5e33caf645a7\">\n",
              "    <div class=\"colab-df-container\">\n",
              "      <div>\n",
              "<style scoped>\n",
              "    .dataframe tbody tr th:only-of-type {\n",
              "        vertical-align: middle;\n",
              "    }\n",
              "\n",
              "    .dataframe tbody tr th {\n",
              "        vertical-align: top;\n",
              "    }\n",
              "\n",
              "    .dataframe thead th {\n",
              "        text-align: right;\n",
              "    }\n",
              "</style>\n",
              "<table border=\"1\" class=\"dataframe\">\n",
              "  <thead>\n",
              "    <tr style=\"text-align: right;\">\n",
              "      <th></th>\n",
              "      <th>key</th>\n",
              "      <th>fare_amount</th>\n",
              "      <th>pickup_datetime</th>\n",
              "      <th>pickup_longitude</th>\n",
              "      <th>pickup_latitude</th>\n",
              "      <th>dropoff_longitude</th>\n",
              "      <th>dropoff_latitude</th>\n",
              "      <th>passenger_count</th>\n",
              "      <th>H_Distance</th>\n",
              "      <th>Year</th>\n",
              "      <th>Month</th>\n",
              "      <th>Date</th>\n",
              "      <th>Day of Week</th>\n",
              "      <th>Hour</th>\n",
              "    </tr>\n",
              "  </thead>\n",
              "  <tbody>\n",
              "    <tr>\n",
              "      <th>0</th>\n",
              "      <td>2009-06-15 17:26:21.000000100</td>\n",
              "      <td>4.5</td>\n",
              "      <td>2009-06-15 17:26:21+00:00</td>\n",
              "      <td>-73.844311</td>\n",
              "      <td>40.721319</td>\n",
              "      <td>-73.841610</td>\n",
              "      <td>40.712278</td>\n",
              "      <td>1</td>\n",
              "      <td>1.030764</td>\n",
              "      <td>2009</td>\n",
              "      <td>6</td>\n",
              "      <td>15</td>\n",
              "      <td>0</td>\n",
              "      <td>17</td>\n",
              "    </tr>\n",
              "    <tr>\n",
              "      <th>1</th>\n",
              "      <td>2010-01-05 16:52:16.000000200</td>\n",
              "      <td>16.9</td>\n",
              "      <td>2010-01-05 16:52:16+00:00</td>\n",
              "      <td>-74.016048</td>\n",
              "      <td>40.711303</td>\n",
              "      <td>-73.979268</td>\n",
              "      <td>40.782004</td>\n",
              "      <td>1</td>\n",
              "      <td>8.450134</td>\n",
              "      <td>2010</td>\n",
              "      <td>1</td>\n",
              "      <td>5</td>\n",
              "      <td>1</td>\n",
              "      <td>16</td>\n",
              "    </tr>\n",
              "    <tr>\n",
              "      <th>2</th>\n",
              "      <td>2011-08-18 00:35:00.000000490</td>\n",
              "      <td>5.7</td>\n",
              "      <td>2011-08-18 00:35:00+00:00</td>\n",
              "      <td>-73.982738</td>\n",
              "      <td>40.761270</td>\n",
              "      <td>-73.991242</td>\n",
              "      <td>40.750562</td>\n",
              "      <td>2</td>\n",
              "      <td>1.389525</td>\n",
              "      <td>2011</td>\n",
              "      <td>8</td>\n",
              "      <td>18</td>\n",
              "      <td>3</td>\n",
              "      <td>0</td>\n",
              "    </tr>\n",
              "    <tr>\n",
              "      <th>3</th>\n",
              "      <td>2012-04-21 04:30:42.000000100</td>\n",
              "      <td>7.7</td>\n",
              "      <td>2012-04-21 04:30:42+00:00</td>\n",
              "      <td>-73.987130</td>\n",
              "      <td>40.733143</td>\n",
              "      <td>-73.991567</td>\n",
              "      <td>40.758092</td>\n",
              "      <td>1</td>\n",
              "      <td>2.799270</td>\n",
              "      <td>2012</td>\n",
              "      <td>4</td>\n",
              "      <td>21</td>\n",
              "      <td>5</td>\n",
              "      <td>4</td>\n",
              "    </tr>\n",
              "    <tr>\n",
              "      <th>4</th>\n",
              "      <td>2010-03-09 07:51:00.000000135</td>\n",
              "      <td>5.3</td>\n",
              "      <td>2010-03-09 07:51:00+00:00</td>\n",
              "      <td>-73.968095</td>\n",
              "      <td>40.768008</td>\n",
              "      <td>-73.956655</td>\n",
              "      <td>40.783762</td>\n",
              "      <td>1</td>\n",
              "      <td>1.999157</td>\n",
              "      <td>2010</td>\n",
              "      <td>3</td>\n",
              "      <td>9</td>\n",
              "      <td>1</td>\n",
              "      <td>7</td>\n",
              "    </tr>\n",
              "  </tbody>\n",
              "</table>\n",
              "</div>\n",
              "      <button class=\"colab-df-convert\" onclick=\"convertToInteractive('df-0c0cc37a-144f-4b0a-91a5-5e33caf645a7')\"\n",
              "              title=\"Convert this dataframe to an interactive table.\"\n",
              "              style=\"display:none;\">\n",
              "        \n",
              "  <svg xmlns=\"http://www.w3.org/2000/svg\" height=\"24px\"viewBox=\"0 0 24 24\"\n",
              "       width=\"24px\">\n",
              "    <path d=\"M0 0h24v24H0V0z\" fill=\"none\"/>\n",
              "    <path d=\"M18.56 5.44l.94 2.06.94-2.06 2.06-.94-2.06-.94-.94-2.06-.94 2.06-2.06.94zm-11 1L8.5 8.5l.94-2.06 2.06-.94-2.06-.94L8.5 2.5l-.94 2.06-2.06.94zm10 10l.94 2.06.94-2.06 2.06-.94-2.06-.94-.94-2.06-.94 2.06-2.06.94z\"/><path d=\"M17.41 7.96l-1.37-1.37c-.4-.4-.92-.59-1.43-.59-.52 0-1.04.2-1.43.59L10.3 9.45l-7.72 7.72c-.78.78-.78 2.05 0 2.83L4 21.41c.39.39.9.59 1.41.59.51 0 1.02-.2 1.41-.59l7.78-7.78 2.81-2.81c.8-.78.8-2.07 0-2.86zM5.41 20L4 18.59l7.72-7.72 1.47 1.35L5.41 20z\"/>\n",
              "  </svg>\n",
              "      </button>\n",
              "      \n",
              "  <style>\n",
              "    .colab-df-container {\n",
              "      display:flex;\n",
              "      flex-wrap:wrap;\n",
              "      gap: 12px;\n",
              "    }\n",
              "\n",
              "    .colab-df-convert {\n",
              "      background-color: #E8F0FE;\n",
              "      border: none;\n",
              "      border-radius: 50%;\n",
              "      cursor: pointer;\n",
              "      display: none;\n",
              "      fill: #1967D2;\n",
              "      height: 32px;\n",
              "      padding: 0 0 0 0;\n",
              "      width: 32px;\n",
              "    }\n",
              "\n",
              "    .colab-df-convert:hover {\n",
              "      background-color: #E2EBFA;\n",
              "      box-shadow: 0px 1px 2px rgba(60, 64, 67, 0.3), 0px 1px 3px 1px rgba(60, 64, 67, 0.15);\n",
              "      fill: #174EA6;\n",
              "    }\n",
              "\n",
              "    [theme=dark] .colab-df-convert {\n",
              "      background-color: #3B4455;\n",
              "      fill: #D2E3FC;\n",
              "    }\n",
              "\n",
              "    [theme=dark] .colab-df-convert:hover {\n",
              "      background-color: #434B5C;\n",
              "      box-shadow: 0px 1px 3px 1px rgba(0, 0, 0, 0.15);\n",
              "      filter: drop-shadow(0px 1px 2px rgba(0, 0, 0, 0.3));\n",
              "      fill: #FFFFFF;\n",
              "    }\n",
              "  </style>\n",
              "\n",
              "      <script>\n",
              "        const buttonEl =\n",
              "          document.querySelector('#df-0c0cc37a-144f-4b0a-91a5-5e33caf645a7 button.colab-df-convert');\n",
              "        buttonEl.style.display =\n",
              "          google.colab.kernel.accessAllowed ? 'block' : 'none';\n",
              "\n",
              "        async function convertToInteractive(key) {\n",
              "          const element = document.querySelector('#df-0c0cc37a-144f-4b0a-91a5-5e33caf645a7');\n",
              "          const dataTable =\n",
              "            await google.colab.kernel.invokeFunction('convertToInteractive',\n",
              "                                                     [key], {});\n",
              "          if (!dataTable) return;\n",
              "\n",
              "          const docLinkHtml = 'Like what you see? Visit the ' +\n",
              "            '<a target=\"_blank\" href=https://colab.research.google.com/notebooks/data_table.ipynb>data table notebook</a>'\n",
              "            + ' to learn more about interactive tables.';\n",
              "          element.innerHTML = '';\n",
              "          dataTable['output_type'] = 'display_data';\n",
              "          await google.colab.output.renderOutput(dataTable, element);\n",
              "          const docLink = document.createElement('div');\n",
              "          docLink.innerHTML = docLinkHtml;\n",
              "          element.appendChild(docLink);\n",
              "        }\n",
              "      </script>\n",
              "    </div>\n",
              "  </div>\n",
              "  "
            ],
            "text/plain": [
              "                            key  fare_amount           pickup_datetime  \\\n",
              "0 2009-06-15 17:26:21.000000100          4.5 2009-06-15 17:26:21+00:00   \n",
              "1 2010-01-05 16:52:16.000000200         16.9 2010-01-05 16:52:16+00:00   \n",
              "2 2011-08-18 00:35:00.000000490          5.7 2011-08-18 00:35:00+00:00   \n",
              "3 2012-04-21 04:30:42.000000100          7.7 2012-04-21 04:30:42+00:00   \n",
              "4 2010-03-09 07:51:00.000000135          5.3 2010-03-09 07:51:00+00:00   \n",
              "\n",
              "   pickup_longitude  pickup_latitude  dropoff_longitude  dropoff_latitude  \\\n",
              "0        -73.844311        40.721319         -73.841610         40.712278   \n",
              "1        -74.016048        40.711303         -73.979268         40.782004   \n",
              "2        -73.982738        40.761270         -73.991242         40.750562   \n",
              "3        -73.987130        40.733143         -73.991567         40.758092   \n",
              "4        -73.968095        40.768008         -73.956655         40.783762   \n",
              "\n",
              "   passenger_count  H_Distance  Year  Month  Date  Day of Week  Hour  \n",
              "0                1    1.030764  2009      6    15            0    17  \n",
              "1                1    8.450134  2010      1     5            1    16  \n",
              "2                2    1.389525  2011      8    18            3     0  \n",
              "3                1    2.799270  2012      4    21            5     4  \n",
              "4                1    1.999157  2010      3     9            1     7  "
            ]
          },
          "execution_count": 478,
          "metadata": {},
          "output_type": "execute_result"
        }
      ],
      "source": [
        "train1.head()"
      ]
    },
    {
      "cell_type": "markdown",
      "metadata": {
        "id": "10HCMd7o2R6J"
      },
      "source": [
        "**1. Does the number of passengers affect the fare?**"
      ]
    },
    {
      "cell_type": "code",
      "execution_count": 490,
      "metadata": {
        "colab": {
          "base_uri": "https://localhost:8080/",
          "height": 411
        },
        "id": "FhiSrlIr9Laf",
        "outputId": "cd3036ea-5c05-416f-f8d6-2d88dc1fb8db"
      },
      "outputs": [
        {
          "data": {
            "text/plain": [
              "<matplotlib.axes._subplots.AxesSubplot at 0x7f17b6329450>"
            ]
          },
          "execution_count": 490,
          "metadata": {},
          "output_type": "execute_result"
        },
        {
          "data": {
            "image/png": "[encoded data removed]",
            "text/plain": [
              "<Figure size 720x432 with 1 Axes>"
            ]
          },
          "metadata": {},
          "output_type": "display_data"
        }
      ],
      "source": [
        "sns.scatterplot(x=train1['fare_amount'], y=train1['passenger_count'])"
      ]
    },
    {
      "cell_type": "markdown",
      "metadata": {
        "id": "kyOvNRFMC1Nw"
      },
      "source": [
        "Passengers vary between 1-6. Usually the number of passengers travelling in 1 booked taxi 1"
      ]
    },
    {
      "cell_type": "code",
      "execution_count": 485,
      "metadata": {
        "colab": {
          "base_uri": "https://localhost:8080/",
          "height": 427
        },
        "id": "T4Sjc0sr-eFE",
        "outputId": "f2340528-44ae-49c1-a42c-dc6293f57e8e"
      },
      "outputs": [
        {
          "data": {
            "text/plain": [
              "Text(0, 0.5, 'Frequency')"
            ]
          },
          "execution_count": 485,
          "metadata": {},
          "output_type": "execute_result"
        },
        {
          "data": {
            "image/png": "[encoded data removed]",
            "text/plain": [
              "<Figure size 720x432 with 1 Axes>"
            ]
          },
          "metadata": {},
          "output_type": "display_data"
        }
      ],
      "source": [
        "sns.set(rc = {'figure.figsize':(10,6)})\n",
        "sns.histplot(data=train1, x=\"Hour\", kde=True)\n",
        "plt.title(\"Distribution by Hours\")\n",
        "plt.xlabel('Hours')\n",
        "plt.ylabel('Frequency')"
      ]
    },
    {
      "cell_type": "markdown",
      "metadata": {
        "id": "m9gPtmME_N7A"
      },
      "source": [
        "Number of cabs booked at 5:00am is relatively less than others "
      ]
    },
    {
      "cell_type": "markdown",
      "metadata": {
        "id": "beeVcyOw2ooS"
      },
      "source": [
        "**2. Does the date and time of pickup affect the fare?**"
      ]
    },
    {
      "cell_type": "code",
      "execution_count": 443,
      "metadata": {
        "colab": {
          "base_uri": "https://localhost:8080/",
          "height": 498
        },
        "id": "FJ6eHb9r9MR_",
        "outputId": "c4f882fb-6708-43ae-acd0-b5ba47f80e09"
      },
      "outputs": [
        {
          "data": {
            "image/png": "[encoded data removed]",
            "text/plain": [
              "<Figure size 936x576 with 4 Axes>"
            ]
          },
          "metadata": {
            "needs_background": "light"
          },
          "output_type": "display_data"
        }
      ],
      "source": [
        "fig, axes = plt.subplots(2, 2)\n",
        "\n",
        "\n",
        "sns.scatterplot(data=train1, x='fare_amount', y='Year', ax=axes[0,0])\n",
        "sns.scatterplot(data=train1, x='fare_amount', y='Month', ax=axes[0,1])\n",
        "sns.scatterplot(data=train1, x='fare_amount', y='Date', ax=axes[1,0])\n",
        "sns.scatterplot(data=train1, x='fare_amount', y='Hour', ax=axes[1,1])\n",
        "\n",
        "fig.set_size_inches(13, 8)\n",
        "plt.show()"
      ]
    },
    {
      "cell_type": "markdown",
      "metadata": {
        "id": "0Isxq9cF3ujw"
      },
      "source": [
        "**3. Does the day of the week affect the fare?**"
      ]
    },
    {
      "cell_type": "code",
      "execution_count": 444,
      "metadata": {
        "colab": {
          "base_uri": "https://localhost:8080/",
          "height": 297
        },
        "id": "QDRM91wz9NTc",
        "outputId": "8fd49fbe-b68d-4cb7-a0ca-48093a102261"
      },
      "outputs": [
        {
          "data": {
            "text/plain": [
              "<matplotlib.axes._subplots.AxesSubplot at 0x7f17b1e9b6d0>"
            ]
          },
          "execution_count": 444,
          "metadata": {},
          "output_type": "execute_result"
        },
        {
          "data": {
            "image/png": "[encoded data removed]",
            "text/plain": [
              "<Figure size 432x288 with 1 Axes>"
            ]
          },
          "metadata": {
            "needs_background": "light"
          },
          "output_type": "display_data"
        }
      ],
      "source": [
        "sns.scatterplot(data=train1, x=\"fare_amount\", y=\"Day of Week\")"
      ]
    },
    {
      "cell_type": "code",
      "execution_count": 493,
      "metadata": {
        "colab": {
          "base_uri": "https://localhost:8080/",
          "height": 411
        },
        "id": "kdeE2GPNDevB",
        "outputId": "e5908c16-e872-4037-c559-d1acf74e2e5c"
      },
      "outputs": [
        {
          "data": {
            "text/plain": [
              "(0.0, 7.0)"
            ]
          },
          "execution_count": 493,
          "metadata": {},
          "output_type": "execute_result"
        },
        {
          "data": {
            "image/png": "[encoded data removed]",
            "text/plain": [
              "<Figure size 936x432 with 1 Axes>"
            ]
          },
          "metadata": {},
          "output_type": "display_data"
        }
      ],
      "source": [
        "sns.histplot(data=train1,x=\"Day of Week\",kde=False)\n",
        "plt.xticks(np.arange(0, 7, step=1))\n",
        "plt.gcf().set_size_inches(13,6)\n",
        "plt.xlim(0,7)"
      ]
    },
    {
      "cell_type": "markdown",
      "metadata": {
        "id": "kFPrChBLDsxW"
      },
      "source": [
        "the demand of taxi does not depend much on the day of the week. It is nearly same for all the days but is a bit higher during the middle of the week"
      ]
    },
    {
      "cell_type": "markdown",
      "metadata": {
        "id": "yClerbVz4nxJ"
      },
      "source": [
        "**4. Does the distance affect the fare?**"
      ]
    },
    {
      "cell_type": "code",
      "execution_count": 445,
      "metadata": {
        "colab": {
          "base_uri": "https://localhost:8080/",
          "height": 297
        },
        "id": "WrN_D2cM9O31",
        "outputId": "af430ef6-d044-4328-9e73-9978ce8830c4"
      },
      "outputs": [
        {
          "data": {
            "text/plain": [
              "<matplotlib.axes._subplots.AxesSubplot at 0x7f1783f6ded0>"
            ]
          },
          "execution_count": 445,
          "metadata": {},
          "output_type": "execute_result"
        },
        {
          "data": {
            "image/png": "[encoded data removed]",
            "text/plain": [
              "<Figure size 432x288 with 1 Axes>"
            ]
          },
          "metadata": {
            "needs_background": "light"
          },
          "output_type": "display_data"
        }
      ],
      "source": [
        "sns.scatterplot(data=train1, x=\"fare_amount\", y=\"H_Distance\")"
      ]
    },
    {
      "cell_type": "code",
      "execution_count": 494,
      "metadata": {
        "colab": {
          "base_uri": "https://localhost:8080/",
          "height": 411
        },
        "id": "bTm8TSCt7Y6r",
        "outputId": "85ceb2b4-36ad-4287-aa06-9c2b220fc0de"
      },
      "outputs": [
        {
          "data": {
            "text/plain": [
              "(0.0, 30.0)"
            ]
          },
          "execution_count": 494,
          "metadata": {},
          "output_type": "execute_result"
        },
        {
          "data": {
            "image/png": "[encoded data removed]",
            "text/plain": [
              "<Figure size 936x432 with 1 Axes>"
            ]
          },
          "metadata": {},
          "output_type": "display_data"
        }
      ],
      "source": [
        "sns.histplot(data=train1,x=\"H_Distance\",kde=False)\n",
        "plt.xticks(np.arange(0, 30, step=5))\n",
        "plt.gcf().set_size_inches(13,6)\n",
        "plt.xlim(0,30)"
      ]
    },
    {
      "cell_type": "markdown",
      "metadata": {
        "id": "wbBWNEWE74j0"
      },
      "source": [
        "this shows that a very few people travel large distances. most travel small distances using taxi"
      ]
    },
    {
      "cell_type": "code",
      "execution_count": null,
      "metadata": {
        "colab": {
          "base_uri": "https://localhost:8080/"
        },
        "id": "1XM9IviPHi07",
        "outputId": "0a27445a-0ccf-4f1a-97de-13566fbdd07f"
      },
      "outputs": [
        {
          "name": "stdout",
          "output_type": "stream",
          "text": [
            "0          4.5\n",
            "1         16.9\n",
            "2          5.7\n",
            "3          7.7\n",
            "4          5.3\n",
            "          ... \n",
            "999995     7.0\n",
            "999996     7.3\n",
            "999997    10.5\n",
            "999998     6.9\n",
            "999999     4.1\n",
            "Name: fare_amount, Length: 973406, dtype: float64\n"
          ]
        }
      ],
      "source": [
        "train1_y=train1['fare_amount']\n",
        "print(train1_y)"
      ]
    },
    {
      "cell_type": "markdown",
      "metadata": {
        "id": "MT5LPefFEz9H"
      },
      "source": [
        "#B. Data Scaling:"
      ]
    },
    {
      "cell_type": "code",
      "execution_count": null,
      "metadata": {
        "colab": {
          "base_uri": "https://localhost:8080/",
          "height": 206
        },
        "id": "VYgC5LCqAwoV",
        "outputId": "7342822e-72b8-4b23-eaf6-d2739858bdda"
      },
      "outputs": [
        {
          "data": {
            "text/html": [
              "\n",
              "  <div id=\"df-8f7548d8-7891-4ad9-a940-3bf9931f0b5f\">\n",
              "    <div class=\"colab-df-container\">\n",
              "      <div>\n",
              "<style scoped>\n",
              "    .dataframe tbody tr th:only-of-type {\n",
              "        vertical-align: middle;\n",
              "    }\n",
              "\n",
              "    .dataframe tbody tr th {\n",
              "        vertical-align: top;\n",
              "    }\n",
              "\n",
              "    .dataframe thead th {\n",
              "        text-align: right;\n",
              "    }\n",
              "</style>\n",
              "<table border=\"1\" class=\"dataframe\">\n",
              "  <thead>\n",
              "    <tr style=\"text-align: right;\">\n",
              "      <th></th>\n",
              "      <th>passenger_count</th>\n",
              "      <th>H_Distance</th>\n",
              "      <th>Year</th>\n",
              "      <th>Month</th>\n",
              "      <th>Date</th>\n",
              "      <th>Day of Week</th>\n",
              "      <th>Hour</th>\n",
              "      <th>fare_amount</th>\n",
              "    </tr>\n",
              "  </thead>\n",
              "  <tbody>\n",
              "    <tr>\n",
              "      <th>0</th>\n",
              "      <td>0.166667</td>\n",
              "      <td>0.002426</td>\n",
              "      <td>0.000000</td>\n",
              "      <td>0.454545</td>\n",
              "      <td>0.466667</td>\n",
              "      <td>0.000000</td>\n",
              "      <td>0.739130</td>\n",
              "      <td>4.5</td>\n",
              "    </tr>\n",
              "    <tr>\n",
              "      <th>1</th>\n",
              "      <td>0.166667</td>\n",
              "      <td>0.019890</td>\n",
              "      <td>0.166667</td>\n",
              "      <td>0.000000</td>\n",
              "      <td>0.133333</td>\n",
              "      <td>0.166667</td>\n",
              "      <td>0.695652</td>\n",
              "      <td>16.9</td>\n",
              "    </tr>\n",
              "    <tr>\n",
              "      <th>2</th>\n",
              "      <td>0.333333</td>\n",
              "      <td>0.003271</td>\n",
              "      <td>0.333333</td>\n",
              "      <td>0.636364</td>\n",
              "      <td>0.566667</td>\n",
              "      <td>0.500000</td>\n",
              "      <td>0.000000</td>\n",
              "      <td>5.7</td>\n",
              "    </tr>\n",
              "    <tr>\n",
              "      <th>3</th>\n",
              "      <td>0.166667</td>\n",
              "      <td>0.006589</td>\n",
              "      <td>0.500000</td>\n",
              "      <td>0.272727</td>\n",
              "      <td>0.666667</td>\n",
              "      <td>0.833333</td>\n",
              "      <td>0.173913</td>\n",
              "      <td>7.7</td>\n",
              "    </tr>\n",
              "    <tr>\n",
              "      <th>4</th>\n",
              "      <td>0.166667</td>\n",
              "      <td>0.004706</td>\n",
              "      <td>0.166667</td>\n",
              "      <td>0.181818</td>\n",
              "      <td>0.266667</td>\n",
              "      <td>0.166667</td>\n",
              "      <td>0.304348</td>\n",
              "      <td>5.3</td>\n",
              "    </tr>\n",
              "  </tbody>\n",
              "</table>\n",
              "</div>\n",
              "      <button class=\"colab-df-convert\" onclick=\"convertToInteractive('df-8f7548d8-7891-4ad9-a940-3bf9931f0b5f')\"\n",
              "              title=\"Convert this dataframe to an interactive table.\"\n",
              "              style=\"display:none;\">\n",
              "        \n",
              "  <svg xmlns=\"http://www.w3.org/2000/svg\" height=\"24px\"viewBox=\"0 0 24 24\"\n",
              "       width=\"24px\">\n",
              "    <path d=\"M0 0h24v24H0V0z\" fill=\"none\"/>\n",
              "    <path d=\"M18.56 5.44l.94 2.06.94-2.06 2.06-.94-2.06-.94-.94-2.06-.94 2.06-2.06.94zm-11 1L8.5 8.5l.94-2.06 2.06-.94-2.06-.94L8.5 2.5l-.94 2.06-2.06.94zm10 10l.94 2.06.94-2.06 2.06-.94-2.06-.94-.94-2.06-.94 2.06-2.06.94z\"/><path d=\"M17.41 7.96l-1.37-1.37c-.4-.4-.92-.59-1.43-.59-.52 0-1.04.2-1.43.59L10.3 9.45l-7.72 7.72c-.78.78-.78 2.05 0 2.83L4 21.41c.39.39.9.59 1.41.59.51 0 1.02-.2 1.41-.59l7.78-7.78 2.81-2.81c.8-.78.8-2.07 0-2.86zM5.41 20L4 18.59l7.72-7.72 1.47 1.35L5.41 20z\"/>\n",
              "  </svg>\n",
              "      </button>\n",
              "      \n",
              "  <style>\n",
              "    .colab-df-container {\n",
              "      display:flex;\n",
              "      flex-wrap:wrap;\n",
              "      gap: 12px;\n",
              "    }\n",
              "\n",
              "    .colab-df-convert {\n",
              "      background-color: #E8F0FE;\n",
              "      border: none;\n",
              "      border-radius: 50%;\n",
              "      cursor: pointer;\n",
              "      display: none;\n",
              "      fill: #1967D2;\n",
              "      height: 32px;\n",
              "      padding: 0 0 0 0;\n",
              "      width: 32px;\n",
              "    }\n",
              "\n",
              "    .colab-df-convert:hover {\n",
              "      background-color: #E2EBFA;\n",
              "      box-shadow: 0px 1px 2px rgba(60, 64, 67, 0.3), 0px 1px 3px 1px rgba(60, 64, 67, 0.15);\n",
              "      fill: #174EA6;\n",
              "    }\n",
              "\n",
              "    [theme=dark] .colab-df-convert {\n",
              "      background-color: #3B4455;\n",
              "      fill: #D2E3FC;\n",
              "    }\n",
              "\n",
              "    [theme=dark] .colab-df-convert:hover {\n",
              "      background-color: #434B5C;\n",
              "      box-shadow: 0px 1px 3px 1px rgba(0, 0, 0, 0.15);\n",
              "      filter: drop-shadow(0px 1px 2px rgba(0, 0, 0, 0.3));\n",
              "      fill: #FFFFFF;\n",
              "    }\n",
              "  </style>\n",
              "\n",
              "      <script>\n",
              "        const buttonEl =\n",
              "          document.querySelector('#df-8f7548d8-7891-4ad9-a940-3bf9931f0b5f button.colab-df-convert');\n",
              "        buttonEl.style.display =\n",
              "          google.colab.kernel.accessAllowed ? 'block' : 'none';\n",
              "\n",
              "        async function convertToInteractive(key) {\n",
              "          const element = document.querySelector('#df-8f7548d8-7891-4ad9-a940-3bf9931f0b5f');\n",
              "          const dataTable =\n",
              "            await google.colab.kernel.invokeFunction('convertToInteractive',\n",
              "                                                     [key], {});\n",
              "          if (!dataTable) return;\n",
              "\n",
              "          const docLinkHtml = 'Like what you see? Visit the ' +\n",
              "            '<a target=\"_blank\" href=https://colab.research.google.com/notebooks/data_table.ipynb>data table notebook</a>'\n",
              "            + ' to learn more about interactive tables.';\n",
              "          element.innerHTML = '';\n",
              "          dataTable['output_type'] = 'display_data';\n",
              "          await google.colab.output.renderOutput(dataTable, element);\n",
              "          const docLink = document.createElement('div');\n",
              "          docLink.innerHTML = docLinkHtml;\n",
              "          element.appendChild(docLink);\n",
              "        }\n",
              "      </script>\n",
              "    </div>\n",
              "  </div>\n",
              "  "
            ],
            "text/plain": [
              "   passenger_count  H_Distance      Year     Month      Date  Day of Week  \\\n",
              "0         0.166667    0.002426  0.000000  0.454545  0.466667     0.000000   \n",
              "1         0.166667    0.019890  0.166667  0.000000  0.133333     0.166667   \n",
              "2         0.333333    0.003271  0.333333  0.636364  0.566667     0.500000   \n",
              "3         0.166667    0.006589  0.500000  0.272727  0.666667     0.833333   \n",
              "4         0.166667    0.004706  0.166667  0.181818  0.266667     0.166667   \n",
              "\n",
              "       Hour  fare_amount  \n",
              "0  0.739130          4.5  \n",
              "1  0.695652         16.9  \n",
              "2  0.000000          5.7  \n",
              "3  0.173913          7.7  \n",
              "4  0.304348          5.3  "
            ]
          },
          "execution_count": 441,
          "metadata": {},
          "output_type": "execute_result"
        }
      ],
      "source": [
        "#scaling\n",
        "\n",
        "from sklearn.preprocessing import MinMaxScaler\n",
        "scaler = MinMaxScaler()\n",
        "\n",
        "train_scaled=scaler.fit_transform(train1[['passenger_count','H_Distance','Year','Month','Date','Day of Week','Hour']]) \n",
        "train1=pd.DataFrame(train_scaled,columns=['passenger_count','H_Distance','Year','Month','Date','Day of Week','Hour'])\n",
        "train1['fare_amount']=train1_y\n",
        "train1.head()"
      ]
    },
    {
      "cell_type": "markdown",
      "metadata": {
        "id": "3MhydVT5E6dS"
      },
      "source": [
        "#C. Building a Pipeline:"
      ]
    },
    {
      "cell_type": "code",
      "execution_count": 446,
      "metadata": {
        "id": "bUiIzyya-Ydu"
      },
      "outputs": [],
      "source": [
        "train1_2=train.copy()\n",
        "test1_2=test.copy()"
      ]
    },
    {
      "cell_type": "code",
      "execution_count": 447,
      "metadata": {
        "id": "CN-BOEDj3R99"
      },
      "outputs": [],
      "source": [
        "#building a pipeline\n",
        "from sklearn.base import BaseEstimator, TransformerMixin\n",
        "from sklearn.pipeline import Pipeline\n",
        "from sklearn.preprocessing import StandardScaler\n",
        "from sklearn.preprocessing import MinMaxScaler\n",
        "\n"
      ]
    },
    {
      "cell_type": "code",
      "execution_count": 448,
      "metadata": {
        "id": "u3MTabskY8IL"
      },
      "outputs": [],
      "source": [
        "#drop NULL values\n",
        "class drop_null(BaseEstimator, TransformerMixin):\n",
        "    \n",
        "    def fit(self, X, y=None):\n",
        "        return self\n",
        "            \n",
        "    # Transform updates all NaN values with median\n",
        "    def transform(self, X):\n",
        "        return X.dropna(how='any')"
      ]
    },
    {
      "cell_type": "code",
      "execution_count": 449,
      "metadata": {
        "id": "lJIqQl9tDypS"
      },
      "outputs": [],
      "source": [
        "class removie_outliers(BaseEstimator, TransformerMixin):\n",
        "    \n",
        "    def fit(self, X, y=None):\n",
        "        return self\n",
        "            \n",
        "    # Transform updates all NaN values with median\n",
        "    def transform(self, X):\n",
        "        if('fare_amount' in X.columns):\n",
        "          X=X[(X['fare_amount']<350) & (X['fare_amount']>=3) ]\n",
        "        X=X[(X['pickup_longitude']>=-180) & (X['dropoff_longitude']>=-180) & (X['pickup_longitude']<=180) & (X['dropoff_longitude']<=180)]\n",
        "        X=X[(X['pickup_latitude']>=-90) & (X['dropoff_latitude']>=-90) & (X['pickup_latitude']<=90) & (X['dropoff_latitude']<=90)]\n",
        "        X=X[X['passenger_count']<=6]\n",
        "        X = X[(X['pickup_latitude']>40)&(X['pickup_latitude']<45)]\n",
        "        X = X[(X['dropoff_latitude']>40)&(X['dropoff_latitude']<45)]\n",
        "        train1 = X[(X['pickup_longitude']<-71)&(X['pickup_longitude']>-79)]\n",
        "        X = X[(X['dropoff_longitude']<-71)&(X['dropoff_longitude']>-79)]\n",
        "        return X"
      ]
    },
    {
      "cell_type": "code",
      "execution_count": 450,
      "metadata": {
        "id": "UfgbWYveTe5-"
      },
      "outputs": [],
      "source": [
        "def pipe_haversine_distance(i,lat1, long1, lat2, long2):\n",
        "   \n",
        "    \n",
        "        R = 6371  #radius of earth in kilometers\n",
        "        phi1 = np.radians(i[lat1])\n",
        "        phi2 = np.radians(i[lat2])\n",
        "    \n",
        "        delta_phi = np.radians(i[lat2]-i[lat1])\n",
        "        delta_lambda = np.radians(i[long2]-i[long1])\n",
        "    \n",
        "        #a = sin²((φB - φA)/2) + cos φA . cos φB . sin²((λB - λA)/2)\n",
        "        a = np.sin(delta_phi / 2.0) ** 2 + np.cos(phi1) * np.cos(phi2) * np.sin(delta_lambda / 2.0) ** 2\n",
        "    \n",
        "        #c = 2 * atan2( √a, √(1−a) )\n",
        "        c = 2 * np.arctan2(np.sqrt(a), np.sqrt(1-a))\n",
        "    \n",
        "        #d = R*c\n",
        "        d = (R * c) #in kilometers\n",
        "        i['H_Distance'] = d\n",
        "        return d\n",
        "\n"
      ]
    },
    {
      "cell_type": "code",
      "execution_count": 451,
      "metadata": {
        "id": "AVRT3uLleqN9"
      },
      "outputs": [],
      "source": [
        "train1_2['key'] = pd.to_datetime(train1_2['key'])\n",
        "train1_2['pickup_datetime']  = pd.to_datetime(train1_2['pickup_datetime'])\n",
        "\n",
        "test1_2['key'] = pd.to_datetime(test1_2['key'])\n",
        "test1_2['pickup_datetime']  = pd.to_datetime(test1_2['pickup_datetime'])"
      ]
    },
    {
      "cell_type": "code",
      "execution_count": 452,
      "metadata": {
        "id": "3TT5pLI1OOit"
      },
      "outputs": [],
      "source": [
        "#adding new_features\n",
        "class add_features(BaseEstimator, TransformerMixin):\n",
        "    # We are calculating three new features. we are taking which combinations to take or leave\n",
        "    def __init__(self, Year=True, Month=True, Date=True, Day_of_Week=True,Hour=True,H_Distance=True):\n",
        "        self.Year = Year\n",
        "        self.Month = Month\n",
        "        self.Date = Date\n",
        "        self.Day_of_Week= Day_of_Week\n",
        "        self.Hour=Hour\n",
        "        self.H_Distance=H_Distance\n",
        "    \n",
        "    # Fit have no work, as nothing to train or calclate\n",
        "    def fit(self, X, y=None):\n",
        "        return self\n",
        "    \n",
        "    # In transform, we are adding all new features\n",
        "    def transform(self, X):\n",
        "        \n",
        "        if self.Year:\n",
        "            X[\"Year\"] = X[\"pickup_datetime\"].dt.year\n",
        "        if self.Month:\n",
        "            X[\"Month\"] = X[\"pickup_datetime\"].dt.month\n",
        "        if self.Date:\n",
        "            X[\"Date\"] = X[\"pickup_datetime\"].dt.day\n",
        "        if self.Date:\n",
        "            X[\"Day_of_Week\"] = X[\"pickup_datetime\"].dt.dayofweek\n",
        "        if self.Date:\n",
        "            X[\"Hour\"] = X[\"pickup_datetime\"].dt.hour\n",
        "        if self.H_Distance:\n",
        "          pipe_haversine_distance(X,'pickup_latitude', 'pickup_longitude', 'dropoff_latitude', 'dropoff_longitude')\n",
        "        return X"
      ]
    },
    {
      "cell_type": "code",
      "execution_count": 453,
      "metadata": {
        "id": "Yx-Hb2lIX5rD"
      },
      "outputs": [],
      "source": [
        "#scaling\n",
        "class train_scaling(BaseEstimator, TransformerMixin):\n",
        "    \n",
        "    def fit(self, X, y=None):\n",
        "        return self\n",
        "            \n",
        "    # Transform updates all NaN values with median\n",
        "    def transform(self, X):\n",
        "      scaler = MinMaxScaler()\n",
        "      train_scaled_X=scaler.fit_transform(X[['passenger_count','H_Distance','Year','Month','Date','Day_of_Week','Hour']]) \n",
        "      Y_train=X['fare_amount']\n",
        "            \n",
        "      return train_scaled_X, Y_train"
      ]
    },
    {
      "cell_type": "code",
      "execution_count": 454,
      "metadata": {
        "id": "vwwf8Py2zq7L"
      },
      "outputs": [],
      "source": [
        "#scaling\n",
        "class test_scaling(BaseEstimator, TransformerMixin):\n",
        "    \n",
        "    def fit(self, X, y=None):\n",
        "        return self\n",
        "            \n",
        "    # Transform updates all NaN values with median\n",
        "    def transform(self, X):\n",
        "      scaler = StandardScaler()\n",
        "      test_scaled_X=scaler.fit_transform(X[['passenger_count','H_Distance','Year','Month','Date','Day_of_Week','Hour']]) \n",
        "            \n",
        "      return test_scaled_X"
      ]
    },
    {
      "cell_type": "code",
      "execution_count": 455,
      "metadata": {
        "colab": {
          "base_uri": "https://localhost:8080/"
        },
        "id": "NXhdtqK--_gs",
        "outputId": "2f680a32-4ef8-43a3-f82f-cb5238c4e8ad"
      },
      "outputs": [
        {
          "name": "stdout",
          "output_type": "stream",
          "text": [
            "(973513, 7)\n",
            "(973513,)\n"
          ]
        }
      ],
      "source": [
        "pre_pipe = Pipeline([\n",
        "    ('dropna', drop_null()),\n",
        "    ('remove', removie_outliers()),\n",
        "    ('add', add_features()),\n",
        "    ('scale', train_scaling())\n",
        "])\n",
        "\n",
        "pre_pipe_test = Pipeline([\n",
        "    ('add_test', add_features()),\n",
        "    ('scale_test', test_scaling())\n",
        "])\n",
        "\n",
        "\n",
        "# we are calling fit_transform() on pipeline, so the pipeline is learning parameters from input data.\n",
        "# Later it also transforms the input data as per the \"transform()\" definition of each object\n",
        "X_train,Y_train = pre_pipe.fit_transform(train1_2)\n",
        "test_prepared_X = pre_pipe_test.fit_transform(test1_2)\n",
        "\n",
        "print(X_train.shape)\n",
        "print(Y_train.shape)"
      ]
    },
    {
      "cell_type": "code",
      "execution_count": 456,
      "metadata": {
        "id": "vHy5cOyFdLLX"
      },
      "outputs": [],
      "source": [
        "from sklearn.linear_model import LinearRegression\n",
        "from sklearn.metrics import mean_squared_error, r2_score\n",
        "from sklearn.linear_model import SGDRegressor\n",
        "\n",
        "linear = LinearRegression()\n",
        "model= SGDRegressor()"
      ]
    },
    {
      "cell_type": "markdown",
      "metadata": {
        "id": "p_foJmncFBx0"
      },
      "source": [
        "#D. Use of Validation Set and Cross Validation Approach:"
      ]
    },
    {
      "cell_type": "code",
      "execution_count": 457,
      "metadata": {
        "colab": {
          "base_uri": "https://localhost:8080/"
        },
        "id": "4vVWaBuOZdcr",
        "outputId": "5b560253-e3a4-4012-da6d-1d782cf01e3e"
      },
      "outputs": [
        {
          "name": "stdout",
          "output_type": "stream",
          "text": [
            "RMSE:  [9.609235848927723, 9.63330362209234, 9.675884711726605, 9.649296182884598, 9.562033479036758, 9.450922781513754, 9.66583178338564, 9.591946373640244, 9.517396527173535, 9.64845820582334]\n",
            "r2:  [0.017034620839991188, 0.01613579227044004, 0.017489083024611607, 0.01765694020954567, 0.018012718438304542, 0.017698541802076972, 0.016744382274909375, 0.016944436318515166, 0.016666062757572986, 0.01553965003279234]\n",
            "AVG RMSE:  9.600430951620453\n",
            "AVG r2:  0.01699222279687599\n"
          ]
        }
      ],
      "source": [
        "from statistics import mean \n",
        "#k fold validation\n",
        "\n",
        "#we will assume k to be 5 as the data set is quite large\n",
        "k=10\n",
        "def k_fold(k,X_train,Y_train):\n",
        "\n",
        "  x = int(X_train.shape[0] / k)   # x is the size of each fold\n",
        "  Y_train=np.array(Y_train)                                                          \n",
        "\n",
        "  RMSE_kfold=[]\n",
        "  r2_kfold=[] \n",
        "  for i in range(k):\n",
        "    x_copy=X_train\n",
        "    y_copy=Y_train\n",
        "\n",
        "    fold_x=x_copy[x*i:x*(i+1)] \n",
        "    rest_data_x=np.delete(x_copy,slice(x*i, x*(i+1)),0) \n",
        "\n",
        "    fold_y=y_copy[x*i:x*(i+1)]\n",
        "    rest_data_y=np.delete(y_copy,slice(x*i, x*(i+1)),0) \n",
        "\n",
        "    model.fit(rest_data_x,rest_data_y)\n",
        "    y_predict = model.predict(fold_x)\n",
        "    r2_kfold.append(r2_score(fold_y, y_predict)) \n",
        "    RMSE_kfold.append(mean_squared_error(fold_y, y_predict, squared=False))\n",
        "  return RMSE_kfold,r2_kfold\n",
        "\n",
        "RMSE_kfold,r2_kfold=k_fold(10,X_train,Y_train)\n",
        "\n",
        "rmse_mean=mean(RMSE_kfold) \n",
        "r2_mean=mean(r2_kfold)\n",
        "print(\"RMSE: \",RMSE_kfold)\n",
        "print(\"r2: \",r2_kfold)\n",
        "print(\"AVG RMSE: \",rmse_mean)\n",
        "print(\"AVG r2: \",r2_mean)"
      ]
    },
    {
      "cell_type": "code",
      "execution_count": 495,
      "metadata": {
        "colab": {
          "base_uri": "https://localhost:8080/"
        },
        "id": "qQ5Ph_sRSvDy",
        "outputId": "937106fc-1cf5-445a-fcdd-7ab1ec426b85"
      },
      "outputs": [
        {
          "name": "stdout",
          "output_type": "stream",
          "text": [
            "Best Score: -5.911787842850507\n",
            "Best Hyperparameters: {'alpha': 0.0001}\n"
          ]
        }
      ],
      "source": [
        "from sklearn.model_selection import GridSearchCV \n",
        "\n",
        "param = {\n",
        "    'alpha':[0.0001, 0.001, 0.01, 0.1, 1, 10, 100, 1000]\n",
        "    }\n",
        " \n",
        "\n",
        "# define search\n",
        "search = GridSearchCV(model, param, scoring='neg_mean_absolute_error')\n",
        "\n",
        "# execute search\n",
        "result = search.fit(X_train, Y_train)\n",
        "\n",
        "# summarize result\n",
        "print('Best Score: %s' % result.best_score_)\n",
        "print('Best Hyperparameters: %s' % result.best_params_)"
      ]
    },
    {
      "cell_type": "code",
      "execution_count": 459,
      "metadata": {
        "id": "FckepH1LWN2r"
      },
      "outputs": [],
      "source": [
        "#This shows that alpha=0.0001 is the hyperparameter for our model stochastic gradient descent"
      ]
    },
    {
      "cell_type": "markdown",
      "metadata": {
        "id": "L2FEXBKuSGY1"
      },
      "source": [
        "# E. LINEAR REGRESION"
      ]
    },
    {
      "cell_type": "code",
      "execution_count": 248,
      "metadata": {
        "id": "fY2qWPVERZT1"
      },
      "outputs": [],
      "source": [
        "from sklearn.model_selection import train_test_split\n",
        "x_train_split, x_test_split, y_train_split, y_test_split = train_test_split(X_train, Y_train, test_size=0.2, random_state=0)"
      ]
    },
    {
      "cell_type": "markdown",
      "metadata": {
        "id": "JwwSL8nzYsEO"
      },
      "source": [
        "## A) Matrix Based:"
      ]
    },
    {
      "cell_type": "code",
      "execution_count": 498,
      "metadata": {
        "colab": {
          "base_uri": "https://localhost:8080/"
        },
        "id": "2xLBln8JMErI",
        "outputId": "cf7dc858-0f75-4207-f6bf-9e556e0868e5"
      },
      "outputs": [
        {
          "name": "stdout",
          "output_type": "stream",
          "text": [
            "r2 score: 0.018984155756350596\n",
            "rmse : 9.71430236792685\n"
          ]
        }
      ],
      "source": [
        "#using library\n",
        "linear.fit(x_train_split, y_train_split)\n",
        "y_train_predict = linear.predict(x_test_split)\n",
        "r2_train = r2_score(y_test_split, y_train_predict)\n",
        "RMSE_train = mean_squared_error(y_test_split, y_train_predict, squared=False)\n",
        "\n",
        "print(\"r2 score:\", r2_train)\n",
        "print(\"rmse :\" ,RMSE_train)"
      ]
    },
    {
      "cell_type": "code",
      "execution_count": 497,
      "metadata": {
        "colab": {
          "base_uri": "https://localhost:8080/"
        },
        "id": "5-_kvL0FPagW",
        "outputId": "2c181d11-15ff-42b3-f159-096cd9653dc5"
      },
      "outputs": [
        {
          "name": "stdout",
          "output_type": "stream",
          "text": [
            "the equation finally obtained: y=Wx where W is the following weight matrix\n",
            "[ 9.25971525e+00  5.66859211e-01  5.08857779e+01  3.73702447e+00\n",
            "  1.21273843e+00  1.12406707e-01 -1.51203896e-02 -6.92191647e-01]\n"
          ]
        }
      ],
      "source": [
        "#using matrix\n",
        "X_train.shape[0]\n",
        "ones = np.ones((X_train.shape[0],1))\n",
        "A = np.hstack((ones,X_train))\n",
        "w= np.dot(np.dot(np.linalg.inv(np.dot(A.T,A)),A.T), Y_train)\n",
        "\n",
        "#w is the equation finally obtained\n",
        "print(\"the equation finally obtained: y=Wx where W is the following weight matrix\")\n",
        "print(w)"
      ]
    },
    {
      "cell_type": "markdown",
      "metadata": {
        "id": "UJc8fc5WC_Wk"
      },
      "source": [
        "##B) Optimization Based:"
      ]
    },
    {
      "cell_type": "code",
      "execution_count": 496,
      "metadata": {
        "colab": {
          "base_uri": "https://localhost:8080/"
        },
        "id": "o60KmTncC-9h",
        "outputId": "c7f6f710-b8c3-4825-a401-42cbe96f4ee7"
      },
      "outputs": [
        {
          "name": "stdout",
          "output_type": "stream",
          "text": [
            "AVG rmse: 9.722289037886997\n",
            "AVG r2: 0.017370396930949772\n"
          ]
        }
      ],
      "source": [
        "from sklearn.linear_model import SGDRegressor\n",
        "sgd = SGDRegressor(alpha=0.0001)\n",
        "\n",
        "sgd.fit(x_train_split, y_train_split)\n",
        "y_predict_opt = sgd.predict(x_test_split)\n",
        "\n",
        "rmse_opt = mean_squared_error(y_test_split, y_predict_opt,squared=False)\n",
        "r2_opt = r2_score(y_test_split, y_predict_opt)\n",
        "print(\"AVG rmse:\", rmse_opt)\n",
        "print(\"AVG r2:\", r2_opt)\n"
      ]
    },
    {
      "cell_type": "markdown",
      "metadata": {
        "id": "6tnz8g5iDEw9"
      },
      "source": [
        "##C) Non-parametric"
      ]
    },
    {
      "cell_type": "code",
      "execution_count": 499,
      "metadata": {
        "colab": {
          "base_uri": "https://localhost:8080/"
        },
        "id": "gmnL5V-KDM9i",
        "outputId": "28e059ae-3c79-4769-d4f6-d66778eafe35"
      },
      "outputs": [
        {
          "name": "stdout",
          "output_type": "stream",
          "text": [
            "AVG rmse: 9.722289037886997\n",
            "AVG r2: 0.5555367432155334\n"
          ]
        }
      ],
      "source": [
        "from sklearn.tree import DecisionTreeRegressor\n",
        "\n",
        "regressor = DecisionTreeRegressor(random_state=0)\n",
        "regressor.fit(x_train_split, y_train_split)\n",
        "y_predict_nonpara = regressor.predict(x_test_split)\n",
        "\n",
        "rmse_nonpara = mean_squared_error(y_test_split, y_predict_opt,squared=False)\n",
        "r2_nonpara = r2_score(y_test_split, y_predict_nonpara)\n",
        "print(\"AVG rmse:\", rmse_nonpara)\n",
        "print(\"AVG r2:\", r2_nonpara)\n"
      ]
    },
    {
      "cell_type": "markdown",
      "metadata": {
        "id": "t7xPw2MBHPQX"
      },
      "source": [
        "##model testing"
      ]
    },
    {
      "cell_type": "code",
      "execution_count": 502,
      "metadata": {
        "colab": {
          "base_uri": "https://localhost:8080/"
        },
        "id": "2k_zYDXrFSW3",
        "outputId": "df66b892-6bbd-4cf9-c11e-fdc11e0c572a"
      },
      "outputs": [
        {
          "name": "stdout",
          "output_type": "stream",
          "text": [
            "[ -0.60591405   0.7019588  -27.54803473 ... 217.84537101  79.96307456\n",
            " -13.27772177]\n"
          ]
        }
      ],
      "source": [
        "#as RMSE is least with linear regression. we will use that model.\n",
        "linear.fit(X_train, Y_train)\n",
        "y_predict = linear.predict(test_prepared_X)\n",
        "\n",
        "print(y_predict)\n"
      ]
    }
  ],
  "metadata": {
    "colab": {
      "collapsed_sections": [],
      "name": "Assignment1_StarterCode.ipynb",
      "provenance": []
    },
    "gpuClass": "standard",
    "kernelspec": {
      "display_name": "Python 3.9.13 64-bit (microsoft store)",
      "language": "python",
      "name": "python3"
    },
    "language_info": {
      "codemirror_mode": {
        "name": "ipython",
        "version": 3
      },
      "file_extension": ".py",
      "mimetype": "text/x-python",
      "name": "python",
      "nbconvert_exporter": "python",
      "pygments_lexer": "ipython3",
      "version": "3.9.13"
    },
    "vscode": {
      "interpreter": {
        "hash": "5ff9e45661261b7020433eed6dc2707da6ac6425928c2581a6df1440f201719c"
      }
    }
  },
  "nbformat": 4,
  "nbformat_minor": 0
}
